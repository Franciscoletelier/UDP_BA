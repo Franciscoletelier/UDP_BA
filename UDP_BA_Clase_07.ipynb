{
  "cells": [
    {
      "cell_type": "markdown",
      "metadata": {
        "id": "jHt4VVsFEnew"
      },
      "source": [
        "![logo_fae_web.jpeg](data:image/jpeg;base64,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)\n",
        "\n"
      ]
    },
    {
      "cell_type": "markdown",
      "metadata": {
        "id": "yvpM01Wjyn2x"
      },
      "source": [
        "# UDP - Bussines Analytics 1\n",
        "# Solemne 01\n",
        "\n",
        "\n",
        "### Contenido de la clase:\n",
        "\n",
        "### Exploratory Data Analysis de Prueba 01\n",
        "\n",
        "### Contenido de la clase\n",
        "* Aspectos Generales\n",
        "* Preparación de la data"
      ]
    },
    {
      "cell_type": "markdown",
      "metadata": {
        "id": "kJij5qsb1OXb"
      },
      "source": [
        "## Hacia donde vamos...\n",
        "* Analítica Descriptiva:\n",
        "  * Preprocessing\n",
        "  * Exploratory Data Analysis\n",
        "    * Análisis Univariado: distribución normal?\n",
        "    * Test de comparación de médias: t-test, Chi2, KS, etc"
      ]
    },
    {
      "cell_type": "markdown",
      "metadata": {
        "id": "kZTtDD0oJDyM"
      },
      "source": [
        "### Instalación de la librería de estadísticas"
      ]
    },
    {
      "cell_type": "code",
      "execution_count": 163,
      "metadata": {
        "colab": {
          "base_uri": "https://localhost:8080/"
        },
        "id": "n4zL7ZXF8sUV",
        "outputId": "1c687648-136c-40e8-ddd5-1ad67c6a963c"
      },
      "outputs": [],
      "source": [
        "# Para instalarla debes sacar el signo #\n",
        "# ! pip install scipy"
      ]
    },
    {
      "cell_type": "code",
      "execution_count": 164,
      "metadata": {
        "id": "PCQcMbDiEYBr"
      },
      "outputs": [],
      "source": [
        "# Librerías de tratamiento de datos (las principales)\n",
        "import pandas as pd\n",
        "import numpy as np\n",
        "import missingno as msno\n",
        "\n",
        "\n",
        "# Librerías de gráficas\n",
        "import matplotlib.pyplot as plt\n",
        "import seaborn as sns\n",
        "# complementa algunas visualizaciones\n",
        "%matplotlib inline\n",
        "# apply some cool styling\n",
        "sns.set(color_codes=True)\n",
        "\n",
        "# Instalación de librería estadística\n",
        "from scipy import stats\n",
        "from scipy.stats import norm\n",
        "\n",
        "\n",
        "# Librerías de advertencias\n",
        "import warnings\n",
        "warnings.filterwarnings(\"ignore\")\n"
      ]
    },
    {
      "cell_type": "markdown",
      "metadata": {
        "id": "zTSBcqzjhaBi"
      },
      "source": [
        "### Importamos la data desde nuestro Drive\n",
        "\n",
        "1. from google.colab import drive\n",
        "2. drive.mount(\"/content/drive\")\n",
        "3. Permitir acceso a nuestro Google Colab\n",
        "4. link archivo\n"
      ]
    },
    {
      "cell_type": "code",
      "execution_count": 165,
      "metadata": {
        "colab": {
          "base_uri": "https://localhost:8080/"
        },
        "id": "AguH4-H0hhwT",
        "outputId": "6f3ebdda-3ad4-4e9e-d08b-c5150ac45f9c"
      },
      "outputs": [],
      "source": [
        "# from google.colab import drive\n",
        "# drive.mount(\"/content/drive\")\n",
        "# df = pd.read_csv(\"/content/drive/MyDrive/UDP_BA01/data_store.csv\",sep=\",\",encoding=\"latin-1\")\n",
        "\n",
        "# # To display the top 5 rows\n",
        "# df.head(5)"
      ]
    },
    {
      "cell_type": "code",
      "execution_count": 166,
      "metadata": {},
      "outputs": [],
      "source": [
        "# Cargar datos desde un repositorio de github\n",
        "\n",
        "\n",
        "# Cargar datos desde un repositorio de github\n",
        "# url = \"https://raw.githubusercontent.com/Franciscoletelier/UDP_BA/master/data_store.csv\"\n",
        "# df = pd.read_csv(url,sep=\",\",encoding=\"latin-1\")\n",
        "\n",
        "# Ayuda para corregir este error\n",
        "# URLError: <urlopen error [SSL: CERTIFICATE_VERIFY_FAILED] certificate verify failed: unable to get local issuer certificate (_ssl.c:997)>\n",
        "# Output is truncated. View as a scrollable element or open in a text editor. Adjust cell output settings...\n",
        "\n",
        "\n",
        "\n",
        "\n"
      ]
    },
    {
      "cell_type": "code",
      "execution_count": 167,
      "metadata": {
        "colab": {
          "base_uri": "https://localhost:8080/",
          "height": 585
        },
        "id": "X2zovbrFgQVJ",
        "outputId": "1227a94d-0b3a-4ba8-e0b3-93a75ca0ce09"
      },
      "outputs": [
        {
          "data": {
            "text/html": [
              "<div>\n",
              "<style scoped>\n",
              "    .dataframe tbody tr th:only-of-type {\n",
              "        vertical-align: middle;\n",
              "    }\n",
              "\n",
              "    .dataframe tbody tr th {\n",
              "        vertical-align: top;\n",
              "    }\n",
              "\n",
              "    .dataframe thead th {\n",
              "        text-align: right;\n",
              "    }\n",
              "</style>\n",
              "<table border=\"1\" class=\"dataframe\">\n",
              "  <thead>\n",
              "    <tr style=\"text-align: right;\">\n",
              "      <th></th>\n",
              "      <th>Row ID</th>\n",
              "      <th>Order ID</th>\n",
              "      <th>Order Date</th>\n",
              "      <th>Ship Date</th>\n",
              "      <th>Ship Mode</th>\n",
              "      <th>Customer ID</th>\n",
              "      <th>Customer Name</th>\n",
              "      <th>Segment</th>\n",
              "      <th>Country</th>\n",
              "      <th>City</th>\n",
              "      <th>...</th>\n",
              "      <th>Postal Code</th>\n",
              "      <th>Region</th>\n",
              "      <th>Product ID</th>\n",
              "      <th>Category</th>\n",
              "      <th>Sub-Category</th>\n",
              "      <th>Product Name</th>\n",
              "      <th>Sales</th>\n",
              "      <th>Quantity</th>\n",
              "      <th>Discount</th>\n",
              "      <th>Profit</th>\n",
              "    </tr>\n",
              "  </thead>\n",
              "  <tbody>\n",
              "    <tr>\n",
              "      <th>183</th>\n",
              "      <td>184</td>\n",
              "      <td>CA-2014-158274</td>\n",
              "      <td>11/19/2014</td>\n",
              "      <td>11/24/2014</td>\n",
              "      <td>Second Class</td>\n",
              "      <td>RM-19675</td>\n",
              "      <td>Robert Marley</td>\n",
              "      <td>Home Office</td>\n",
              "      <td>United States</td>\n",
              "      <td>Monroe</td>\n",
              "      <td>...</td>\n",
              "      <td>71203</td>\n",
              "      <td>South</td>\n",
              "      <td>TEC-PH-10004896</td>\n",
              "      <td>Technology</td>\n",
              "      <td>Phones</td>\n",
              "      <td>Nokia Lumia 521 (T-Mobile)</td>\n",
              "      <td>149.950</td>\n",
              "      <td>5</td>\n",
              "      <td>0.0</td>\n",
              "      <td>41.9860</td>\n",
              "    </tr>\n",
              "    <tr>\n",
              "      <th>6570</th>\n",
              "      <td>6571</td>\n",
              "      <td>CA-2014-100678</td>\n",
              "      <td>4/18/2014</td>\n",
              "      <td>4/22/2014</td>\n",
              "      <td>Standard Class</td>\n",
              "      <td>KM-16720</td>\n",
              "      <td>Kunst Miller</td>\n",
              "      <td>Consumer</td>\n",
              "      <td>United States</td>\n",
              "      <td>Houston</td>\n",
              "      <td>...</td>\n",
              "      <td>77095</td>\n",
              "      <td>Central</td>\n",
              "      <td>OFF-EN-10000056</td>\n",
              "      <td>Office Supplies</td>\n",
              "      <td>Envelopes</td>\n",
              "      <td>Cameo Buff Policy Envelopes</td>\n",
              "      <td>149.352</td>\n",
              "      <td>3</td>\n",
              "      <td>0.2</td>\n",
              "      <td>50.4063</td>\n",
              "    </tr>\n",
              "    <tr>\n",
              "      <th>5211</th>\n",
              "      <td>5212</td>\n",
              "      <td>CA-2015-130876</td>\n",
              "      <td>5/12/2015</td>\n",
              "      <td>5/16/2015</td>\n",
              "      <td>Second Class</td>\n",
              "      <td>AZ-10750</td>\n",
              "      <td>Annie Zypern</td>\n",
              "      <td>Consumer</td>\n",
              "      <td>United States</td>\n",
              "      <td>New York City</td>\n",
              "      <td>...</td>\n",
              "      <td>10024</td>\n",
              "      <td>East</td>\n",
              "      <td>OFF-ST-10004258</td>\n",
              "      <td>Office Supplies</td>\n",
              "      <td>Storage</td>\n",
              "      <td>Portable Personal File Box</td>\n",
              "      <td>36.630</td>\n",
              "      <td>3</td>\n",
              "      <td>0.0</td>\n",
              "      <td>9.8901</td>\n",
              "    </tr>\n",
              "    <tr>\n",
              "      <th>1924</th>\n",
              "      <td>1925</td>\n",
              "      <td>CA-2017-126865</td>\n",
              "      <td>12/5/2017</td>\n",
              "      <td>12/7/2017</td>\n",
              "      <td>Second Class</td>\n",
              "      <td>NP-18325</td>\n",
              "      <td>Naresj Patel</td>\n",
              "      <td>Consumer</td>\n",
              "      <td>United States</td>\n",
              "      <td>San Diego</td>\n",
              "      <td>...</td>\n",
              "      <td>92024</td>\n",
              "      <td>West</td>\n",
              "      <td>OFF-PA-10003039</td>\n",
              "      <td>Office Supplies</td>\n",
              "      <td>Paper</td>\n",
              "      <td>Xerox 1960</td>\n",
              "      <td>92.940</td>\n",
              "      <td>3</td>\n",
              "      <td>0.0</td>\n",
              "      <td>41.8230</td>\n",
              "    </tr>\n",
              "    <tr>\n",
              "      <th>9621</th>\n",
              "      <td>9622</td>\n",
              "      <td>CA-2014-115133</td>\n",
              "      <td>9/26/2014</td>\n",
              "      <td>9/30/2014</td>\n",
              "      <td>Standard Class</td>\n",
              "      <td>DA-13450</td>\n",
              "      <td>Dianna Arnett</td>\n",
              "      <td>Home Office</td>\n",
              "      <td>United States</td>\n",
              "      <td>Lancaster</td>\n",
              "      <td>...</td>\n",
              "      <td>43130</td>\n",
              "      <td>East</td>\n",
              "      <td>TEC-AC-10002370</td>\n",
              "      <td>Technology</td>\n",
              "      <td>Accessories</td>\n",
              "      <td>Maxell CD-R Discs</td>\n",
              "      <td>3.152</td>\n",
              "      <td>2</td>\n",
              "      <td>0.2</td>\n",
              "      <td>0.4728</td>\n",
              "    </tr>\n",
              "    <tr>\n",
              "      <th>6354</th>\n",
              "      <td>6355</td>\n",
              "      <td>US-2015-109015</td>\n",
              "      <td>9/6/2015</td>\n",
              "      <td>9/12/2015</td>\n",
              "      <td>Standard Class</td>\n",
              "      <td>BS-11590</td>\n",
              "      <td>Brendan Sweed</td>\n",
              "      <td>Corporate</td>\n",
              "      <td>United States</td>\n",
              "      <td>New York City</td>\n",
              "      <td>...</td>\n",
              "      <td>10011</td>\n",
              "      <td>East</td>\n",
              "      <td>TEC-PH-10002922</td>\n",
              "      <td>Technology</td>\n",
              "      <td>Phones</td>\n",
              "      <td>ShoreTel ShorePhone IP 230 VoIP phone</td>\n",
              "      <td>337.980</td>\n",
              "      <td>2</td>\n",
              "      <td>0.0</td>\n",
              "      <td>101.3940</td>\n",
              "    </tr>\n",
              "    <tr>\n",
              "      <th>73</th>\n",
              "      <td>74</td>\n",
              "      <td>US-2015-134026</td>\n",
              "      <td>4/26/2015</td>\n",
              "      <td>5/2/2015</td>\n",
              "      <td>Standard Class</td>\n",
              "      <td>JE-15745</td>\n",
              "      <td>Joel Eaton</td>\n",
              "      <td>Consumer</td>\n",
              "      <td>United States</td>\n",
              "      <td>Memphis</td>\n",
              "      <td>...</td>\n",
              "      <td>38109</td>\n",
              "      <td>South</td>\n",
              "      <td>FUR-FU-10003708</td>\n",
              "      <td>Furniture</td>\n",
              "      <td>Furnishings</td>\n",
              "      <td>Tenex Traditional Chairmats for Medium Pile Ca...</td>\n",
              "      <td>97.040</td>\n",
              "      <td>2</td>\n",
              "      <td>0.2</td>\n",
              "      <td>1.2130</td>\n",
              "    </tr>\n",
              "    <tr>\n",
              "      <th>8770</th>\n",
              "      <td>8771</td>\n",
              "      <td>CA-2016-151148</td>\n",
              "      <td>9/12/2016</td>\n",
              "      <td>9/13/2016</td>\n",
              "      <td>Same Day</td>\n",
              "      <td>PO-19180</td>\n",
              "      <td>Philisse Overcash</td>\n",
              "      <td>Home Office</td>\n",
              "      <td>United States</td>\n",
              "      <td>Louisville</td>\n",
              "      <td>...</td>\n",
              "      <td>80027</td>\n",
              "      <td>West</td>\n",
              "      <td>FUR-CH-10002304</td>\n",
              "      <td>Furniture</td>\n",
              "      <td>Chairs</td>\n",
              "      <td>Global Stack Chair without Arms, Black</td>\n",
              "      <td>83.136</td>\n",
              "      <td>4</td>\n",
              "      <td>0.2</td>\n",
              "      <td>5.1960</td>\n",
              "    </tr>\n",
              "    <tr>\n",
              "      <th>6221</th>\n",
              "      <td>6222</td>\n",
              "      <td>US-2017-157224</td>\n",
              "      <td>9/14/2017</td>\n",
              "      <td>9/18/2017</td>\n",
              "      <td>Second Class</td>\n",
              "      <td>JB-16000</td>\n",
              "      <td>Joy Bell-</td>\n",
              "      <td>Consumer</td>\n",
              "      <td>United States</td>\n",
              "      <td>Los Angeles</td>\n",
              "      <td>...</td>\n",
              "      <td>90045</td>\n",
              "      <td>West</td>\n",
              "      <td>OFF-LA-10000121</td>\n",
              "      <td>Office Supplies</td>\n",
              "      <td>Labels</td>\n",
              "      <td>Avery 48</td>\n",
              "      <td>56.700</td>\n",
              "      <td>9</td>\n",
              "      <td>0.0</td>\n",
              "      <td>26.0820</td>\n",
              "    </tr>\n",
              "    <tr>\n",
              "      <th>9628</th>\n",
              "      <td>9629</td>\n",
              "      <td>CA-2014-118192</td>\n",
              "      <td>1/13/2014</td>\n",
              "      <td>1/18/2014</td>\n",
              "      <td>Standard Class</td>\n",
              "      <td>MM-17920</td>\n",
              "      <td>Michael Moore</td>\n",
              "      <td>Consumer</td>\n",
              "      <td>United States</td>\n",
              "      <td>Newark</td>\n",
              "      <td>...</td>\n",
              "      <td>43055</td>\n",
              "      <td>East</td>\n",
              "      <td>OFF-PA-10002947</td>\n",
              "      <td>Office Supplies</td>\n",
              "      <td>Paper</td>\n",
              "      <td>Xerox 1923</td>\n",
              "      <td>37.408</td>\n",
              "      <td>7</td>\n",
              "      <td>0.2</td>\n",
              "      <td>13.0928</td>\n",
              "    </tr>\n",
              "  </tbody>\n",
              "</table>\n",
              "<p>10 rows × 21 columns</p>\n",
              "</div>"
            ],
            "text/plain": [
              "      Row ID        Order ID  Order Date   Ship Date       Ship Mode  \\\n",
              "183      184  CA-2014-158274  11/19/2014  11/24/2014    Second Class   \n",
              "6570    6571  CA-2014-100678   4/18/2014   4/22/2014  Standard Class   \n",
              "5211    5212  CA-2015-130876   5/12/2015   5/16/2015    Second Class   \n",
              "1924    1925  CA-2017-126865   12/5/2017   12/7/2017    Second Class   \n",
              "9621    9622  CA-2014-115133   9/26/2014   9/30/2014  Standard Class   \n",
              "6354    6355  US-2015-109015    9/6/2015   9/12/2015  Standard Class   \n",
              "73        74  US-2015-134026   4/26/2015    5/2/2015  Standard Class   \n",
              "8770    8771  CA-2016-151148   9/12/2016   9/13/2016        Same Day   \n",
              "6221    6222  US-2017-157224   9/14/2017   9/18/2017    Second Class   \n",
              "9628    9629  CA-2014-118192   1/13/2014   1/18/2014  Standard Class   \n",
              "\n",
              "     Customer ID      Customer Name      Segment        Country  \\\n",
              "183     RM-19675      Robert Marley  Home Office  United States   \n",
              "6570    KM-16720       Kunst Miller     Consumer  United States   \n",
              "5211    AZ-10750       Annie Zypern     Consumer  United States   \n",
              "1924    NP-18325       Naresj Patel     Consumer  United States   \n",
              "9621    DA-13450      Dianna Arnett  Home Office  United States   \n",
              "6354    BS-11590      Brendan Sweed    Corporate  United States   \n",
              "73      JE-15745         Joel Eaton     Consumer  United States   \n",
              "8770    PO-19180  Philisse Overcash  Home Office  United States   \n",
              "6221    JB-16000          Joy Bell-     Consumer  United States   \n",
              "9628    MM-17920      Michael Moore     Consumer  United States   \n",
              "\n",
              "               City  ... Postal Code   Region       Product ID  \\\n",
              "183          Monroe  ...       71203    South  TEC-PH-10004896   \n",
              "6570        Houston  ...       77095  Central  OFF-EN-10000056   \n",
              "5211  New York City  ...       10024     East  OFF-ST-10004258   \n",
              "1924      San Diego  ...       92024     West  OFF-PA-10003039   \n",
              "9621      Lancaster  ...       43130     East  TEC-AC-10002370   \n",
              "6354  New York City  ...       10011     East  TEC-PH-10002922   \n",
              "73          Memphis  ...       38109    South  FUR-FU-10003708   \n",
              "8770     Louisville  ...       80027     West  FUR-CH-10002304   \n",
              "6221    Los Angeles  ...       90045     West  OFF-LA-10000121   \n",
              "9628         Newark  ...       43055     East  OFF-PA-10002947   \n",
              "\n",
              "             Category Sub-Category  \\\n",
              "183        Technology       Phones   \n",
              "6570  Office Supplies    Envelopes   \n",
              "5211  Office Supplies      Storage   \n",
              "1924  Office Supplies        Paper   \n",
              "9621       Technology  Accessories   \n",
              "6354       Technology       Phones   \n",
              "73          Furniture  Furnishings   \n",
              "8770        Furniture       Chairs   \n",
              "6221  Office Supplies       Labels   \n",
              "9628  Office Supplies        Paper   \n",
              "\n",
              "                                           Product Name    Sales  Quantity  \\\n",
              "183                          Nokia Lumia 521 (T-Mobile)  149.950         5   \n",
              "6570                        Cameo Buff Policy Envelopes  149.352         3   \n",
              "5211                         Portable Personal File Box   36.630         3   \n",
              "1924                                         Xerox 1960   92.940         3   \n",
              "9621                                  Maxell CD-R Discs    3.152         2   \n",
              "6354              ShoreTel ShorePhone IP 230 VoIP phone  337.980         2   \n",
              "73    Tenex Traditional Chairmats for Medium Pile Ca...   97.040         2   \n",
              "8770             Global Stack Chair without Arms, Black   83.136         4   \n",
              "6221                                           Avery 48   56.700         9   \n",
              "9628                                         Xerox 1923   37.408         7   \n",
              "\n",
              "      Discount    Profit  \n",
              "183        0.0   41.9860  \n",
              "6570       0.2   50.4063  \n",
              "5211       0.0    9.8901  \n",
              "1924       0.0   41.8230  \n",
              "9621       0.2    0.4728  \n",
              "6354       0.0  101.3940  \n",
              "73         0.2    1.2130  \n",
              "8770       0.2    5.1960  \n",
              "6221       0.0   26.0820  \n",
              "9628       0.2   13.0928  \n",
              "\n",
              "[10 rows x 21 columns]"
            ]
          },
          "execution_count": 167,
          "metadata": {},
          "output_type": "execute_result"
        }
      ],
      "source": [
        "# Data Local\n",
        "df = pd.read_csv(\"/Users/franciscoletelier/Dropbox (Personal)/UDP/UDP_BA/data_store.csv\",sep=\",\",encoding=\"latin-1\")\n",
        "df.sample(10)\n",
        "\n",
        "\n",
        "\n",
        "# Data desde Github\n",
        "# df = pd.read_csv(\"data_store.csv\",sep=\",\",encoding=\"latin-1\")\n",
        "# df.sample(10)\n"
      ]
    },
    {
      "cell_type": "markdown",
      "metadata": {
        "id": "98qjC_KTsTqi"
      },
      "source": [
        "# Prepocesamiento de la data\n",
        "## Variable Objetivo: Profit"
      ]
    },
    {
      "cell_type": "markdown",
      "metadata": {},
      "source": [
        "### Eliminación de columnas innecesarías"
      ]
    },
    {
      "cell_type": "code",
      "execution_count": 168,
      "metadata": {
        "colab": {
          "base_uri": "https://localhost:8080/",
          "height": 293
        },
        "id": "IMOgGLPBgQOX",
        "outputId": "048f735b-1c13-4e37-8fb2-e5a6a6ce9e0f"
      },
      "outputs": [
        {
          "data": {
            "text/html": [
              "<div>\n",
              "<style scoped>\n",
              "    .dataframe tbody tr th:only-of-type {\n",
              "        vertical-align: middle;\n",
              "    }\n",
              "\n",
              "    .dataframe tbody tr th {\n",
              "        vertical-align: top;\n",
              "    }\n",
              "\n",
              "    .dataframe thead th {\n",
              "        text-align: right;\n",
              "    }\n",
              "</style>\n",
              "<table border=\"1\" class=\"dataframe\">\n",
              "  <thead>\n",
              "    <tr style=\"text-align: right;\">\n",
              "      <th></th>\n",
              "      <th>Row ID</th>\n",
              "      <th>Order Date</th>\n",
              "      <th>Ship Date</th>\n",
              "      <th>Ship Mode</th>\n",
              "      <th>Segment</th>\n",
              "      <th>City</th>\n",
              "      <th>State</th>\n",
              "      <th>Region</th>\n",
              "      <th>Category</th>\n",
              "      <th>Sub-Category</th>\n",
              "      <th>Product Name</th>\n",
              "      <th>Sales</th>\n",
              "      <th>Quantity</th>\n",
              "      <th>Discount</th>\n",
              "      <th>Profit</th>\n",
              "    </tr>\n",
              "  </thead>\n",
              "  <tbody>\n",
              "    <tr>\n",
              "      <th>0</th>\n",
              "      <td>1</td>\n",
              "      <td>11/8/2016</td>\n",
              "      <td>11/11/2016</td>\n",
              "      <td>Second Class</td>\n",
              "      <td>Consumer</td>\n",
              "      <td>Henderson</td>\n",
              "      <td>Kentucky</td>\n",
              "      <td>South</td>\n",
              "      <td>Furniture</td>\n",
              "      <td>Bookcases</td>\n",
              "      <td>Bush Somerset Collection Bookcase</td>\n",
              "      <td>261.9600</td>\n",
              "      <td>2</td>\n",
              "      <td>0.00</td>\n",
              "      <td>41.9136</td>\n",
              "    </tr>\n",
              "    <tr>\n",
              "      <th>1</th>\n",
              "      <td>2</td>\n",
              "      <td>11/8/2016</td>\n",
              "      <td>11/11/2016</td>\n",
              "      <td>Second Class</td>\n",
              "      <td>Consumer</td>\n",
              "      <td>Henderson</td>\n",
              "      <td>Kentucky</td>\n",
              "      <td>South</td>\n",
              "      <td>Furniture</td>\n",
              "      <td>Chairs</td>\n",
              "      <td>Hon Deluxe Fabric Upholstered Stacking Chairs,...</td>\n",
              "      <td>731.9400</td>\n",
              "      <td>3</td>\n",
              "      <td>0.00</td>\n",
              "      <td>219.5820</td>\n",
              "    </tr>\n",
              "    <tr>\n",
              "      <th>2</th>\n",
              "      <td>3</td>\n",
              "      <td>6/12/2016</td>\n",
              "      <td>6/16/2016</td>\n",
              "      <td>Second Class</td>\n",
              "      <td>Corporate</td>\n",
              "      <td>Los Angeles</td>\n",
              "      <td>California</td>\n",
              "      <td>West</td>\n",
              "      <td>Office Supplies</td>\n",
              "      <td>Labels</td>\n",
              "      <td>Self-Adhesive Address Labels for Typewriters b...</td>\n",
              "      <td>14.6200</td>\n",
              "      <td>2</td>\n",
              "      <td>0.00</td>\n",
              "      <td>6.8714</td>\n",
              "    </tr>\n",
              "    <tr>\n",
              "      <th>3</th>\n",
              "      <td>4</td>\n",
              "      <td>10/11/2015</td>\n",
              "      <td>10/18/2015</td>\n",
              "      <td>Standard Class</td>\n",
              "      <td>Consumer</td>\n",
              "      <td>Fort Lauderdale</td>\n",
              "      <td>Florida</td>\n",
              "      <td>South</td>\n",
              "      <td>Furniture</td>\n",
              "      <td>Tables</td>\n",
              "      <td>Bretford CR4500 Series Slim Rectangular Table</td>\n",
              "      <td>957.5775</td>\n",
              "      <td>5</td>\n",
              "      <td>0.45</td>\n",
              "      <td>-383.0310</td>\n",
              "    </tr>\n",
              "    <tr>\n",
              "      <th>4</th>\n",
              "      <td>5</td>\n",
              "      <td>10/11/2015</td>\n",
              "      <td>10/18/2015</td>\n",
              "      <td>Standard Class</td>\n",
              "      <td>Consumer</td>\n",
              "      <td>Fort Lauderdale</td>\n",
              "      <td>Florida</td>\n",
              "      <td>South</td>\n",
              "      <td>Office Supplies</td>\n",
              "      <td>Storage</td>\n",
              "      <td>Eldon Fold 'N Roll Cart System</td>\n",
              "      <td>22.3680</td>\n",
              "      <td>2</td>\n",
              "      <td>0.20</td>\n",
              "      <td>2.5164</td>\n",
              "    </tr>\n",
              "  </tbody>\n",
              "</table>\n",
              "</div>"
            ],
            "text/plain": [
              "   Row ID  Order Date   Ship Date       Ship Mode    Segment             City  \\\n",
              "0       1   11/8/2016  11/11/2016    Second Class   Consumer        Henderson   \n",
              "1       2   11/8/2016  11/11/2016    Second Class   Consumer        Henderson   \n",
              "2       3   6/12/2016   6/16/2016    Second Class  Corporate      Los Angeles   \n",
              "3       4  10/11/2015  10/18/2015  Standard Class   Consumer  Fort Lauderdale   \n",
              "4       5  10/11/2015  10/18/2015  Standard Class   Consumer  Fort Lauderdale   \n",
              "\n",
              "        State Region         Category Sub-Category  \\\n",
              "0    Kentucky  South        Furniture    Bookcases   \n",
              "1    Kentucky  South        Furniture       Chairs   \n",
              "2  California   West  Office Supplies       Labels   \n",
              "3     Florida  South        Furniture       Tables   \n",
              "4     Florida  South  Office Supplies      Storage   \n",
              "\n",
              "                                        Product Name     Sales  Quantity  \\\n",
              "0                  Bush Somerset Collection Bookcase  261.9600         2   \n",
              "1  Hon Deluxe Fabric Upholstered Stacking Chairs,...  731.9400         3   \n",
              "2  Self-Adhesive Address Labels for Typewriters b...   14.6200         2   \n",
              "3      Bretford CR4500 Series Slim Rectangular Table  957.5775         5   \n",
              "4                     Eldon Fold 'N Roll Cart System   22.3680         2   \n",
              "\n",
              "   Discount    Profit  \n",
              "0      0.00   41.9136  \n",
              "1      0.00  219.5820  \n",
              "2      0.00    6.8714  \n",
              "3      0.45 -383.0310  \n",
              "4      0.20    2.5164  "
            ]
          },
          "execution_count": 168,
          "metadata": {},
          "output_type": "execute_result"
        }
      ],
      "source": [
        "# Se eliminan las columnas que no se usarán (drop)\n",
        "df = df.drop(['Customer ID','Customer Name', 'Order ID', 'Country', 'Postal Code', 'Product ID'],axis=1)\n",
        "df.head(5)"
      ]
    },
    {
      "cell_type": "code",
      "execution_count": 169,
      "metadata": {
        "colab": {
          "base_uri": "https://localhost:8080/",
          "height": 768
        },
        "id": "wWqVBimagQJK",
        "outputId": "4e67c107-d073-4376-dc05-6f28ea8403d9"
      },
      "outputs": [
        {
          "data": {
            "text/plain": [
              "<AxesSubplot: >"
            ]
          },
          "execution_count": 169,
          "metadata": {},
          "output_type": "execute_result"
        },
        {
          "data": {
            "image/png": "[encoded data removed]",
            "text/plain": [
              "<Figure size 1800x720 with 2 Axes>"
            ]
          },
          "metadata": {},
          "output_type": "display_data"
        }
      ],
      "source": [
        "msno.matrix(df)"
      ]
    },
    {
      "cell_type": "code",
      "execution_count": 170,
      "metadata": {
        "colab": {
          "base_uri": "https://localhost:8080/"
        },
        "id": "aazzTU98uEI9",
        "outputId": "f2f740da-af4a-40ad-fe49-da6a8871d51a"
      },
      "outputs": [
        {
          "name": "stdout",
          "output_type": "stream",
          "text": [
            "Row ID          0\n",
            "Order Date      0\n",
            "Ship Date       0\n",
            "Ship Mode       0\n",
            "Segment         0\n",
            "City            0\n",
            "State           0\n",
            "Region          0\n",
            "Category        0\n",
            "Sub-Category    0\n",
            "Product Name    0\n",
            "Sales           0\n",
            "Quantity        0\n",
            "Discount        0\n",
            "Profit          0\n",
            "dtype: int64\n"
          ]
        }
      ],
      "source": [
        "print(df.isnull().sum())"
      ]
    },
    {
      "cell_type": "code",
      "execution_count": 171,
      "metadata": {
        "colab": {
          "base_uri": "https://localhost:8080/"
        },
        "id": "alPxw9lKuRKP",
        "outputId": "7791e267-1701-4722-e09f-e7ab05af46a2"
      },
      "outputs": [
        {
          "name": "stdout",
          "output_type": "stream",
          "text": [
            "Row ID          0\n",
            "Order Date      0\n",
            "Ship Date       0\n",
            "Ship Mode       0\n",
            "Segment         0\n",
            "City            0\n",
            "State           0\n",
            "Region          0\n",
            "Category        0\n",
            "Sub-Category    0\n",
            "Product Name    0\n",
            "Sales           0\n",
            "Quantity        0\n",
            "Discount        0\n",
            "Profit          0\n",
            "dtype: int64\n"
          ]
        }
      ],
      "source": [
        "print(df.isna().sum())"
      ]
    },
    {
      "cell_type": "code",
      "execution_count": 172,
      "metadata": {
        "colab": {
          "base_uri": "https://localhost:8080/"
        },
        "id": "eXLQDQrNuV-o",
        "outputId": "d4c5404a-c11e-4d73-95f5-bb457920f961"
      },
      "outputs": [
        {
          "data": {
            "text/plain": [
              "(9994, 15)"
            ]
          },
          "execution_count": 172,
          "metadata": {},
          "output_type": "execute_result"
        }
      ],
      "source": [
        "df.shape"
      ]
    },
    {
      "cell_type": "code",
      "execution_count": 173,
      "metadata": {
        "colab": {
          "base_uri": "https://localhost:8080/"
        },
        "id": "tnZlZ96YvoNL",
        "outputId": "07642532-07f0-4811-9287-7697302d95df"
      },
      "outputs": [
        {
          "data": {
            "text/plain": [
              "Index(['Row ID', 'Order Date', 'Ship Date', 'Ship Mode', 'Segment', 'City',\n",
              "       'State', 'Region', 'Category', 'Sub-Category', 'Product Name', 'Sales',\n",
              "       'Quantity', 'Discount', 'Profit'],\n",
              "      dtype='object')"
            ]
          },
          "execution_count": 173,
          "metadata": {},
          "output_type": "execute_result"
        }
      ],
      "source": [
        "df.columns"
      ]
    },
    {
      "cell_type": "markdown",
      "metadata": {},
      "source": [
        "### Renombrado de columnas"
      ]
    },
    {
      "cell_type": "code",
      "execution_count": 174,
      "metadata": {
        "colab": {
          "base_uri": "https://localhost:8080/",
          "height": 275
        },
        "id": "JcqqEz4cgQGU",
        "outputId": "87cc8222-0d6d-4033-a966-b0b53ab3609c"
      },
      "outputs": [
        {
          "data": {
            "text/html": [
              "<div>\n",
              "<style scoped>\n",
              "    .dataframe tbody tr th:only-of-type {\n",
              "        vertical-align: middle;\n",
              "    }\n",
              "\n",
              "    .dataframe tbody tr th {\n",
              "        vertical-align: top;\n",
              "    }\n",
              "\n",
              "    .dataframe thead th {\n",
              "        text-align: right;\n",
              "    }\n",
              "</style>\n",
              "<table border=\"1\" class=\"dataframe\">\n",
              "  <thead>\n",
              "    <tr style=\"text-align: right;\">\n",
              "      <th></th>\n",
              "      <th>row_id</th>\n",
              "      <th>order_date</th>\n",
              "      <th>ship_date</th>\n",
              "      <th>ship_mode</th>\n",
              "      <th>segment</th>\n",
              "      <th>city</th>\n",
              "      <th>state</th>\n",
              "      <th>region</th>\n",
              "      <th>category</th>\n",
              "      <th>subcategory</th>\n",
              "      <th>product_name</th>\n",
              "      <th>sales</th>\n",
              "      <th>quantity</th>\n",
              "      <th>discount</th>\n",
              "      <th>profit</th>\n",
              "    </tr>\n",
              "  </thead>\n",
              "  <tbody>\n",
              "    <tr>\n",
              "      <th>1679</th>\n",
              "      <td>1680</td>\n",
              "      <td>9/7/2014</td>\n",
              "      <td>9/13/2014</td>\n",
              "      <td>Standard Class</td>\n",
              "      <td>Corporate</td>\n",
              "      <td>Philadelphia</td>\n",
              "      <td>Pennsylvania</td>\n",
              "      <td>East</td>\n",
              "      <td>Technology</td>\n",
              "      <td>Phones</td>\n",
              "      <td>invisibleSHIELD by ZAGG Smudge-Free Screen Pro...</td>\n",
              "      <td>32.382</td>\n",
              "      <td>3</td>\n",
              "      <td>0.4</td>\n",
              "      <td>4.3176</td>\n",
              "    </tr>\n",
              "    <tr>\n",
              "      <th>3267</th>\n",
              "      <td>3268</td>\n",
              "      <td>5/22/2014</td>\n",
              "      <td>5/29/2014</td>\n",
              "      <td>Standard Class</td>\n",
              "      <td>Consumer</td>\n",
              "      <td>Decatur</td>\n",
              "      <td>Alabama</td>\n",
              "      <td>South</td>\n",
              "      <td>Technology</td>\n",
              "      <td>Phones</td>\n",
              "      <td>Nortel Networks T7316 E Nt8 B27</td>\n",
              "      <td>135.980</td>\n",
              "      <td>2</td>\n",
              "      <td>0.0</td>\n",
              "      <td>33.9950</td>\n",
              "    </tr>\n",
              "    <tr>\n",
              "      <th>1149</th>\n",
              "      <td>1150</td>\n",
              "      <td>4/4/2015</td>\n",
              "      <td>4/4/2015</td>\n",
              "      <td>Same Day</td>\n",
              "      <td>Consumer</td>\n",
              "      <td>Lansing</td>\n",
              "      <td>Michigan</td>\n",
              "      <td>Central</td>\n",
              "      <td>Technology</td>\n",
              "      <td>Phones</td>\n",
              "      <td>Shocksock Galaxy S4 Armband</td>\n",
              "      <td>10.950</td>\n",
              "      <td>1</td>\n",
              "      <td>0.0</td>\n",
              "      <td>0.4380</td>\n",
              "    </tr>\n",
              "    <tr>\n",
              "      <th>6864</th>\n",
              "      <td>6865</td>\n",
              "      <td>8/21/2016</td>\n",
              "      <td>8/28/2016</td>\n",
              "      <td>Standard Class</td>\n",
              "      <td>Corporate</td>\n",
              "      <td>Los Angeles</td>\n",
              "      <td>California</td>\n",
              "      <td>West</td>\n",
              "      <td>Office Supplies</td>\n",
              "      <td>Binders</td>\n",
              "      <td>Avery Durable Slant Ring Binders</td>\n",
              "      <td>12.672</td>\n",
              "      <td>2</td>\n",
              "      <td>0.2</td>\n",
              "      <td>4.7520</td>\n",
              "    </tr>\n",
              "    <tr>\n",
              "      <th>7442</th>\n",
              "      <td>7443</td>\n",
              "      <td>12/9/2014</td>\n",
              "      <td>12/11/2014</td>\n",
              "      <td>First Class</td>\n",
              "      <td>Corporate</td>\n",
              "      <td>Brownsville</td>\n",
              "      <td>Texas</td>\n",
              "      <td>Central</td>\n",
              "      <td>Office Supplies</td>\n",
              "      <td>Paper</td>\n",
              "      <td>Xerox 195</td>\n",
              "      <td>10.688</td>\n",
              "      <td>2</td>\n",
              "      <td>0.2</td>\n",
              "      <td>3.7408</td>\n",
              "    </tr>\n",
              "    <tr>\n",
              "      <th>1527</th>\n",
              "      <td>1528</td>\n",
              "      <td>7/22/2016</td>\n",
              "      <td>7/27/2016</td>\n",
              "      <td>Standard Class</td>\n",
              "      <td>Consumer</td>\n",
              "      <td>Allentown</td>\n",
              "      <td>Pennsylvania</td>\n",
              "      <td>East</td>\n",
              "      <td>Furniture</td>\n",
              "      <td>Furnishings</td>\n",
              "      <td>Master Caster Door Stop, Large Neon Orange</td>\n",
              "      <td>11.648</td>\n",
              "      <td>2</td>\n",
              "      <td>0.2</td>\n",
              "      <td>3.3488</td>\n",
              "    </tr>\n",
              "    <tr>\n",
              "      <th>2863</th>\n",
              "      <td>2864</td>\n",
              "      <td>8/13/2017</td>\n",
              "      <td>8/13/2017</td>\n",
              "      <td>Same Day</td>\n",
              "      <td>Consumer</td>\n",
              "      <td>San Francisco</td>\n",
              "      <td>California</td>\n",
              "      <td>West</td>\n",
              "      <td>Office Supplies</td>\n",
              "      <td>Storage</td>\n",
              "      <td>Sterilite Officeware Hinged File Box</td>\n",
              "      <td>31.440</td>\n",
              "      <td>3</td>\n",
              "      <td>0.0</td>\n",
              "      <td>8.4888</td>\n",
              "    </tr>\n",
              "    <tr>\n",
              "      <th>6301</th>\n",
              "      <td>6302</td>\n",
              "      <td>6/6/2014</td>\n",
              "      <td>6/12/2014</td>\n",
              "      <td>Standard Class</td>\n",
              "      <td>Consumer</td>\n",
              "      <td>Chicago</td>\n",
              "      <td>Illinois</td>\n",
              "      <td>Central</td>\n",
              "      <td>Office Supplies</td>\n",
              "      <td>Envelopes</td>\n",
              "      <td>#10- 4 1/8\" x 9 1/2\" Recycled Envelopes</td>\n",
              "      <td>13.984</td>\n",
              "      <td>2</td>\n",
              "      <td>0.2</td>\n",
              "      <td>4.7196</td>\n",
              "    </tr>\n",
              "    <tr>\n",
              "      <th>3440</th>\n",
              "      <td>3441</td>\n",
              "      <td>11/29/2015</td>\n",
              "      <td>11/30/2015</td>\n",
              "      <td>Same Day</td>\n",
              "      <td>Home Office</td>\n",
              "      <td>San Francisco</td>\n",
              "      <td>California</td>\n",
              "      <td>West</td>\n",
              "      <td>Office Supplies</td>\n",
              "      <td>Binders</td>\n",
              "      <td>Acco PRESSTEX Data Binder with Storage Hooks, ...</td>\n",
              "      <td>4.304</td>\n",
              "      <td>1</td>\n",
              "      <td>0.2</td>\n",
              "      <td>1.5602</td>\n",
              "    </tr>\n",
              "    <tr>\n",
              "      <th>2879</th>\n",
              "      <td>2880</td>\n",
              "      <td>1/15/2016</td>\n",
              "      <td>1/19/2016</td>\n",
              "      <td>Standard Class</td>\n",
              "      <td>Home Office</td>\n",
              "      <td>Westfield</td>\n",
              "      <td>New Jersey</td>\n",
              "      <td>East</td>\n",
              "      <td>Technology</td>\n",
              "      <td>Accessories</td>\n",
              "      <td>Logitech Gaming G510s - Keyboard</td>\n",
              "      <td>254.970</td>\n",
              "      <td>3</td>\n",
              "      <td>0.0</td>\n",
              "      <td>91.7892</td>\n",
              "    </tr>\n",
              "  </tbody>\n",
              "</table>\n",
              "</div>"
            ],
            "text/plain": [
              "      row_id  order_date   ship_date       ship_mode      segment  \\\n",
              "1679    1680    9/7/2014   9/13/2014  Standard Class    Corporate   \n",
              "3267    3268   5/22/2014   5/29/2014  Standard Class     Consumer   \n",
              "1149    1150    4/4/2015    4/4/2015        Same Day     Consumer   \n",
              "6864    6865   8/21/2016   8/28/2016  Standard Class    Corporate   \n",
              "7442    7443   12/9/2014  12/11/2014     First Class    Corporate   \n",
              "1527    1528   7/22/2016   7/27/2016  Standard Class     Consumer   \n",
              "2863    2864   8/13/2017   8/13/2017        Same Day     Consumer   \n",
              "6301    6302    6/6/2014   6/12/2014  Standard Class     Consumer   \n",
              "3440    3441  11/29/2015  11/30/2015        Same Day  Home Office   \n",
              "2879    2880   1/15/2016   1/19/2016  Standard Class  Home Office   \n",
              "\n",
              "               city         state   region         category  subcategory  \\\n",
              "1679   Philadelphia  Pennsylvania     East       Technology       Phones   \n",
              "3267        Decatur       Alabama    South       Technology       Phones   \n",
              "1149        Lansing      Michigan  Central       Technology       Phones   \n",
              "6864    Los Angeles    California     West  Office Supplies      Binders   \n",
              "7442    Brownsville         Texas  Central  Office Supplies        Paper   \n",
              "1527      Allentown  Pennsylvania     East        Furniture  Furnishings   \n",
              "2863  San Francisco    California     West  Office Supplies      Storage   \n",
              "6301        Chicago      Illinois  Central  Office Supplies    Envelopes   \n",
              "3440  San Francisco    California     West  Office Supplies      Binders   \n",
              "2879      Westfield    New Jersey     East       Technology  Accessories   \n",
              "\n",
              "                                           product_name    sales  quantity  \\\n",
              "1679  invisibleSHIELD by ZAGG Smudge-Free Screen Pro...   32.382         3   \n",
              "3267                    Nortel Networks T7316 E Nt8 B27  135.980         2   \n",
              "1149                        Shocksock Galaxy S4 Armband   10.950         1   \n",
              "6864                   Avery Durable Slant Ring Binders   12.672         2   \n",
              "7442                                          Xerox 195   10.688         2   \n",
              "1527         Master Caster Door Stop, Large Neon Orange   11.648         2   \n",
              "2863               Sterilite Officeware Hinged File Box   31.440         3   \n",
              "6301            #10- 4 1/8\" x 9 1/2\" Recycled Envelopes   13.984         2   \n",
              "3440  Acco PRESSTEX Data Binder with Storage Hooks, ...    4.304         1   \n",
              "2879                   Logitech Gaming G510s - Keyboard  254.970         3   \n",
              "\n",
              "      discount   profit  \n",
              "1679       0.4   4.3176  \n",
              "3267       0.0  33.9950  \n",
              "1149       0.0   0.4380  \n",
              "6864       0.2   4.7520  \n",
              "7442       0.2   3.7408  \n",
              "1527       0.2   3.3488  \n",
              "2863       0.0   8.4888  \n",
              "6301       0.2   4.7196  \n",
              "3440       0.2   1.5602  \n",
              "2879       0.0  91.7892  "
            ]
          },
          "execution_count": 174,
          "metadata": {},
          "output_type": "execute_result"
        }
      ],
      "source": [
        "# Renombrar columnas para facilitar el tratamiento\n",
        "df.rename({'Row ID' : 'row_id',\n",
        "           'Order Date' : 'order_date',\n",
        "           'Ship Date' : 'ship_date',\n",
        "           'Ship Mode' : 'ship_mode',\n",
        "           'Segment' : 'segment',\n",
        "           'City' : 'city',\n",
        "           'State' : 'state',\n",
        "           'Postal Code' : 'postal_code',\n",
        "           'Region' : 'region',\n",
        "           'Product ID' : 'product_id',\n",
        "           'Category' : 'category',\n",
        "           'Sub-Category' : 'subcategory',\n",
        "           'Product Name' : 'product_name',\n",
        "           'Sales' : 'sales',\n",
        "           'Quantity' : 'quantity',\n",
        "           'Discount' : 'discount',\n",
        "           'Profit' : 'profit'\n",
        "           },  axis=\"columns\", inplace=True)\n",
        "df.columns\n",
        "\n",
        "df.sample(10)"
      ]
    },
    {
      "cell_type": "code",
      "execution_count": 175,
      "metadata": {},
      "outputs": [
        {
          "data": {
            "text/plain": [
              "Standard Class    5968\n",
              "Second Class      1945\n",
              "First Class       1538\n",
              "Same Day           543\n",
              "Name: ship_mode, dtype: int64"
            ]
          },
          "execution_count": 175,
          "metadata": {},
          "output_type": "execute_result"
        }
      ],
      "source": [
        "df.ship_mode.value_counts()"
      ]
    },
    {
      "cell_type": "code",
      "execution_count": 176,
      "metadata": {
        "id": "RZ-u2leZwVby"
      },
      "outputs": [
        {
          "data": {
            "text/plain": [
              "(9994, 15)"
            ]
          },
          "execution_count": 176,
          "metadata": {},
          "output_type": "execute_result"
        }
      ],
      "source": [
        "# Se eliminan los duplicados si es que existen\n",
        "df = df.drop_duplicates()\n",
        "df.shape"
      ]
    },
    {
      "cell_type": "code",
      "execution_count": 177,
      "metadata": {
        "id": "br-Eojxczczw"
      },
      "outputs": [],
      "source": [
        "# Se cambia de tipo de dato int a string para evitar incurrir en errores de análisis cuantitativos\n",
        "df['row_id'] = df['row_id'].astype(str)"
      ]
    },
    {
      "cell_type": "code",
      "execution_count": 178,
      "metadata": {
        "colab": {
          "base_uri": "https://localhost:8080/"
        },
        "id": "HjOJPaSVGta5",
        "outputId": "c8c5776c-e3c2-4ca3-c216-50ec515f5929"
      },
      "outputs": [
        {
          "name": "stdout",
          "output_type": "stream",
          "text": [
            "<class 'pandas.core.frame.DataFrame'>\n",
            "Int64Index: 9994 entries, 0 to 9993\n",
            "Data columns (total 15 columns):\n",
            " #   Column        Non-Null Count  Dtype  \n",
            "---  ------        --------------  -----  \n",
            " 0   row_id        9994 non-null   object \n",
            " 1   order_date    9994 non-null   object \n",
            " 2   ship_date     9994 non-null   object \n",
            " 3   ship_mode     9994 non-null   object \n",
            " 4   segment       9994 non-null   object \n",
            " 5   city          9994 non-null   object \n",
            " 6   state         9994 non-null   object \n",
            " 7   region        9994 non-null   object \n",
            " 8   category      9994 non-null   object \n",
            " 9   subcategory   9994 non-null   object \n",
            " 10  product_name  9994 non-null   object \n",
            " 11  sales         9994 non-null   float64\n",
            " 12  quantity      9994 non-null   int64  \n",
            " 13  discount      9994 non-null   float64\n",
            " 14  profit        9994 non-null   float64\n",
            "dtypes: float64(3), int64(1), object(11)\n",
            "memory usage: 1.2+ MB\n"
          ]
        }
      ],
      "source": [
        "# Cuantos datos hay por cada columna?\n",
        "#df.count()\n",
        "df.info()"
      ]
    },
    {
      "cell_type": "code",
      "execution_count": 179,
      "metadata": {
        "colab": {
          "base_uri": "https://localhost:8080/",
          "height": 300
        },
        "id": "NpWTJ9Cry4iB",
        "outputId": "9ab9aece-3941-44ec-a919-c38836e98238"
      },
      "outputs": [
        {
          "data": {
            "text/html": [
              "<div>\n",
              "<style scoped>\n",
              "    .dataframe tbody tr th:only-of-type {\n",
              "        vertical-align: middle;\n",
              "    }\n",
              "\n",
              "    .dataframe tbody tr th {\n",
              "        vertical-align: top;\n",
              "    }\n",
              "\n",
              "    .dataframe thead th {\n",
              "        text-align: right;\n",
              "    }\n",
              "</style>\n",
              "<table border=\"1\" class=\"dataframe\">\n",
              "  <thead>\n",
              "    <tr style=\"text-align: right;\">\n",
              "      <th></th>\n",
              "      <th>sales</th>\n",
              "      <th>quantity</th>\n",
              "      <th>discount</th>\n",
              "      <th>profit</th>\n",
              "    </tr>\n",
              "  </thead>\n",
              "  <tbody>\n",
              "    <tr>\n",
              "      <th>count</th>\n",
              "      <td>9994.000000</td>\n",
              "      <td>9994.000000</td>\n",
              "      <td>9994.000000</td>\n",
              "      <td>9994.000000</td>\n",
              "    </tr>\n",
              "    <tr>\n",
              "      <th>mean</th>\n",
              "      <td>229.858001</td>\n",
              "      <td>3.789574</td>\n",
              "      <td>0.156203</td>\n",
              "      <td>28.656896</td>\n",
              "    </tr>\n",
              "    <tr>\n",
              "      <th>std</th>\n",
              "      <td>623.245101</td>\n",
              "      <td>2.225110</td>\n",
              "      <td>0.206452</td>\n",
              "      <td>234.260108</td>\n",
              "    </tr>\n",
              "    <tr>\n",
              "      <th>min</th>\n",
              "      <td>0.444000</td>\n",
              "      <td>1.000000</td>\n",
              "      <td>0.000000</td>\n",
              "      <td>-6599.978000</td>\n",
              "    </tr>\n",
              "    <tr>\n",
              "      <th>25%</th>\n",
              "      <td>17.280000</td>\n",
              "      <td>2.000000</td>\n",
              "      <td>0.000000</td>\n",
              "      <td>1.728750</td>\n",
              "    </tr>\n",
              "    <tr>\n",
              "      <th>50%</th>\n",
              "      <td>54.490000</td>\n",
              "      <td>3.000000</td>\n",
              "      <td>0.200000</td>\n",
              "      <td>8.666500</td>\n",
              "    </tr>\n",
              "    <tr>\n",
              "      <th>75%</th>\n",
              "      <td>209.940000</td>\n",
              "      <td>5.000000</td>\n",
              "      <td>0.200000</td>\n",
              "      <td>29.364000</td>\n",
              "    </tr>\n",
              "    <tr>\n",
              "      <th>max</th>\n",
              "      <td>22638.480000</td>\n",
              "      <td>14.000000</td>\n",
              "      <td>0.800000</td>\n",
              "      <td>8399.976000</td>\n",
              "    </tr>\n",
              "  </tbody>\n",
              "</table>\n",
              "</div>"
            ],
            "text/plain": [
              "              sales     quantity     discount       profit\n",
              "count   9994.000000  9994.000000  9994.000000  9994.000000\n",
              "mean     229.858001     3.789574     0.156203    28.656896\n",
              "std      623.245101     2.225110     0.206452   234.260108\n",
              "min        0.444000     1.000000     0.000000 -6599.978000\n",
              "25%       17.280000     2.000000     0.000000     1.728750\n",
              "50%       54.490000     3.000000     0.200000     8.666500\n",
              "75%      209.940000     5.000000     0.200000    29.364000\n",
              "max    22638.480000    14.000000     0.800000  8399.976000"
            ]
          },
          "execution_count": 179,
          "metadata": {},
          "output_type": "execute_result"
        }
      ],
      "source": [
        "df.describe()"
      ]
    },
    {
      "cell_type": "markdown",
      "metadata": {
        "id": "ygjmZlYLHCPU"
      },
      "source": [
        "## Detección de outliers"
      ]
    },
    {
      "cell_type": "code",
      "execution_count": 180,
      "metadata": {
        "colab": {
          "base_uri": "https://localhost:8080/",
          "height": 475
        },
        "id": "MssflLe7GtId",
        "outputId": "d17ad783-47a5-4421-ed1e-8c20f28f3c04"
      },
      "outputs": [
        {
          "data": {
            "text/plain": [
              "<AxesSubplot: xlabel='sales'>"
            ]
          },
          "execution_count": 180,
          "metadata": {},
          "output_type": "execute_result"
        },
        {
          "data": {
            "image/png": "[encoded data removed]",
            "text/plain": [
              "<Figure size 432x288 with 1 Axes>"
            ]
          },
          "metadata": {},
          "output_type": "display_data"
        }
      ],
      "source": [
        "# boxplot Sales\n",
        "sns.boxplot(x=df['sales'])"
      ]
    },
    {
      "cell_type": "code",
      "execution_count": 181,
      "metadata": {
        "colab": {
          "base_uri": "https://localhost:8080/"
        },
        "id": "kPvEuq1eHIRZ",
        "outputId": "3983d799-9979-4e27-8a49-8fb6bcdabdda"
      },
      "outputs": [],
      "source": [
        "# # Se calculas los Cuantiles del df\n",
        "# Q1 = df.quantile(0.25)\n",
        "# Q3 = df.quantile(0.75)\n",
        "# # Que calculamos acá?\n",
        "# IQR = Q3 - Q1\n",
        "# print(IQR)"
      ]
    },
    {
      "cell_type": "code",
      "execution_count": 182,
      "metadata": {
        "colab": {
          "base_uri": "https://localhost:8080/"
        },
        "id": "PSNUgUW4HIO0",
        "outputId": "9d1a7640-62bc-4aac-d7bb-df2af804ec1b"
      },
      "outputs": [],
      "source": [
        "# # Que estamos calculando acá? Si ya calculamos los Q1 y Q3?\n",
        "# df = df[~((df < (Q1 - 1.5 * IQR)) |(df > (Q3 + 1.5 * IQR))).any(axis=1)]\n",
        "# df.shape"
      ]
    },
    {
      "cell_type": "code",
      "execution_count": 183,
      "metadata": {
        "colab": {
          "base_uri": "https://localhost:8080/",
          "height": 475
        },
        "id": "sL78Grmr5Kzn",
        "outputId": "8aba3fad-11c5-4026-f3db-1acd41063439"
      },
      "outputs": [
        {
          "data": {
            "text/plain": [
              "<AxesSubplot: xlabel='sales'>"
            ]
          },
          "execution_count": 183,
          "metadata": {},
          "output_type": "execute_result"
        },
        {
          "data": {
            "image/png": "[encoded data removed]",
            "text/plain": [
              "<Figure size 432x288 with 1 Axes>"
            ]
          },
          "metadata": {},
          "output_type": "display_data"
        }
      ],
      "source": [
        "sns.boxplot(x=df['sales'])"
      ]
    },
    {
      "cell_type": "code",
      "execution_count": 184,
      "metadata": {
        "colab": {
          "base_uri": "https://localhost:8080/",
          "height": 475
        },
        "id": "sh5i3PGR5uRE",
        "outputId": "f4cfbca3-df77-436f-a4e7-29589a86d2c2"
      },
      "outputs": [
        {
          "data": {
            "text/plain": [
              "<AxesSubplot: xlabel='quantity'>"
            ]
          },
          "execution_count": 184,
          "metadata": {},
          "output_type": "execute_result"
        },
        {
          "data": {
            "image/png": "[encoded data removed]",
            "text/plain": [
              "<Figure size 432x288 with 1 Axes>"
            ]
          },
          "metadata": {},
          "output_type": "display_data"
        }
      ],
      "source": [
        "sns.boxplot(x=df['quantity'])"
      ]
    },
    {
      "cell_type": "code",
      "execution_count": 185,
      "metadata": {
        "colab": {
          "base_uri": "https://localhost:8080/",
          "height": 475
        },
        "id": "sjbQKybw51de",
        "outputId": "cfc4e6bd-c032-4a35-f496-cecef1f14d89"
      },
      "outputs": [
        {
          "data": {
            "text/plain": [
              "<AxesSubplot: xlabel='profit'>"
            ]
          },
          "execution_count": 185,
          "metadata": {},
          "output_type": "execute_result"
        },
        {
          "data": {
            "image/png": "[encoded data removed]",
            "text/plain": [
              "<Figure size 432x288 with 1 Axes>"
            ]
          },
          "metadata": {},
          "output_type": "display_data"
        }
      ],
      "source": [
        "sns.boxplot(x=df.profit)"
      ]
    },
    {
      "cell_type": "markdown",
      "metadata": {
        "id": "-OLWb8LvHUvR"
      },
      "source": [
        "### Revisamos algunas distribuciones de variables"
      ]
    },
    {
      "cell_type": "code",
      "execution_count": 186,
      "metadata": {
        "colab": {
          "base_uri": "https://localhost:8080/",
          "height": 534
        },
        "id": "JxuqEVg5HIMb",
        "outputId": "fd7c3d51-349e-4312-c685-717e115cad7a"
      },
      "outputs": [
        {
          "data": {
            "image/png": "[encoded data removed]",
            "text/plain": [
              "<Figure size 720x360 with 1 Axes>"
            ]
          },
          "metadata": {},
          "output_type": "display_data"
        }
      ],
      "source": [
        "df.sales.value_counts().nlargest(20).plot(kind='bar', figsize=(10,5))\n",
        "plt.title(\"Ventas\")\n",
        "plt.ylabel('Fequencia de Ventas')\n",
        "plt.xlabel('Sales');"
      ]
    },
    {
      "cell_type": "code",
      "execution_count": 187,
      "metadata": {
        "colab": {
          "base_uri": "https://localhost:8080/",
          "height": 614
        },
        "id": "Ubc0QzwPHIKE",
        "outputId": "cc692e4a-ce99-414d-b7ea-218f653dcc7b"
      },
      "outputs": [
        {
          "data": {
            "text/html": [
              "<div>\n",
              "<style scoped>\n",
              "    .dataframe tbody tr th:only-of-type {\n",
              "        vertical-align: middle;\n",
              "    }\n",
              "\n",
              "    .dataframe tbody tr th {\n",
              "        vertical-align: top;\n",
              "    }\n",
              "\n",
              "    .dataframe thead th {\n",
              "        text-align: right;\n",
              "    }\n",
              "</style>\n",
              "<table border=\"1\" class=\"dataframe\">\n",
              "  <thead>\n",
              "    <tr style=\"text-align: right;\">\n",
              "      <th></th>\n",
              "      <th>sales</th>\n",
              "      <th>quantity</th>\n",
              "      <th>discount</th>\n",
              "      <th>profit</th>\n",
              "    </tr>\n",
              "  </thead>\n",
              "  <tbody>\n",
              "    <tr>\n",
              "      <th>sales</th>\n",
              "      <td>1.000000</td>\n",
              "      <td>0.200795</td>\n",
              "      <td>-0.028190</td>\n",
              "      <td>0.479064</td>\n",
              "    </tr>\n",
              "    <tr>\n",
              "      <th>quantity</th>\n",
              "      <td>0.200795</td>\n",
              "      <td>1.000000</td>\n",
              "      <td>0.008623</td>\n",
              "      <td>0.066253</td>\n",
              "    </tr>\n",
              "    <tr>\n",
              "      <th>discount</th>\n",
              "      <td>-0.028190</td>\n",
              "      <td>0.008623</td>\n",
              "      <td>1.000000</td>\n",
              "      <td>-0.219487</td>\n",
              "    </tr>\n",
              "    <tr>\n",
              "      <th>profit</th>\n",
              "      <td>0.479064</td>\n",
              "      <td>0.066253</td>\n",
              "      <td>-0.219487</td>\n",
              "      <td>1.000000</td>\n",
              "    </tr>\n",
              "  </tbody>\n",
              "</table>\n",
              "</div>"
            ],
            "text/plain": [
              "             sales  quantity  discount    profit\n",
              "sales     1.000000  0.200795 -0.028190  0.479064\n",
              "quantity  0.200795  1.000000  0.008623  0.066253\n",
              "discount -0.028190  0.008623  1.000000 -0.219487\n",
              "profit    0.479064  0.066253 -0.219487  1.000000"
            ]
          },
          "execution_count": 187,
          "metadata": {},
          "output_type": "execute_result"
        },
        {
          "data": {
            "image/png": "[encoded data removed]",
            "text/plain": [
              "<Figure size 720x360 with 2 Axes>"
            ]
          },
          "metadata": {},
          "output_type": "display_data"
        }
      ],
      "source": [
        "# Coeficiente de correlación\n",
        "plt.figure(figsize=(10,5))\n",
        "c= df.corr()\n",
        "sns.heatmap(c,cmap=\"BrBG\",annot=True)\n",
        "c"
      ]
    },
    {
      "cell_type": "markdown",
      "metadata": {
        "id": "gocxV0is9_XK"
      },
      "source": [
        "# Ingeniería de Atributos (Feature Engineering)\n",
        "## Segmentación de las ventas"
      ]
    },
    {
      "cell_type": "markdown",
      "metadata": {},
      "source": [
        "### Asignación de segmentos\n",
        "1. Vamos a asignar una categoría según el valor de las ventas/profit\n",
        "2. Vamos a crear una nueva columna llamada \"Segmento\"\n",
        "3. A través de un ciclo for y el uso de ifelse vamos a asignar la categoría"
      ]
    },
    {
      "cell_type": "code",
      "execution_count": 188,
      "metadata": {
        "id": "2hJQwzLo7Lm-"
      },
      "outputs": [
        {
          "data": {
            "text/html": [
              "<div>\n",
              "<style scoped>\n",
              "    .dataframe tbody tr th:only-of-type {\n",
              "        vertical-align: middle;\n",
              "    }\n",
              "\n",
              "    .dataframe tbody tr th {\n",
              "        vertical-align: top;\n",
              "    }\n",
              "\n",
              "    .dataframe thead th {\n",
              "        text-align: right;\n",
              "    }\n",
              "</style>\n",
              "<table border=\"1\" class=\"dataframe\">\n",
              "  <thead>\n",
              "    <tr style=\"text-align: right;\">\n",
              "      <th></th>\n",
              "      <th>row_id</th>\n",
              "      <th>order_date</th>\n",
              "      <th>ship_date</th>\n",
              "      <th>ship_mode</th>\n",
              "      <th>segment</th>\n",
              "      <th>city</th>\n",
              "      <th>state</th>\n",
              "      <th>region</th>\n",
              "      <th>category</th>\n",
              "      <th>subcategory</th>\n",
              "      <th>product_name</th>\n",
              "      <th>sales</th>\n",
              "      <th>quantity</th>\n",
              "      <th>discount</th>\n",
              "      <th>profit</th>\n",
              "      <th>segmento</th>\n",
              "    </tr>\n",
              "  </thead>\n",
              "  <tbody>\n",
              "    <tr>\n",
              "      <th>445</th>\n",
              "      <td>446</td>\n",
              "      <td>9/5/2016</td>\n",
              "      <td>9/7/2016</td>\n",
              "      <td>Second Class</td>\n",
              "      <td>Consumer</td>\n",
              "      <td>Detroit</td>\n",
              "      <td>Michigan</td>\n",
              "      <td>Central</td>\n",
              "      <td>Office Supplies</td>\n",
              "      <td>Labels</td>\n",
              "      <td>Avery 520</td>\n",
              "      <td>22.050</td>\n",
              "      <td>7</td>\n",
              "      <td>0.0</td>\n",
              "      <td>10.5840</td>\n",
              "      <td>bajo_bajo</td>\n",
              "    </tr>\n",
              "    <tr>\n",
              "      <th>14</th>\n",
              "      <td>15</td>\n",
              "      <td>11/22/2015</td>\n",
              "      <td>11/26/2015</td>\n",
              "      <td>Standard Class</td>\n",
              "      <td>Home Office</td>\n",
              "      <td>Fort Worth</td>\n",
              "      <td>Texas</td>\n",
              "      <td>Central</td>\n",
              "      <td>Office Supplies</td>\n",
              "      <td>Appliances</td>\n",
              "      <td>Holmes Replacement Filter for HEPA Air Cleaner...</td>\n",
              "      <td>68.810</td>\n",
              "      <td>5</td>\n",
              "      <td>0.8</td>\n",
              "      <td>-123.8580</td>\n",
              "      <td>bajo_bajo</td>\n",
              "    </tr>\n",
              "    <tr>\n",
              "      <th>7631</th>\n",
              "      <td>7632</td>\n",
              "      <td>3/30/2014</td>\n",
              "      <td>4/1/2014</td>\n",
              "      <td>First Class</td>\n",
              "      <td>Home Office</td>\n",
              "      <td>Brownsville</td>\n",
              "      <td>Texas</td>\n",
              "      <td>Central</td>\n",
              "      <td>Furniture</td>\n",
              "      <td>Chairs</td>\n",
              "      <td>Global Stack Chair without Arms, Black</td>\n",
              "      <td>127.302</td>\n",
              "      <td>7</td>\n",
              "      <td>0.3</td>\n",
              "      <td>-9.0930</td>\n",
              "      <td>bajo_bajo</td>\n",
              "    </tr>\n",
              "    <tr>\n",
              "      <th>908</th>\n",
              "      <td>909</td>\n",
              "      <td>12/30/2017</td>\n",
              "      <td>1/3/2018</td>\n",
              "      <td>Standard Class</td>\n",
              "      <td>Consumer</td>\n",
              "      <td>New York City</td>\n",
              "      <td>New York</td>\n",
              "      <td>East</td>\n",
              "      <td>Office Supplies</td>\n",
              "      <td>Binders</td>\n",
              "      <td>Wilson Jones Legal Size Ring Binders</td>\n",
              "      <td>52.776</td>\n",
              "      <td>3</td>\n",
              "      <td>0.2</td>\n",
              "      <td>19.7910</td>\n",
              "      <td>bajo_bajo</td>\n",
              "    </tr>\n",
              "    <tr>\n",
              "      <th>9236</th>\n",
              "      <td>9237</td>\n",
              "      <td>9/2/2016</td>\n",
              "      <td>9/6/2016</td>\n",
              "      <td>Standard Class</td>\n",
              "      <td>Consumer</td>\n",
              "      <td>Los Angeles</td>\n",
              "      <td>California</td>\n",
              "      <td>West</td>\n",
              "      <td>Furniture</td>\n",
              "      <td>Tables</td>\n",
              "      <td>Chromcraft Rectangular Conference Tables</td>\n",
              "      <td>568.728</td>\n",
              "      <td>3</td>\n",
              "      <td>0.2</td>\n",
              "      <td>28.4364</td>\n",
              "      <td>alto_bajo</td>\n",
              "    </tr>\n",
              "    <tr>\n",
              "      <th>7196</th>\n",
              "      <td>7197</td>\n",
              "      <td>4/26/2014</td>\n",
              "      <td>4/30/2014</td>\n",
              "      <td>Standard Class</td>\n",
              "      <td>Home Office</td>\n",
              "      <td>Los Angeles</td>\n",
              "      <td>California</td>\n",
              "      <td>West</td>\n",
              "      <td>Office Supplies</td>\n",
              "      <td>Art</td>\n",
              "      <td>Newell 347</td>\n",
              "      <td>21.400</td>\n",
              "      <td>5</td>\n",
              "      <td>0.0</td>\n",
              "      <td>6.2060</td>\n",
              "      <td>bajo_bajo</td>\n",
              "    </tr>\n",
              "    <tr>\n",
              "      <th>8707</th>\n",
              "      <td>8708</td>\n",
              "      <td>9/8/2014</td>\n",
              "      <td>9/13/2014</td>\n",
              "      <td>Standard Class</td>\n",
              "      <td>Home Office</td>\n",
              "      <td>New York City</td>\n",
              "      <td>New York</td>\n",
              "      <td>East</td>\n",
              "      <td>Office Supplies</td>\n",
              "      <td>Art</td>\n",
              "      <td>Nontoxic Chalk</td>\n",
              "      <td>3.520</td>\n",
              "      <td>2</td>\n",
              "      <td>0.0</td>\n",
              "      <td>1.6896</td>\n",
              "      <td>bajo_bajo</td>\n",
              "    </tr>\n",
              "    <tr>\n",
              "      <th>2720</th>\n",
              "      <td>2721</td>\n",
              "      <td>11/4/2014</td>\n",
              "      <td>11/8/2014</td>\n",
              "      <td>Second Class</td>\n",
              "      <td>Corporate</td>\n",
              "      <td>Cary</td>\n",
              "      <td>North Carolina</td>\n",
              "      <td>South</td>\n",
              "      <td>Office Supplies</td>\n",
              "      <td>Fasteners</td>\n",
              "      <td>OIC Bulk Pack Metal Binder Clips</td>\n",
              "      <td>8.376</td>\n",
              "      <td>3</td>\n",
              "      <td>0.2</td>\n",
              "      <td>2.7222</td>\n",
              "      <td>bajo_bajo</td>\n",
              "    </tr>\n",
              "    <tr>\n",
              "      <th>1766</th>\n",
              "      <td>1767</td>\n",
              "      <td>8/4/2016</td>\n",
              "      <td>8/8/2016</td>\n",
              "      <td>Standard Class</td>\n",
              "      <td>Home Office</td>\n",
              "      <td>Suffolk</td>\n",
              "      <td>Virginia</td>\n",
              "      <td>South</td>\n",
              "      <td>Office Supplies</td>\n",
              "      <td>Labels</td>\n",
              "      <td>Avery 478</td>\n",
              "      <td>9.820</td>\n",
              "      <td>2</td>\n",
              "      <td>0.0</td>\n",
              "      <td>4.8118</td>\n",
              "      <td>bajo_bajo</td>\n",
              "    </tr>\n",
              "    <tr>\n",
              "      <th>867</th>\n",
              "      <td>868</td>\n",
              "      <td>9/29/2016</td>\n",
              "      <td>10/2/2016</td>\n",
              "      <td>First Class</td>\n",
              "      <td>Corporate</td>\n",
              "      <td>Philadelphia</td>\n",
              "      <td>Pennsylvania</td>\n",
              "      <td>East</td>\n",
              "      <td>Office Supplies</td>\n",
              "      <td>Labels</td>\n",
              "      <td>Avery 483</td>\n",
              "      <td>15.936</td>\n",
              "      <td>4</td>\n",
              "      <td>0.2</td>\n",
              "      <td>5.1792</td>\n",
              "      <td>bajo_bajo</td>\n",
              "    </tr>\n",
              "  </tbody>\n",
              "</table>\n",
              "</div>"
            ],
            "text/plain": [
              "     row_id  order_date   ship_date       ship_mode      segment  \\\n",
              "445     446    9/5/2016    9/7/2016    Second Class     Consumer   \n",
              "14       15  11/22/2015  11/26/2015  Standard Class  Home Office   \n",
              "7631   7632   3/30/2014    4/1/2014     First Class  Home Office   \n",
              "908     909  12/30/2017    1/3/2018  Standard Class     Consumer   \n",
              "9236   9237    9/2/2016    9/6/2016  Standard Class     Consumer   \n",
              "7196   7197   4/26/2014   4/30/2014  Standard Class  Home Office   \n",
              "8707   8708    9/8/2014   9/13/2014  Standard Class  Home Office   \n",
              "2720   2721   11/4/2014   11/8/2014    Second Class    Corporate   \n",
              "1766   1767    8/4/2016    8/8/2016  Standard Class  Home Office   \n",
              "867     868   9/29/2016   10/2/2016     First Class    Corporate   \n",
              "\n",
              "               city           state   region         category subcategory  \\\n",
              "445         Detroit        Michigan  Central  Office Supplies      Labels   \n",
              "14       Fort Worth           Texas  Central  Office Supplies  Appliances   \n",
              "7631    Brownsville           Texas  Central        Furniture      Chairs   \n",
              "908   New York City        New York     East  Office Supplies     Binders   \n",
              "9236    Los Angeles      California     West        Furniture      Tables   \n",
              "7196    Los Angeles      California     West  Office Supplies         Art   \n",
              "8707  New York City        New York     East  Office Supplies         Art   \n",
              "2720           Cary  North Carolina    South  Office Supplies   Fasteners   \n",
              "1766        Suffolk        Virginia    South  Office Supplies      Labels   \n",
              "867    Philadelphia    Pennsylvania     East  Office Supplies      Labels   \n",
              "\n",
              "                                           product_name    sales  quantity  \\\n",
              "445                                           Avery 520   22.050         7   \n",
              "14    Holmes Replacement Filter for HEPA Air Cleaner...   68.810         5   \n",
              "7631             Global Stack Chair without Arms, Black  127.302         7   \n",
              "908                Wilson Jones Legal Size Ring Binders   52.776         3   \n",
              "9236           Chromcraft Rectangular Conference Tables  568.728         3   \n",
              "7196                                         Newell 347   21.400         5   \n",
              "8707                                     Nontoxic Chalk    3.520         2   \n",
              "2720                   OIC Bulk Pack Metal Binder Clips    8.376         3   \n",
              "1766                                          Avery 478    9.820         2   \n",
              "867                                           Avery 483   15.936         4   \n",
              "\n",
              "      discount    profit   segmento  \n",
              "445        0.0   10.5840  bajo_bajo  \n",
              "14         0.8 -123.8580  bajo_bajo  \n",
              "7631       0.3   -9.0930  bajo_bajo  \n",
              "908        0.2   19.7910  bajo_bajo  \n",
              "9236       0.2   28.4364  alto_bajo  \n",
              "7196       0.0    6.2060  bajo_bajo  \n",
              "8707       0.0    1.6896  bajo_bajo  \n",
              "2720       0.2    2.7222  bajo_bajo  \n",
              "1766       0.0    4.8118  bajo_bajo  \n",
              "867        0.2    5.1792  bajo_bajo  "
            ]
          },
          "execution_count": 188,
          "metadata": {},
          "output_type": "execute_result"
        }
      ],
      "source": [
        "# Calcula el promedio de sales y profit\n",
        "prom_sales = df.sales.mean()\n",
        "prom_profit = df.profit.mean()\n",
        "\n",
        "# Crea una lista para almacenar los segmentos\n",
        "segmento = []\n",
        "\n",
        "# Itera a través de las filas del DataFrame\n",
        "for index, row in df.iterrows():\n",
        "    if row['sales'] < prom_sales and row['profit'] < prom_profit:\n",
        "        segmento.append('bajo_bajo')\n",
        "    elif row['sales'] < prom_sales and row['profit'] > prom_profit:\n",
        "        segmento.append('bajo_alto')\n",
        "    elif row['sales'] > prom_sales and row['profit'] < prom_profit:\n",
        "        segmento.append('alto_bajo')\n",
        "    elif row['sales'] > prom_sales and row['profit'] > prom_profit:\n",
        "        segmento.append('alto_alto')\n",
        "    else:\n",
        "        segmento.append('otros')  # Manejo de casos que no cumplen ninguna condición\n",
        "\n",
        "# Agrega la columna 'segmento' al DataFrame\n",
        "df['segmento'] = segmento\n",
        "df.sample(10)"
      ]
    },
    {
      "cell_type": "code",
      "execution_count": 189,
      "metadata": {},
      "outputs": [
        {
          "name": "stderr",
          "output_type": "stream",
          "text": [
            "No artists with labels found to put in legend.  Note that artists whose label start with an underscore are ignored when legend() is called with no argument.\n"
          ]
        },
        {
          "data": {
            "image/png": "[encoded data removed]",
            "text/plain": [
              "<Figure size 576x360 with 1 Axes>"
            ]
          },
          "metadata": {},
          "output_type": "display_data"
        }
      ],
      "source": [
        "# Scatter plot para visualizar datos numéricos\n",
        "fig, ax = plt.subplots(figsize=(8,5))\n",
        "ax.scatter(df['sales'], df['profit'])\n",
        "\n",
        "plt.axvline(x=prom_sales, color='red', linestyle='--', linewidth=1.5)\n",
        "plt.axhline(y=prom_profit, color='red', linestyle='--', linewidth=1.5)\n",
        "\n",
        "plt.title('Distribución de sales y profit')\n",
        "\n",
        "ax.set_xlabel('sales')\n",
        "ax.set_ylabel('profit')\n",
        "\n",
        "plt.legend()\n",
        "plt.tight_layout();\n",
        "plt.show();"
      ]
    },
    {
      "cell_type": "markdown",
      "metadata": {},
      "source": [
        "## Calculamos el profit en porcentaje"
      ]
    },
    {
      "cell_type": "code",
      "execution_count": 190,
      "metadata": {},
      "outputs": [
        {
          "data": {
            "text/plain": [
              "9321   -0.500000\n",
              "6963    0.250000\n",
              "3164    0.450000\n",
              "1497    0.287500\n",
              "1257   -0.733333\n",
              "8120    0.000000\n",
              "4459    0.100000\n",
              "759     0.450000\n",
              "646     0.312500\n",
              "5287   -1.700000\n",
              "Name: porcentaje_profit, dtype: float64"
            ]
          },
          "execution_count": 190,
          "metadata": {},
          "output_type": "execute_result"
        }
      ],
      "source": [
        "df['porcentaje_profit'] = df['profit']/df['sales']\n",
        "df.porcentaje_profit.sample(10)"
      ]
    },
    {
      "cell_type": "code",
      "execution_count": 191,
      "metadata": {},
      "outputs": [
        {
          "data": {
            "text/html": [
              "<div>\n",
              "<style scoped>\n",
              "    .dataframe tbody tr th:only-of-type {\n",
              "        vertical-align: middle;\n",
              "    }\n",
              "\n",
              "    .dataframe tbody tr th {\n",
              "        vertical-align: top;\n",
              "    }\n",
              "\n",
              "    .dataframe thead th {\n",
              "        text-align: right;\n",
              "    }\n",
              "</style>\n",
              "<table border=\"1\" class=\"dataframe\">\n",
              "  <thead>\n",
              "    <tr style=\"text-align: right;\">\n",
              "      <th></th>\n",
              "      <th>row_id</th>\n",
              "      <th>order_date</th>\n",
              "      <th>ship_date</th>\n",
              "      <th>ship_mode</th>\n",
              "      <th>segment</th>\n",
              "      <th>city</th>\n",
              "      <th>state</th>\n",
              "      <th>region</th>\n",
              "      <th>category</th>\n",
              "      <th>subcategory</th>\n",
              "      <th>product_name</th>\n",
              "      <th>sales</th>\n",
              "      <th>quantity</th>\n",
              "      <th>discount</th>\n",
              "      <th>profit</th>\n",
              "      <th>segmento</th>\n",
              "      <th>porcentaje_profit</th>\n",
              "    </tr>\n",
              "  </thead>\n",
              "  <tbody>\n",
              "    <tr>\n",
              "      <th>0</th>\n",
              "      <td>1</td>\n",
              "      <td>11/8/2016</td>\n",
              "      <td>11/11/2016</td>\n",
              "      <td>Second Class</td>\n",
              "      <td>Consumer</td>\n",
              "      <td>Henderson</td>\n",
              "      <td>Kentucky</td>\n",
              "      <td>South</td>\n",
              "      <td>Furniture</td>\n",
              "      <td>Bookcases</td>\n",
              "      <td>Bush Somerset Collection Bookcase</td>\n",
              "      <td>261.9600</td>\n",
              "      <td>2</td>\n",
              "      <td>0.00</td>\n",
              "      <td>41.9136</td>\n",
              "      <td>alto_alto</td>\n",
              "      <td>0.1600</td>\n",
              "    </tr>\n",
              "    <tr>\n",
              "      <th>1</th>\n",
              "      <td>2</td>\n",
              "      <td>11/8/2016</td>\n",
              "      <td>11/11/2016</td>\n",
              "      <td>Second Class</td>\n",
              "      <td>Consumer</td>\n",
              "      <td>Henderson</td>\n",
              "      <td>Kentucky</td>\n",
              "      <td>South</td>\n",
              "      <td>Furniture</td>\n",
              "      <td>Chairs</td>\n",
              "      <td>Hon Deluxe Fabric Upholstered Stacking Chairs,...</td>\n",
              "      <td>731.9400</td>\n",
              "      <td>3</td>\n",
              "      <td>0.00</td>\n",
              "      <td>219.5820</td>\n",
              "      <td>alto_alto</td>\n",
              "      <td>0.3000</td>\n",
              "    </tr>\n",
              "    <tr>\n",
              "      <th>2</th>\n",
              "      <td>3</td>\n",
              "      <td>6/12/2016</td>\n",
              "      <td>6/16/2016</td>\n",
              "      <td>Second Class</td>\n",
              "      <td>Corporate</td>\n",
              "      <td>Los Angeles</td>\n",
              "      <td>California</td>\n",
              "      <td>West</td>\n",
              "      <td>Office Supplies</td>\n",
              "      <td>Labels</td>\n",
              "      <td>Self-Adhesive Address Labels for Typewriters b...</td>\n",
              "      <td>14.6200</td>\n",
              "      <td>2</td>\n",
              "      <td>0.00</td>\n",
              "      <td>6.8714</td>\n",
              "      <td>bajo_bajo</td>\n",
              "      <td>0.4700</td>\n",
              "    </tr>\n",
              "    <tr>\n",
              "      <th>3</th>\n",
              "      <td>4</td>\n",
              "      <td>10/11/2015</td>\n",
              "      <td>10/18/2015</td>\n",
              "      <td>Standard Class</td>\n",
              "      <td>Consumer</td>\n",
              "      <td>Fort Lauderdale</td>\n",
              "      <td>Florida</td>\n",
              "      <td>South</td>\n",
              "      <td>Furniture</td>\n",
              "      <td>Tables</td>\n",
              "      <td>Bretford CR4500 Series Slim Rectangular Table</td>\n",
              "      <td>957.5775</td>\n",
              "      <td>5</td>\n",
              "      <td>0.45</td>\n",
              "      <td>-383.0310</td>\n",
              "      <td>alto_bajo</td>\n",
              "      <td>-0.4000</td>\n",
              "    </tr>\n",
              "    <tr>\n",
              "      <th>4</th>\n",
              "      <td>5</td>\n",
              "      <td>10/11/2015</td>\n",
              "      <td>10/18/2015</td>\n",
              "      <td>Standard Class</td>\n",
              "      <td>Consumer</td>\n",
              "      <td>Fort Lauderdale</td>\n",
              "      <td>Florida</td>\n",
              "      <td>South</td>\n",
              "      <td>Office Supplies</td>\n",
              "      <td>Storage</td>\n",
              "      <td>Eldon Fold 'N Roll Cart System</td>\n",
              "      <td>22.3680</td>\n",
              "      <td>2</td>\n",
              "      <td>0.20</td>\n",
              "      <td>2.5164</td>\n",
              "      <td>bajo_bajo</td>\n",
              "      <td>0.1125</td>\n",
              "    </tr>\n",
              "  </tbody>\n",
              "</table>\n",
              "</div>"
            ],
            "text/plain": [
              "  row_id  order_date   ship_date       ship_mode    segment             city  \\\n",
              "0      1   11/8/2016  11/11/2016    Second Class   Consumer        Henderson   \n",
              "1      2   11/8/2016  11/11/2016    Second Class   Consumer        Henderson   \n",
              "2      3   6/12/2016   6/16/2016    Second Class  Corporate      Los Angeles   \n",
              "3      4  10/11/2015  10/18/2015  Standard Class   Consumer  Fort Lauderdale   \n",
              "4      5  10/11/2015  10/18/2015  Standard Class   Consumer  Fort Lauderdale   \n",
              "\n",
              "        state region         category subcategory  \\\n",
              "0    Kentucky  South        Furniture   Bookcases   \n",
              "1    Kentucky  South        Furniture      Chairs   \n",
              "2  California   West  Office Supplies      Labels   \n",
              "3     Florida  South        Furniture      Tables   \n",
              "4     Florida  South  Office Supplies     Storage   \n",
              "\n",
              "                                        product_name     sales  quantity  \\\n",
              "0                  Bush Somerset Collection Bookcase  261.9600         2   \n",
              "1  Hon Deluxe Fabric Upholstered Stacking Chairs,...  731.9400         3   \n",
              "2  Self-Adhesive Address Labels for Typewriters b...   14.6200         2   \n",
              "3      Bretford CR4500 Series Slim Rectangular Table  957.5775         5   \n",
              "4                     Eldon Fold 'N Roll Cart System   22.3680         2   \n",
              "\n",
              "   discount    profit   segmento  porcentaje_profit  \n",
              "0      0.00   41.9136  alto_alto             0.1600  \n",
              "1      0.00  219.5820  alto_alto             0.3000  \n",
              "2      0.00    6.8714  bajo_bajo             0.4700  \n",
              "3      0.45 -383.0310  alto_bajo            -0.4000  \n",
              "4      0.20    2.5164  bajo_bajo             0.1125  "
            ]
          },
          "execution_count": 191,
          "metadata": {},
          "output_type": "execute_result"
        }
      ],
      "source": [
        "df.head(5)"
      ]
    },
    {
      "cell_type": "code",
      "execution_count": null,
      "metadata": {},
      "outputs": [],
      "source": []
    },
    {
      "cell_type": "markdown",
      "metadata": {
        "id": "Esl_0fQsIOYC"
      },
      "source": [
        "### Uso de tablas de contingencia"
      ]
    },
    {
      "cell_type": "markdown",
      "metadata": {
        "id": "ZhYtKCEnDHW4"
      },
      "source": [
        "## Uso de tablas de contingencia con Pandas"
      ]
    },
    {
      "cell_type": "code",
      "execution_count": 192,
      "metadata": {
        "colab": {
          "base_uri": "https://localhost:8080/",
          "height": 206
        },
        "id": "3lbgmvcgJFEl",
        "outputId": "30d9f623-6798-433c-e53d-72da121813f6"
      },
      "outputs": [
        {
          "data": {
            "text/html": [
              "<div>\n",
              "<style scoped>\n",
              "    .dataframe tbody tr th:only-of-type {\n",
              "        vertical-align: middle;\n",
              "    }\n",
              "\n",
              "    .dataframe tbody tr th {\n",
              "        vertical-align: top;\n",
              "    }\n",
              "\n",
              "    .dataframe thead th {\n",
              "        text-align: right;\n",
              "    }\n",
              "</style>\n",
              "<table border=\"1\" class=\"dataframe\">\n",
              "  <thead>\n",
              "    <tr style=\"text-align: right;\">\n",
              "      <th>ship_mode</th>\n",
              "      <th>First Class</th>\n",
              "      <th>Same Day</th>\n",
              "      <th>Second Class</th>\n",
              "      <th>Standard Class</th>\n",
              "    </tr>\n",
              "    <tr>\n",
              "      <th>region</th>\n",
              "      <th></th>\n",
              "      <th></th>\n",
              "      <th></th>\n",
              "      <th></th>\n",
              "    </tr>\n",
              "  </thead>\n",
              "  <tbody>\n",
              "    <tr>\n",
              "      <th>Central</th>\n",
              "      <td>299</td>\n",
              "      <td>120</td>\n",
              "      <td>465</td>\n",
              "      <td>1439</td>\n",
              "    </tr>\n",
              "    <tr>\n",
              "      <th>East</th>\n",
              "      <td>490</td>\n",
              "      <td>155</td>\n",
              "      <td>530</td>\n",
              "      <td>1673</td>\n",
              "    </tr>\n",
              "    <tr>\n",
              "      <th>South</th>\n",
              "      <td>234</td>\n",
              "      <td>83</td>\n",
              "      <td>329</td>\n",
              "      <td>974</td>\n",
              "    </tr>\n",
              "    <tr>\n",
              "      <th>West</th>\n",
              "      <td>515</td>\n",
              "      <td>185</td>\n",
              "      <td>621</td>\n",
              "      <td>1882</td>\n",
              "    </tr>\n",
              "  </tbody>\n",
              "</table>\n",
              "</div>"
            ],
            "text/plain": [
              "ship_mode  First Class  Same Day  Second Class  Standard Class\n",
              "region                                                        \n",
              "Central            299       120           465            1439\n",
              "East               490       155           530            1673\n",
              "South              234        83           329             974\n",
              "West               515       185           621            1882"
            ]
          },
          "execution_count": 192,
          "metadata": {},
          "output_type": "execute_result"
        }
      ],
      "source": [
        "# Ejemplos\n",
        "# Agrupar por variables más grandes para tener una visión más amplia\n",
        "table_region = pd.crosstab(index=df.region, columns=df.ship_mode)\n",
        "table_region"
      ]
    },
    {
      "cell_type": "code",
      "execution_count": 193,
      "metadata": {},
      "outputs": [
        {
          "data": {
            "text/html": [
              "<div>\n",
              "<style scoped>\n",
              "    .dataframe tbody tr th:only-of-type {\n",
              "        vertical-align: middle;\n",
              "    }\n",
              "\n",
              "    .dataframe tbody tr th {\n",
              "        vertical-align: top;\n",
              "    }\n",
              "\n",
              "    .dataframe thead th {\n",
              "        text-align: right;\n",
              "    }\n",
              "</style>\n",
              "<table border=\"1\" class=\"dataframe\">\n",
              "  <thead>\n",
              "    <tr style=\"text-align: right;\">\n",
              "      <th>segmento</th>\n",
              "      <th>alto_alto</th>\n",
              "      <th>alto_bajo</th>\n",
              "      <th>bajo_alto</th>\n",
              "      <th>bajo_bajo</th>\n",
              "      <th>Total</th>\n",
              "    </tr>\n",
              "    <tr>\n",
              "      <th>region</th>\n",
              "      <th></th>\n",
              "      <th></th>\n",
              "      <th></th>\n",
              "      <th></th>\n",
              "      <th></th>\n",
              "    </tr>\n",
              "  </thead>\n",
              "  <tbody>\n",
              "    <tr>\n",
              "      <th>Central</th>\n",
              "      <td>318</td>\n",
              "      <td>211</td>\n",
              "      <td>181</td>\n",
              "      <td>1613</td>\n",
              "      <td>2323</td>\n",
              "    </tr>\n",
              "    <tr>\n",
              "      <th>East</th>\n",
              "      <td>421</td>\n",
              "      <td>255</td>\n",
              "      <td>294</td>\n",
              "      <td>1878</td>\n",
              "      <td>2848</td>\n",
              "    </tr>\n",
              "    <tr>\n",
              "      <th>South</th>\n",
              "      <td>279</td>\n",
              "      <td>108</td>\n",
              "      <td>175</td>\n",
              "      <td>1058</td>\n",
              "      <td>1620</td>\n",
              "    </tr>\n",
              "    <tr>\n",
              "      <th>West</th>\n",
              "      <td>517</td>\n",
              "      <td>251</td>\n",
              "      <td>366</td>\n",
              "      <td>2069</td>\n",
              "      <td>3203</td>\n",
              "    </tr>\n",
              "    <tr>\n",
              "      <th>Total</th>\n",
              "      <td>1535</td>\n",
              "      <td>825</td>\n",
              "      <td>1016</td>\n",
              "      <td>6618</td>\n",
              "      <td>9994</td>\n",
              "    </tr>\n",
              "  </tbody>\n",
              "</table>\n",
              "</div>"
            ],
            "text/plain": [
              "segmento  alto_alto  alto_bajo  bajo_alto  bajo_bajo  Total\n",
              "region                                                     \n",
              "Central         318        211        181       1613   2323\n",
              "East            421        255        294       1878   2848\n",
              "South           279        108        175       1058   1620\n",
              "West            517        251        366       2069   3203\n",
              "Total          1535        825       1016       6618   9994"
            ]
          },
          "execution_count": 193,
          "metadata": {},
          "output_type": "execute_result"
        }
      ],
      "source": [
        "# Agrupar por variables más grandes para tener una visión más amplia\n",
        "table_region = pd.crosstab(index=df.region, columns=df.segmento, margins=True, margins_name=\"Total\")\n",
        "table_region"
      ]
    },
    {
      "cell_type": "markdown",
      "metadata": {
        "id": "voDKpxHPKlbQ"
      },
      "source": [
        "## Análisis Univariado\n",
        "* Analizar los tipos de distribución de las variables numéricas.\n",
        "* Use estadística descriptiva\n",
        "* Probar distribución normal. Investigar los test y scripts para desarrollar esto.\n",
        "* Recomiendo revisar la librería Scipy y los gráficos de distribución de Seaborn y Matplotlib\n",
        "  * Link: https://scipy.org/\n",
        "* Investigar sobre los test de normalidad y su implementación en Python\n",
        "  * Link: https://docs.scipy.org/doc/scipy/reference/generated/scipy.stats.normaltest.html\n",
        "* Investigar sobre pruebas para variables categoricas y su implementación en Python\n",
        "  * Link: https://docs.scipy.org/doc/scipy/reference/generated/scipy.stats.chi2_contingency.html\n",
        "* Investigar sobre pruebas para variables numéricas (t-test) y su implementación en Python\n",
        "  * Link: https://docs.scipy.org/doc/scipy/reference/generated/scipy.stats.ttest_ind.html"
      ]
    },
    {
      "cell_type": "markdown",
      "metadata": {},
      "source": [
        "# Análisis de Componentes Principales (PCA)"
      ]
    },
    {
      "cell_type": "code",
      "execution_count": 194,
      "metadata": {},
      "outputs": [],
      "source": [
        "# import numpy as np\n",
        "# import matplotlib.pyplot as plt\n",
        "\n",
        "# class PCA:\n",
        "#     def __init__(self, n_components):\n",
        "#         self.n_components = n_components\n",
        "#         self.components = None\n",
        "#         self.mean = None\n",
        "    \n",
        "#     def fit(self, X):\n",
        "#         # Center data\n",
        "#         self.mean = np.mean(X, axis=0)\n",
        "#         X = X - self.mean\n",
        "\n",
        "#         # Cálculo de la matriz de covarianza\n",
        "#         cov = np.cov(X, rowvar=False)\n",
        "\n",
        "#         # Cálculo de los autovalores y autovectores\n",
        "#         eigenvalues, eigenvectors = np.linalg.eigh(cov)\n",
        "#         # Ordenar los autovectores de mayor a menor\n",
        "#         idx = np.argsort(eigenvalues)[::-1]\n",
        "#         eigenvalues = eigenvalues[idx]\n",
        "#         eigenvectors = eigenvectors[:,idx]\n",
        "\n",
        "#         # Seleccionar los n_components eigenvectors como componentes principales\n",
        "#         self.components = eigenvectors[:,:self.n_components]\n",
        "\n",
        "#         # Calcular y almacenar los autovalores en la instancia\n",
        "#         self.explained_variance_ = eigenvalues[:self.n_components]\n",
        "\n",
        "#     def transform(self, X):\n",
        "#         # Proyectar los datos en el nuevo espacio\n",
        "#         X = X - self.mean\n",
        "#         X_transformed = np.dot(X, self.components)\n",
        "#         return X_transformed\n",
        "    "
      ]
    },
    {
      "cell_type": "code",
      "execution_count": 195,
      "metadata": {},
      "outputs": [],
      "source": [
        "# # Creación de la instancia PCA\n",
        "# pca = PCA(n_components=2)\n",
        "# pca.fit(df[['sales', 'profit']].values)\n",
        "# X_pca = pca.transform(df[['sales', 'profit']].values)\n",
        "# print(X_pca.shape)"
      ]
    },
    {
      "cell_type": "code",
      "execution_count": 196,
      "metadata": {},
      "outputs": [],
      "source": [
        "# # Visualización de los datos transformados\n",
        "# plot = plt.scatter(X_pca[:,0], X_pca[:,1], c=df['profit'], alpha=0.5)\n",
        "# for length, vector in zip(pca.explained_variance_, pca.components.T):\n",
        "#     v = vector * 2 * np.sqrt(length)\n",
        "#     plot = plt.plot([0, v[0]], [0, v[1]], '-k', lw=3)\n",
        "\n",
        "# plt.show()"
      ]
    },
    {
      "cell_type": "code",
      "execution_count": 197,
      "metadata": {},
      "outputs": [],
      "source": [
        "# Crear un DataFrame con las componentes principales\n",
        "# pca_df = pd.DataFrame(data=X_pca, columns=['PC1', 'PC2', 'PC3'])\n",
        "\n",
        "# Agregar otras columnas necesarias del DataFrame original si es necesario\n",
        "# pca_df['sales'] = df['sales']\n",
        "# pca_df['profit'] = df['profit']\n",
        "# pca_df['segmento'] = df['segmento']\n",
        "\n",
        "# Ahora, 'pca_df' es un nuevo DataFrame que contiene las componentes principales junto con otras columnas relevantes."
      ]
    },
    {
      "cell_type": "markdown",
      "metadata": {
        "id": "uaPuG--n_fhP"
      },
      "source": [
        "# Finanzas (2ptos)\n",
        "### Que ciudades son las que tiene mejor Profit\n",
        "1. Rentabilidad entre categorías. Evidencia estadística\n",
        "2. Rentabilidad entre segmentos. Hay diferencia estadística"
      ]
    },
    {
      "cell_type": "code",
      "execution_count": 198,
      "metadata": {
        "id": "MhAoL34y_fTW"
      },
      "outputs": [
        {
          "data": {
            "text/html": [
              "<div>\n",
              "<style scoped>\n",
              "    .dataframe tbody tr th:only-of-type {\n",
              "        vertical-align: middle;\n",
              "    }\n",
              "\n",
              "    .dataframe tbody tr th {\n",
              "        vertical-align: top;\n",
              "    }\n",
              "\n",
              "    .dataframe thead tr th {\n",
              "        text-align: left;\n",
              "    }\n",
              "\n",
              "    .dataframe thead tr:last-of-type th {\n",
              "        text-align: right;\n",
              "    }\n",
              "</style>\n",
              "<table border=\"1\" class=\"dataframe\">\n",
              "  <thead>\n",
              "    <tr>\n",
              "      <th></th>\n",
              "      <th>mean</th>\n",
              "      <th>median</th>\n",
              "      <th>std</th>\n",
              "    </tr>\n",
              "    <tr>\n",
              "      <th></th>\n",
              "      <th>porcentaje_profit</th>\n",
              "      <th>porcentaje_profit</th>\n",
              "      <th>porcentaje_profit</th>\n",
              "    </tr>\n",
              "    <tr>\n",
              "      <th>category</th>\n",
              "      <th></th>\n",
              "      <th></th>\n",
              "      <th></th>\n",
              "    </tr>\n",
              "  </thead>\n",
              "  <tbody>\n",
              "    <tr>\n",
              "      <th>Furniture</th>\n",
              "      <td>0.04</td>\n",
              "      <td>0.11</td>\n",
              "      <td>0.34</td>\n",
              "    </tr>\n",
              "    <tr>\n",
              "      <th>Office Supplies</th>\n",
              "      <td>0.14</td>\n",
              "      <td>0.32</td>\n",
              "      <td>0.55</td>\n",
              "    </tr>\n",
              "    <tr>\n",
              "      <th>Technology</th>\n",
              "      <td>0.16</td>\n",
              "      <td>0.18</td>\n",
              "      <td>0.23</td>\n",
              "    </tr>\n",
              "    <tr>\n",
              "      <th>Total</th>\n",
              "      <td>0.12</td>\n",
              "      <td>0.27</td>\n",
              "      <td>0.47</td>\n",
              "    </tr>\n",
              "  </tbody>\n",
              "</table>\n",
              "</div>"
            ],
            "text/plain": [
              "                             mean            median               std\n",
              "                porcentaje_profit porcentaje_profit porcentaje_profit\n",
              "category                                                             \n",
              "Furniture                    0.04              0.11              0.34\n",
              "Office Supplies              0.14              0.32              0.55\n",
              "Technology                   0.16              0.18              0.23\n",
              "Total                        0.12              0.27              0.47"
            ]
          },
          "execution_count": 198,
          "metadata": {},
          "output_type": "execute_result"
        }
      ],
      "source": [
        "# 1. Rentabilidad entre categorías\n",
        "# Buscamos a través de un pivot_table la rentabilidad por categoría\n",
        "tabla_profit_categoria = pd.pivot_table(df, values=['porcentaje_profit'], index=['category'], aggfunc=['mean','median','std'], margins=True, margins_name=\"Total\").round(2)\n",
        "tabla_profit_categoria"
      ]
    },
    {
      "cell_type": "code",
      "execution_count": 199,
      "metadata": {},
      "outputs": [
        {
          "data": {
            "image/png": "[encoded data removed]",
            "text/plain": [
              "<Figure size 1080x720 with 1 Axes>"
            ]
          },
          "metadata": {},
          "output_type": "display_data"
        }
      ],
      "source": [
        "# Como ya generamos una columna con el porcentaje de profit, podemos usarla para crear un subset de datos que nos permita visualizar la rentabilidad por categoría\n",
        "tmp_rent_categoria = df[['category','profit','porcentaje_profit']]\n",
        "# Visualizamos la distribución de la rentabilidad por categoría\n",
        "plt.figure(figsize=(15,10))\n",
        "sns.boxplot(x=tmp_rent_categoria['category'], y=tmp_rent_categoria['porcentaje_profit'], data=tmp_rent_categoria)\n",
        "plt.title('Distribución de la porcentaje_profit categoría', fontsize=14, fontweight='bold', y=1.05)\n",
        "plt.xlabel('Categoría', fontsize=12, labelpad=15, fontweight='bold')\n",
        "plt.ylabel('Rentabilidad', fontsize=12, labelpad=15, fontweight='bold')\n",
        "plt.xticks(rotation=0)\n",
        "plt.show()"
      ]
    },
    {
      "cell_type": "code",
      "execution_count": 200,
      "metadata": {},
      "outputs": [
        {
          "data": {
            "image/png": "[encoded data removed]",
            "text/plain": [
              "<Figure size 1080x720 with 1 Axes>"
            ]
          },
          "metadata": {},
          "output_type": "display_data"
        }
      ],
      "source": [
        "# Como ya generamos una columna con el porcentaje de profit, podemos usarla para crear un subset de datos que nos permita visualizar la rentabilidad\n",
        "# por categoría\n",
        "# tmp_rent_categoria = df[['category','profit']]\n",
        "# Visualizamos la distribución de la rentabilidad por categoría\n",
        "plt.figure(figsize=(15,10))\n",
        "sns.boxplot(x=tmp_rent_categoria['category'], y=tmp_rent_categoria['profit'], data=tmp_rent_categoria)\n",
        "plt.title('Distribución del profit por categoría ($)', fontsize=14, fontweight='bold', y=1.05)\n",
        "plt.xlabel('Categoría', fontsize=12, labelpad=15, fontweight='bold')\n",
        "plt.ylabel('Rentabilidad', fontsize=12, labelpad=15, fontweight='bold')\n",
        "plt.xticks(rotation=0)\n",
        "plt.show()"
      ]
    },
    {
      "cell_type": "code",
      "execution_count": 201,
      "metadata": {},
      "outputs": [
        {
          "data": {
            "image/png": "[encoded data removed]",
            "text/plain": [
              "<Figure size 1440x360 with 3 Axes>"
            ]
          },
          "metadata": {},
          "output_type": "display_data"
        }
      ],
      "source": [
        "# La otra opción es visualizar las distribuciones de las rentabilidades por categoría en gráficos distintos, a través de un histograma de \n",
        "# matplotlib a través de un subplot de matplotlib (acá un ejemplo de cómo hacerlo: https://matplotlib.org/3.1.1/gallery/subplots_axes_and_figures/subplots_demo.html)\n",
        "\n",
        "plt.figure(figsize=(20,5))\n",
        "plt.subplot(1,3,1) # 1 fila, 3 columnas, posición 1\n",
        "plt.hist(tmp_rent_categoria[tmp_rent_categoria['category']=='Furniture']['porcentaje_profit'], bins=50, alpha=0.5, label='Furniture')\n",
        "plt.title('Distribución del % Profit por categoría Furniture', fontsize=14, fontweight='bold')\n",
        "plt.xlabel('Rentabilidad', fontsize=12, labelpad=15, fontweight='bold')\n",
        "plt.ylabel('Frecuencia', fontsize=12, labelpad=15, fontweight='bold')\n",
        "# Incluir la media y la mediana en el gráfico a través de líneas verticales\n",
        "plt.axvline(tmp_rent_categoria[tmp_rent_categoria['category']=='Furniture']['porcentaje_profit'].mean(), color='red', linestyle='--', linewidth=1.5)\n",
        "plt.axvline(tmp_rent_categoria[tmp_rent_categoria['category']=='Furniture']['porcentaje_profit'].median(), color='green', linestyle='--', linewidth=1.5)\n",
        "\n",
        "plt.subplot(1,3,2) # 1 fila, 3 columnas, posición 2\n",
        "plt.hist(tmp_rent_categoria[tmp_rent_categoria['category']=='Office Supplies']['porcentaje_profit'], bins=50, alpha=0.5, label='Office Supplies')\n",
        "plt.title('Distribución del % Profit por categoría Office Supplies', fontsize=14, fontweight='bold')\n",
        "plt.xlabel('Rentabilidad', fontsize=12, labelpad=15, fontweight='bold')\n",
        "plt.ylabel('Frecuencia', fontsize=12, labelpad=15, fontweight='bold')\n",
        "# Incluir la media y la mediana en el gráfico a través de líneas verticales\n",
        "plt.axvline(tmp_rent_categoria[tmp_rent_categoria['category']=='Office Supplies']['porcentaje_profit'].mean(), color='red', linestyle='--', linewidth=1.5)\n",
        "plt.axvline(tmp_rent_categoria[tmp_rent_categoria['category']=='Office Supplies']['porcentaje_profit'].median(), color='green', linestyle='--', linewidth=1.5)\n",
        "\n",
        "\n",
        "plt.subplot(1,3,3) # 1 fila, 3 columnas, posición 3\n",
        "plt.hist(tmp_rent_categoria[tmp_rent_categoria['category']=='Technology']['porcentaje_profit'], bins=50, alpha=0.5, label='Technology')\n",
        "plt.title('Distribución del % Profit por categoría Technology', fontsize=14, fontweight='bold')\n",
        "plt.xlabel('Rentabilidad', fontsize=12, labelpad=15, fontweight='bold')\n",
        "plt.ylabel('Frecuencia', fontsize=12, labelpad=15, fontweight='bold')\n",
        "# Incluir la media y la mediana en el gráfico a través de líneas verticales\n",
        "plt.axvline(tmp_rent_categoria[tmp_rent_categoria['category']=='Technology']['porcentaje_profit'].mean(), color='red', linestyle='--', linewidth=1.5)\n",
        "plt.axvline(tmp_rent_categoria[tmp_rent_categoria['category']=='Technology']['porcentaje_profit'].median(), color='green', linestyle='--', linewidth=1.5)\n",
        "plt.xticks(rotation=0)\n",
        "\n",
        "plt.tight_layout()\n",
        "plt.show();\n"
      ]
    },
    {
      "cell_type": "markdown",
      "metadata": {},
      "source": [
        "### La otra opción es visualizar las distribuciones de las rentabilidades por categoría en gráficos a través de subplots verticales"
      ]
    },
    {
      "cell_type": "code",
      "execution_count": 202,
      "metadata": {},
      "outputs": [
        {
          "data": {
            "image/png": "[encoded data removed]",
            "text/plain": [
              "<Figure size 1080x720 with 3 Axes>"
            ]
          },
          "metadata": {},
          "output_type": "display_data"
        }
      ],
      "source": [
        "# La otra opción es visualizar las distribuciones de las rentabilidades por categoría\n",
        "plt.figure(figsize=(15,10))\n",
        "plt.subplot(3,1,1)\n",
        "plt.hist(tmp_rent_categoria[tmp_rent_categoria['category']=='Furniture']['profit'], bins=50, alpha=0.5, label='Furniture')\n",
        "plt.title('Distribución del Profit por categoría Furniture', fontsize=14, fontweight='bold')\n",
        "plt.xlabel('Rentabilidad', fontsize=12, labelpad=15, fontweight='bold')\n",
        "plt.ylabel('Frecuencia', fontsize=12, labelpad=15, fontweight='bold')\n",
        "# Incluir la media y la mediana en el gráfico a través de líneas verticales\n",
        "plt.axvline(tmp_rent_categoria[tmp_rent_categoria['category']=='Furniture']['profit'].mean(), color='tomato', linestyle='--', linewidth=1.5)\n",
        "plt.axvline(tmp_rent_categoria[tmp_rent_categoria['category']=='Furniture']['profit'].median(), color='blue', linestyle='--', linewidth=1.5)\n",
        "\n",
        "plt.subplot(3,1,2)\n",
        "plt.hist(tmp_rent_categoria[tmp_rent_categoria['category']=='Office Supplies']['profit'], bins=50, alpha=0.5, label='Office Supplies')\n",
        "plt.title('Distribución del Profit por categoría Office Supplies', fontsize=14, fontweight='bold')\n",
        "plt.xlabel('Rentabilidad', fontsize=12, labelpad=15, fontweight='bold')\n",
        "plt.ylabel('Frecuencia', fontsize=12, labelpad=15, fontweight='bold')\n",
        "# Incluir la media y la mediana en el gráfico a través de líneas verticales\n",
        "plt.axvline(tmp_rent_categoria[tmp_rent_categoria['category']=='Office Supplies']['profit'].mean(), color='tomato', linestyle='--', linewidth=1.5)\n",
        "plt.axvline(tmp_rent_categoria[tmp_rent_categoria['category']=='Office Supplies']['profit'].median(), color='blue', linestyle='--', linewidth=1.5)\n",
        "\n",
        "\n",
        "plt.subplot(3,1,3)\n",
        "plt.hist(tmp_rent_categoria[tmp_rent_categoria['category']=='Technology']['profit'], bins=50, alpha=0.5, label='Technology')\n",
        "plt.title('Distribución del Profit por categoría Technology', fontsize=14, fontweight='bold')\n",
        "plt.xlabel('Rentabilidad', fontsize=12, labelpad=15, fontweight='bold')\n",
        "plt.ylabel('Frecuencia', fontsize=12, labelpad=15, fontweight='bold')\n",
        "# Incluir la media y la mediana en el gráfico a través de líneas verticales\n",
        "plt.axvline(tmp_rent_categoria[tmp_rent_categoria['category']=='Technology']['profit'].mean(), color='tomato', linestyle='--', linewidth=1.5)\n",
        "plt.axvline(tmp_rent_categoria[tmp_rent_categoria['category']=='Technology']['profit'].median(), color='blue', linestyle='--', linewidth=1.5)\n",
        "plt.xticks(rotation=0)\n",
        "\n",
        "plt.tight_layout()\n",
        "plt.show();"
      ]
    },
    {
      "cell_type": "code",
      "execution_count": null,
      "metadata": {},
      "outputs": [],
      "source": []
    },
    {
      "cell_type": "markdown",
      "metadata": {},
      "source": [
        "## Probaremos si la distribución de las rentabilidades es normal o no\n",
        "* H0: No hay diferencia estadística entre las categorías de productos\n",
        "* H1: Existe diferencia estadística entre las categorías de productos"
      ]
    },
    {
      "cell_type": "code",
      "execution_count": 203,
      "metadata": {},
      "outputs": [
        {
          "name": "stdout",
          "output_type": "stream",
          "text": [
            "Statistics=0.851, p=0.000\n",
            "La distribución de la rentabilidad de la categoría Furniture NO parece normal (se rechaza H0)\n",
            "Statistics=0.612, p=0.000\n",
            "La distribución de la rentabilidad de la categoría Office Supplies NO parece normal (se rechaza H0)\n",
            "Statistics=0.831, p=0.000\n",
            "La distribución de la rentabilidad de la categoría Technology NO parece normal (se rechaza H0)\n"
          ]
        }
      ],
      "source": [
        "# Debemos testear si hay normalidad en la distribución de las rentabilidades por categoría, para ello usamos el test de Shapiro-Wilk\n",
        "# H0: La distribución es normal\n",
        "# H1: La distribución no es normal\n",
        "\n",
        "# Test de Shapiro-Wilk\n",
        "# Furniture\n",
        "stat, p = stats.shapiro(tmp_rent_categoria[tmp_rent_categoria['category']=='Furniture']['porcentaje_profit'])\n",
        "print('Statistics=%.3f, p=%.3f' % (stat, p))\n",
        "# interpretación\n",
        "alpha = 0.05\n",
        "if p > alpha:\n",
        "    print('La distribución de la rentabilidad de la categoría Furniture parece normal (no se rechaza H0)')\n",
        "else:\n",
        "    print('La distribución de la rentabilidad de la categoría Furniture NO parece normal (se rechaza H0)')\n",
        "\n",
        "# Office Supplies\n",
        "stat, p = stats.shapiro(tmp_rent_categoria[tmp_rent_categoria['category']=='Office Supplies']['porcentaje_profit'])\n",
        "print('Statistics=%.3f, p=%.3f' % (stat, p))\n",
        "# interpretación\n",
        "alpha = 0.05\n",
        "if p > alpha:\n",
        "    print('La distribución de la rentabilidad de la categoría Office Supplies parece normal (no se rechaza H0)')\n",
        "else:\n",
        "    print('La distribución de la rentabilidad de la categoría Office Supplies NO parece normal (se rechaza H0)')\n",
        "\n",
        "# Technology\n",
        "stat, p = stats.shapiro(tmp_rent_categoria[tmp_rent_categoria['category']=='Technology']['porcentaje_profit'])\n",
        "print('Statistics=%.3f, p=%.3f' % (stat, p))\n",
        "# interpretación\n",
        "alpha = 0.05\n",
        "if p > alpha:\n",
        "    print('La distribución de la rentabilidad de la categoría Technology parece normal (no se rechaza H0)')\n",
        "else:\n",
        "    print('La distribución de la rentabilidad de la categoría Technology NO parece normal (se rechaza H0)')\n"
      ]
    },
    {
      "cell_type": "markdown",
      "metadata": {},
      "source": [
        "# Transformación de la data:\n",
        "* Sólo ejemplo y para practicar el código pondremos en práctica algunas transformaciones\n",
        "* Recuerden que deben hacerlo para todas las variables numéricas"
      ]
    },
    {
      "cell_type": "code",
      "execution_count": 204,
      "metadata": {},
      "outputs": [
        {
          "data": {
            "text/html": [
              "<div>\n",
              "<style scoped>\n",
              "    .dataframe tbody tr th:only-of-type {\n",
              "        vertical-align: middle;\n",
              "    }\n",
              "\n",
              "    .dataframe tbody tr th {\n",
              "        vertical-align: top;\n",
              "    }\n",
              "\n",
              "    .dataframe thead th {\n",
              "        text-align: right;\n",
              "    }\n",
              "</style>\n",
              "<table border=\"1\" class=\"dataframe\">\n",
              "  <thead>\n",
              "    <tr style=\"text-align: right;\">\n",
              "      <th></th>\n",
              "      <th>category</th>\n",
              "      <th>profit</th>\n",
              "      <th>porcentaje_profit</th>\n",
              "      <th>log_rentabilidad</th>\n",
              "    </tr>\n",
              "  </thead>\n",
              "  <tbody>\n",
              "    <tr>\n",
              "      <th>0</th>\n",
              "      <td>Furniture</td>\n",
              "      <td>41.9136</td>\n",
              "      <td>0.1600</td>\n",
              "      <td>-1.832581</td>\n",
              "    </tr>\n",
              "    <tr>\n",
              "      <th>1</th>\n",
              "      <td>Furniture</td>\n",
              "      <td>219.5820</td>\n",
              "      <td>0.3000</td>\n",
              "      <td>-1.203973</td>\n",
              "    </tr>\n",
              "    <tr>\n",
              "      <th>2</th>\n",
              "      <td>Office Supplies</td>\n",
              "      <td>6.8714</td>\n",
              "      <td>0.4700</td>\n",
              "      <td>-0.755023</td>\n",
              "    </tr>\n",
              "    <tr>\n",
              "      <th>3</th>\n",
              "      <td>Furniture</td>\n",
              "      <td>-383.0310</td>\n",
              "      <td>-0.4000</td>\n",
              "      <td>NaN</td>\n",
              "    </tr>\n",
              "    <tr>\n",
              "      <th>4</th>\n",
              "      <td>Office Supplies</td>\n",
              "      <td>2.5164</td>\n",
              "      <td>0.1125</td>\n",
              "      <td>-2.184802</td>\n",
              "    </tr>\n",
              "  </tbody>\n",
              "</table>\n",
              "</div>"
            ],
            "text/plain": [
              "          category    profit  porcentaje_profit  log_rentabilidad\n",
              "0        Furniture   41.9136             0.1600         -1.832581\n",
              "1        Furniture  219.5820             0.3000         -1.203973\n",
              "2  Office Supplies    6.8714             0.4700         -0.755023\n",
              "3        Furniture -383.0310            -0.4000               NaN\n",
              "4  Office Supplies    2.5164             0.1125         -2.184802"
            ]
          },
          "execution_count": 204,
          "metadata": {},
          "output_type": "execute_result"
        }
      ],
      "source": [
        "# Creamos una nueva columna con la transformación logarítmica de la rentabilidad en nuestro subset de datos\n",
        "tmp_rent_categoria['log_rentabilidad'] = np.log(tmp_rent_categoria['porcentaje_profit'])\n",
        "tmp_rent_categoria.head(5)"
      ]
    },
    {
      "cell_type": "markdown",
      "metadata": {},
      "source": [
        "# y que hacemos con los valores NAN?"
      ]
    },
    {
      "cell_type": "markdown",
      "metadata": {},
      "source": [
        "## Normalización de la data: MinMaxScaler\n",
        "* La normalización es un proceso para escalar los valores numéricos en un rango específico, como [0, 1], mientras mantiene la distribución de los datos.\n",
        "* Uno de los métodos más comunes para normalizar datos es el método Min-Max, que utiliza la fórmula siguiente:\n",
        "$X = (X - X.min / (X.max - X.min)$\n",
        "* Link: https://scikit-learn.org/stable/modules/generated/sklearn.preprocessing.MinMaxScaler.html\n"
      ]
    },
    {
      "cell_type": "code",
      "execution_count": 205,
      "metadata": {},
      "outputs": [
        {
          "name": "stdout",
          "output_type": "stream",
          "text": [
            "Mínimo:  -6599.978\n",
            "Máximo:  8399.976\n",
            "Rango:  14999.95\n"
          ]
        }
      ],
      "source": [
        "# Vamos a implementar una transformación MinMaxScaler para normalizar los datos de la rentabilidad.\n",
        "# Primero lo haremos paso a paso, para luego implementar una función que nos permita hacerlo de manera automática\n",
        "# Calculamos el mínimo y el máximo de la rentabilidad\n",
        "profit_min = tmp_rent_categoria['profit'].min()\n",
        "profit_max = tmp_rent_categoria['profit'].max()\n",
        "print('Mínimo: ', profit_min)\n",
        "print('Máximo: ', profit_max)\n",
        "\n",
        "# Calculamos el rango de la rentabilidad\n",
        "profit_rango = profit_max - profit_min\n",
        "print('Rango: ', profit_rango.round(2))"
      ]
    },
    {
      "cell_type": "code",
      "execution_count": 206,
      "metadata": {},
      "outputs": [
        {
          "data": {
            "text/html": [
              "<div>\n",
              "<style scoped>\n",
              "    .dataframe tbody tr th:only-of-type {\n",
              "        vertical-align: middle;\n",
              "    }\n",
              "\n",
              "    .dataframe tbody tr th {\n",
              "        vertical-align: top;\n",
              "    }\n",
              "\n",
              "    .dataframe thead th {\n",
              "        text-align: right;\n",
              "    }\n",
              "</style>\n",
              "<table border=\"1\" class=\"dataframe\">\n",
              "  <thead>\n",
              "    <tr style=\"text-align: right;\">\n",
              "      <th></th>\n",
              "      <th>category</th>\n",
              "      <th>profit</th>\n",
              "      <th>porcentaje_profit</th>\n",
              "      <th>log_rentabilidad</th>\n",
              "      <th>profit_minmax_handcraft</th>\n",
              "    </tr>\n",
              "  </thead>\n",
              "  <tbody>\n",
              "    <tr>\n",
              "      <th>0</th>\n",
              "      <td>Furniture</td>\n",
              "      <td>41.9136</td>\n",
              "      <td>0.1600</td>\n",
              "      <td>-1.832581</td>\n",
              "      <td>0.442794</td>\n",
              "    </tr>\n",
              "    <tr>\n",
              "      <th>1</th>\n",
              "      <td>Furniture</td>\n",
              "      <td>219.5820</td>\n",
              "      <td>0.3000</td>\n",
              "      <td>-1.203973</td>\n",
              "      <td>0.454639</td>\n",
              "    </tr>\n",
              "    <tr>\n",
              "      <th>2</th>\n",
              "      <td>Office Supplies</td>\n",
              "      <td>6.8714</td>\n",
              "      <td>0.4700</td>\n",
              "      <td>-0.755023</td>\n",
              "      <td>0.440458</td>\n",
              "    </tr>\n",
              "    <tr>\n",
              "      <th>3</th>\n",
              "      <td>Furniture</td>\n",
              "      <td>-383.0310</td>\n",
              "      <td>-0.4000</td>\n",
              "      <td>NaN</td>\n",
              "      <td>0.414464</td>\n",
              "    </tr>\n",
              "    <tr>\n",
              "      <th>4</th>\n",
              "      <td>Office Supplies</td>\n",
              "      <td>2.5164</td>\n",
              "      <td>0.1125</td>\n",
              "      <td>-2.184802</td>\n",
              "      <td>0.440168</td>\n",
              "    </tr>\n",
              "  </tbody>\n",
              "</table>\n",
              "</div>"
            ],
            "text/plain": [
              "          category    profit  porcentaje_profit  log_rentabilidad  \\\n",
              "0        Furniture   41.9136             0.1600         -1.832581   \n",
              "1        Furniture  219.5820             0.3000         -1.203973   \n",
              "2  Office Supplies    6.8714             0.4700         -0.755023   \n",
              "3        Furniture -383.0310            -0.4000               NaN   \n",
              "4  Office Supplies    2.5164             0.1125         -2.184802   \n",
              "\n",
              "   profit_minmax_handcraft  \n",
              "0                 0.442794  \n",
              "1                 0.454639  \n",
              "2                 0.440458  \n",
              "3                 0.414464  \n",
              "4                 0.440168  "
            ]
          },
          "execution_count": 206,
          "metadata": {},
          "output_type": "execute_result"
        }
      ],
      "source": [
        "# Calculamos la rentabilidad normalizada\n",
        "tmp_rent_categoria['profit_minmax_handcraft'] = (tmp_rent_categoria['profit'] - profit_min) / profit_rango\n",
        "tmp_rent_categoria.head(5) #.min() .max()\n"
      ]
    },
    {
      "cell_type": "code",
      "execution_count": 207,
      "metadata": {},
      "outputs": [
        {
          "data": {
            "text/html": [
              "<div>\n",
              "<style scoped>\n",
              "    .dataframe tbody tr th:only-of-type {\n",
              "        vertical-align: middle;\n",
              "    }\n",
              "\n",
              "    .dataframe tbody tr th {\n",
              "        vertical-align: top;\n",
              "    }\n",
              "\n",
              "    .dataframe thead th {\n",
              "        text-align: right;\n",
              "    }\n",
              "</style>\n",
              "<table border=\"1\" class=\"dataframe\">\n",
              "  <thead>\n",
              "    <tr style=\"text-align: right;\">\n",
              "      <th></th>\n",
              "      <th>category</th>\n",
              "      <th>profit</th>\n",
              "      <th>porcentaje_profit</th>\n",
              "      <th>log_rentabilidad</th>\n",
              "      <th>profit_minmax_handcraft</th>\n",
              "      <th>profit_minmax_skl</th>\n",
              "    </tr>\n",
              "  </thead>\n",
              "  <tbody>\n",
              "    <tr>\n",
              "      <th>0</th>\n",
              "      <td>Furniture</td>\n",
              "      <td>41.9136</td>\n",
              "      <td>0.1600</td>\n",
              "      <td>-1.832581</td>\n",
              "      <td>0.442794</td>\n",
              "      <td>0.442794</td>\n",
              "    </tr>\n",
              "    <tr>\n",
              "      <th>1</th>\n",
              "      <td>Furniture</td>\n",
              "      <td>219.5820</td>\n",
              "      <td>0.3000</td>\n",
              "      <td>-1.203973</td>\n",
              "      <td>0.454639</td>\n",
              "      <td>0.454639</td>\n",
              "    </tr>\n",
              "    <tr>\n",
              "      <th>2</th>\n",
              "      <td>Office Supplies</td>\n",
              "      <td>6.8714</td>\n",
              "      <td>0.4700</td>\n",
              "      <td>-0.755023</td>\n",
              "      <td>0.440458</td>\n",
              "      <td>0.440458</td>\n",
              "    </tr>\n",
              "    <tr>\n",
              "      <th>3</th>\n",
              "      <td>Furniture</td>\n",
              "      <td>-383.0310</td>\n",
              "      <td>-0.4000</td>\n",
              "      <td>NaN</td>\n",
              "      <td>0.414464</td>\n",
              "      <td>0.414464</td>\n",
              "    </tr>\n",
              "    <tr>\n",
              "      <th>4</th>\n",
              "      <td>Office Supplies</td>\n",
              "      <td>2.5164</td>\n",
              "      <td>0.1125</td>\n",
              "      <td>-2.184802</td>\n",
              "      <td>0.440168</td>\n",
              "      <td>0.440168</td>\n",
              "    </tr>\n",
              "  </tbody>\n",
              "</table>\n",
              "</div>"
            ],
            "text/plain": [
              "          category    profit  porcentaje_profit  log_rentabilidad  \\\n",
              "0        Furniture   41.9136             0.1600         -1.832581   \n",
              "1        Furniture  219.5820             0.3000         -1.203973   \n",
              "2  Office Supplies    6.8714             0.4700         -0.755023   \n",
              "3        Furniture -383.0310            -0.4000               NaN   \n",
              "4  Office Supplies    2.5164             0.1125         -2.184802   \n",
              "\n",
              "   profit_minmax_handcraft  profit_minmax_skl  \n",
              "0                 0.442794           0.442794  \n",
              "1                 0.454639           0.454639  \n",
              "2                 0.440458           0.440458  \n",
              "3                 0.414464           0.414464  \n",
              "4                 0.440168           0.440168  "
            ]
          },
          "execution_count": 207,
          "metadata": {},
          "output_type": "execute_result"
        }
      ],
      "source": [
        "# Implementamos la función MinMaxScaler de Sklearn\n",
        "from sklearn.preprocessing import MinMaxScaler\n",
        "scaler = MinMaxScaler()\n",
        "# Calculamos la rentabilidad normalizada\n",
        "tmp_rent_categoria['profit_minmax_skl'] = scaler.fit_transform(tmp_rent_categoria[['profit']])\n",
        "tmp_rent_categoria.head(5)"
      ]
    },
    {
      "cell_type": "code",
      "execution_count": 208,
      "metadata": {},
      "outputs": [
        {
          "data": {
            "image/png": "[encoded data removed]",
            "text/plain": [
              "<Figure size 1080x720 with 2 Axes>"
            ]
          },
          "metadata": {},
          "output_type": "display_data"
        }
      ],
      "source": [
        "# Visualizamos la distribución de la rentabilidad normalizada\n",
        "plt.figure(figsize=(15,10))\n",
        "plt.subplot(2,1,1)\n",
        "plt.hist(tmp_rent_categoria['profit_minmax_handcraft'], bins=50, alpha=0.5, label='Profit MinMax Handcraft')\n",
        "plt.title('Distribución del Profit MinMax Handcraft', fontsize=14, fontweight='bold')\n",
        "plt.xlabel('Rentabilidad', fontsize=12, labelpad=15, fontweight='bold')\n",
        "plt.ylabel('Frecuencia', fontsize=12, labelpad=15, fontweight='bold')\n",
        "\n",
        "plt.subplot(2,1,2)\n",
        "plt.hist(tmp_rent_categoria['profit_minmax_skl'], bins=50, alpha=0.5, label='Profit MinMax Sklearn')\n",
        "plt.title('Distribución del Profit MinMax Sklearn', fontsize=14, fontweight='bold')\n",
        "plt.xlabel('Rentabilidad', fontsize=12, labelpad=15, fontweight='bold')\n",
        "plt.ylabel('Frecuencia', fontsize=12, labelpad=15, fontweight='bold')\n",
        "\n",
        "plt.tight_layout()\n",
        "plt.show();"
      ]
    },
    {
      "cell_type": "markdown",
      "metadata": {},
      "source": [
        "## Estandarización de la data: StandardScaler de Scikit-Learn"
      ]
    },
    {
      "cell_type": "code",
      "execution_count": 209,
      "metadata": {},
      "outputs": [
        {
          "name": "stdout",
          "output_type": "stream",
          "text": [
            "Media:  28.65689630778467\n",
            "Desviación estándar:  234.2601076909573\n"
          ]
        }
      ],
      "source": [
        "# Implementaremos la funció StandardScaler para normalizar los datos de la rentabilidad.\n",
        "# Primero lo haremos paso a paso, para luego implementar una función que nos permita hacerlo de manera automática\n",
        "# Calculamos la media y la desviación estándar de la rentabilidad\n",
        "profit_mean = tmp_rent_categoria['profit'].mean()\n",
        "profit_std = tmp_rent_categoria['profit'].std()\n",
        "print('Media: ', profit_mean)\n",
        "print('Desviación estándar: ', profit_std)\n",
        "\n"
      ]
    },
    {
      "cell_type": "code",
      "execution_count": 210,
      "metadata": {},
      "outputs": [
        {
          "data": {
            "text/html": [
              "<div>\n",
              "<style scoped>\n",
              "    .dataframe tbody tr th:only-of-type {\n",
              "        vertical-align: middle;\n",
              "    }\n",
              "\n",
              "    .dataframe tbody tr th {\n",
              "        vertical-align: top;\n",
              "    }\n",
              "\n",
              "    .dataframe thead th {\n",
              "        text-align: right;\n",
              "    }\n",
              "</style>\n",
              "<table border=\"1\" class=\"dataframe\">\n",
              "  <thead>\n",
              "    <tr style=\"text-align: right;\">\n",
              "      <th></th>\n",
              "      <th>category</th>\n",
              "      <th>profit</th>\n",
              "      <th>porcentaje_profit</th>\n",
              "      <th>log_rentabilidad</th>\n",
              "      <th>profit_minmax_handcraft</th>\n",
              "      <th>profit_minmax_skl</th>\n",
              "      <th>profit_standard_normalizada</th>\n",
              "    </tr>\n",
              "  </thead>\n",
              "  <tbody>\n",
              "    <tr>\n",
              "      <th>0</th>\n",
              "      <td>Furniture</td>\n",
              "      <td>41.9136</td>\n",
              "      <td>0.1600</td>\n",
              "      <td>-1.832581</td>\n",
              "      <td>0.442794</td>\n",
              "      <td>0.442794</td>\n",
              "      <td>0.056590</td>\n",
              "    </tr>\n",
              "    <tr>\n",
              "      <th>1</th>\n",
              "      <td>Furniture</td>\n",
              "      <td>219.5820</td>\n",
              "      <td>0.3000</td>\n",
              "      <td>-1.203973</td>\n",
              "      <td>0.454639</td>\n",
              "      <td>0.454639</td>\n",
              "      <td>0.815013</td>\n",
              "    </tr>\n",
              "    <tr>\n",
              "      <th>2</th>\n",
              "      <td>Office Supplies</td>\n",
              "      <td>6.8714</td>\n",
              "      <td>0.4700</td>\n",
              "      <td>-0.755023</td>\n",
              "      <td>0.440458</td>\n",
              "      <td>0.440458</td>\n",
              "      <td>-0.092997</td>\n",
              "    </tr>\n",
              "    <tr>\n",
              "      <th>3</th>\n",
              "      <td>Furniture</td>\n",
              "      <td>-383.0310</td>\n",
              "      <td>-0.4000</td>\n",
              "      <td>NaN</td>\n",
              "      <td>0.414464</td>\n",
              "      <td>0.414464</td>\n",
              "      <td>-1.757397</td>\n",
              "    </tr>\n",
              "    <tr>\n",
              "      <th>4</th>\n",
              "      <td>Office Supplies</td>\n",
              "      <td>2.5164</td>\n",
              "      <td>0.1125</td>\n",
              "      <td>-2.184802</td>\n",
              "      <td>0.440168</td>\n",
              "      <td>0.440168</td>\n",
              "      <td>-0.111587</td>\n",
              "    </tr>\n",
              "  </tbody>\n",
              "</table>\n",
              "</div>"
            ],
            "text/plain": [
              "          category    profit  porcentaje_profit  log_rentabilidad  \\\n",
              "0        Furniture   41.9136             0.1600         -1.832581   \n",
              "1        Furniture  219.5820             0.3000         -1.203973   \n",
              "2  Office Supplies    6.8714             0.4700         -0.755023   \n",
              "3        Furniture -383.0310            -0.4000               NaN   \n",
              "4  Office Supplies    2.5164             0.1125         -2.184802   \n",
              "\n",
              "   profit_minmax_handcraft  profit_minmax_skl  profit_standard_normalizada  \n",
              "0                 0.442794           0.442794                     0.056590  \n",
              "1                 0.454639           0.454639                     0.815013  \n",
              "2                 0.440458           0.440458                    -0.092997  \n",
              "3                 0.414464           0.414464                    -1.757397  \n",
              "4                 0.440168           0.440168                    -0.111587  "
            ]
          },
          "execution_count": 210,
          "metadata": {},
          "output_type": "execute_result"
        }
      ],
      "source": [
        "# Calculamos la rentabilidad normalizada\n",
        "tmp_rent_categoria['profit_standard_normalizada'] = (tmp_rent_categoria['profit'] - profit_mean) / profit_std\n",
        "tmp_rent_categoria.head(5) #.min() .max()"
      ]
    },
    {
      "cell_type": "code",
      "execution_count": 211,
      "metadata": {},
      "outputs": [],
      "source": [
        "# Ahora haremos los mismo, pero a través de la función StandardScaler de sklearn\n",
        "# Importamos la función\n",
        "from sklearn.preprocessing import StandardScaler\n",
        "\n",
        "# Creamos una instancia de la función\n",
        "scaler = StandardScaler()\n"
      ]
    },
    {
      "cell_type": "code",
      "execution_count": 212,
      "metadata": {},
      "outputs": [
        {
          "name": "stdout",
          "output_type": "stream",
          "text": [
            "[28.65689631]\n",
            "[234.24838736]\n"
          ]
        }
      ],
      "source": [
        "# Ajustamos la instancia a nuestro subset de datos\n",
        "scaler.fit(tmp_rent_categoria[['profit']])\n",
        "print(scaler.mean_)\n",
        "print(scaler.scale_)"
      ]
    },
    {
      "cell_type": "code",
      "execution_count": 213,
      "metadata": {},
      "outputs": [
        {
          "data": {
            "text/html": [
              "<div>\n",
              "<style scoped>\n",
              "    .dataframe tbody tr th:only-of-type {\n",
              "        vertical-align: middle;\n",
              "    }\n",
              "\n",
              "    .dataframe tbody tr th {\n",
              "        vertical-align: top;\n",
              "    }\n",
              "\n",
              "    .dataframe thead th {\n",
              "        text-align: right;\n",
              "    }\n",
              "</style>\n",
              "<table border=\"1\" class=\"dataframe\">\n",
              "  <thead>\n",
              "    <tr style=\"text-align: right;\">\n",
              "      <th></th>\n",
              "      <th>category</th>\n",
              "      <th>profit</th>\n",
              "      <th>porcentaje_profit</th>\n",
              "      <th>log_rentabilidad</th>\n",
              "      <th>profit_minmax_handcraft</th>\n",
              "      <th>profit_minmax_skl</th>\n",
              "      <th>profit_standard_normalizada</th>\n",
              "      <th>profit_standard_normalizada_skl</th>\n",
              "    </tr>\n",
              "  </thead>\n",
              "  <tbody>\n",
              "    <tr>\n",
              "      <th>0</th>\n",
              "      <td>Furniture</td>\n",
              "      <td>41.9136</td>\n",
              "      <td>0.1600</td>\n",
              "      <td>-1.832581</td>\n",
              "      <td>0.442794</td>\n",
              "      <td>0.442794</td>\n",
              "      <td>0.056590</td>\n",
              "      <td>0.056593</td>\n",
              "    </tr>\n",
              "    <tr>\n",
              "      <th>1</th>\n",
              "      <td>Furniture</td>\n",
              "      <td>219.5820</td>\n",
              "      <td>0.3000</td>\n",
              "      <td>-1.203973</td>\n",
              "      <td>0.454639</td>\n",
              "      <td>0.454639</td>\n",
              "      <td>0.815013</td>\n",
              "      <td>0.815054</td>\n",
              "    </tr>\n",
              "    <tr>\n",
              "      <th>2</th>\n",
              "      <td>Office Supplies</td>\n",
              "      <td>6.8714</td>\n",
              "      <td>0.4700</td>\n",
              "      <td>-0.755023</td>\n",
              "      <td>0.440458</td>\n",
              "      <td>0.440458</td>\n",
              "      <td>-0.092997</td>\n",
              "      <td>-0.093002</td>\n",
              "    </tr>\n",
              "    <tr>\n",
              "      <th>3</th>\n",
              "      <td>Furniture</td>\n",
              "      <td>-383.0310</td>\n",
              "      <td>-0.4000</td>\n",
              "      <td>NaN</td>\n",
              "      <td>0.414464</td>\n",
              "      <td>0.414464</td>\n",
              "      <td>-1.757397</td>\n",
              "      <td>-1.757484</td>\n",
              "    </tr>\n",
              "    <tr>\n",
              "      <th>4</th>\n",
              "      <td>Office Supplies</td>\n",
              "      <td>2.5164</td>\n",
              "      <td>0.1125</td>\n",
              "      <td>-2.184802</td>\n",
              "      <td>0.440168</td>\n",
              "      <td>0.440168</td>\n",
              "      <td>-0.111587</td>\n",
              "      <td>-0.111593</td>\n",
              "    </tr>\n",
              "  </tbody>\n",
              "</table>\n",
              "</div>"
            ],
            "text/plain": [
              "          category    profit  porcentaje_profit  log_rentabilidad  \\\n",
              "0        Furniture   41.9136             0.1600         -1.832581   \n",
              "1        Furniture  219.5820             0.3000         -1.203973   \n",
              "2  Office Supplies    6.8714             0.4700         -0.755023   \n",
              "3        Furniture -383.0310            -0.4000               NaN   \n",
              "4  Office Supplies    2.5164             0.1125         -2.184802   \n",
              "\n",
              "   profit_minmax_handcraft  profit_minmax_skl  profit_standard_normalizada  \\\n",
              "0                 0.442794           0.442794                     0.056590   \n",
              "1                 0.454639           0.454639                     0.815013   \n",
              "2                 0.440458           0.440458                    -0.092997   \n",
              "3                 0.414464           0.414464                    -1.757397   \n",
              "4                 0.440168           0.440168                    -0.111587   \n",
              "\n",
              "   profit_standard_normalizada_skl  \n",
              "0                         0.056593  \n",
              "1                         0.815054  \n",
              "2                        -0.093002  \n",
              "3                        -1.757484  \n",
              "4                        -0.111593  "
            ]
          },
          "execution_count": 213,
          "metadata": {},
          "output_type": "execute_result"
        }
      ],
      "source": [
        "tmp_rent_categoria['profit_standard_normalizada_skl'] = scaler.transform(tmp_rent_categoria[['profit']])\n",
        "tmp_rent_categoria.head(5)"
      ]
    },
    {
      "cell_type": "markdown",
      "metadata": {},
      "source": [
        "# Tarea:\n",
        "* Visualizar las distribuciones de las rentabilidades calculadas en el punto anterior\n",
        "* Probar si las distribuciones son normales o no"
      ]
    },
    {
      "cell_type": "code",
      "execution_count": null,
      "metadata": {},
      "outputs": [],
      "source": []
    },
    {
      "cell_type": "code",
      "execution_count": null,
      "metadata": {},
      "outputs": [],
      "source": []
    },
    {
      "cell_type": "code",
      "execution_count": null,
      "metadata": {},
      "outputs": [],
      "source": []
    },
    {
      "cell_type": "code",
      "execution_count": null,
      "metadata": {},
      "outputs": [],
      "source": []
    },
    {
      "cell_type": "code",
      "execution_count": 216,
      "metadata": {},
      "outputs": [
        {
          "name": "stdout",
          "output_type": "stream",
          "text": [
            "Statistics=nan, p=nan\n",
            "Las varianzas NO parecen iguales (se rechaza H0)\n",
            "Statistics=nan, p=nan\n",
            "Las medias NO parecen iguales (se rechaza H0)\n"
          ]
        }
      ],
      "source": [
        "# # Como los datos no son normales, usamos el test de Levene para testear la igualdad de varianzas\n",
        "# # H0: Las varianzas son iguales\n",
        "# # H1: Las varianzas no son iguales\n",
        "\n",
        "# # Test de Levene\n",
        "# stat, p = stats.levene(tmp_rent_categoria[tmp_rent_categoria['category']=='Furniture']['log_rentabilidad'], \n",
        "#                        tmp_rent_categoria[tmp_rent_categoria['category']=='Office Supplies']['log_rentabilidad'],\n",
        "#                        tmp_rent_categoria[tmp_rent_categoria['category']=='Technology']['log_rentabilidad'])\n",
        "# print('Statistics=%.3f, p=%.3f' % (stat, p))\n",
        "# # interpretación\n",
        "# alpha = 0.05\n",
        "# if p > alpha:\n",
        "#     print('Las varianzas parecen iguales (no se rechaza H0)')\n",
        "# else:\n",
        "#     print('Las varianzas NO parecen iguales (se rechaza H0)')\n",
        "\n",
        "# # Como las varianzas no son iguales, usamos el test de Welch para testear la igualdad de medias\n",
        "# # H0: Las medias son iguales\n",
        "# # H1: Las medias no son iguales\n",
        "\n",
        "# # Test de Welch\n",
        "# stat, p = stats.ttest_ind(tmp_rent_categoria[tmp_rent_categoria['category']=='Furniture']['log_rentabilidad'], \n",
        "#                        tmp_rent_categoria[tmp_rent_categoria['category']=='Office Supplies']['log_rentabilidad'],\n",
        "#                        equal_var=False)\n",
        "# print('Statistics=%.3f, p=%.3f' % (stat, p))\n",
        "# # interpretación\n",
        "# alpha = 0.05\n",
        "# if p > alpha:\n",
        "#     print('Las medias parecen iguales (no se rechaza H0)')\n",
        "# else:\n",
        "#     print('Las medias NO parecen iguales (se rechaza H0)')\n"
      ]
    },
    {
      "cell_type": "code",
      "execution_count": null,
      "metadata": {},
      "outputs": [],
      "source": []
    },
    {
      "cell_type": "markdown",
      "metadata": {
        "id": "PkyCuX1j_lfS"
      },
      "source": [
        "# Operaciones (2ptos)\n",
        "### Cuales son los state que tiene mayor nivel de ventas\n",
        "1. A que estados estamos enviando más? Evidencia estadística\n",
        "2. Diferencia entre segmentos. Hay diferencia estadística\n"
      ]
    },
    {
      "cell_type": "code",
      "execution_count": null,
      "metadata": {
        "id": "yzFDqEgQ_rly"
      },
      "outputs": [],
      "source": []
    },
    {
      "cell_type": "markdown",
      "metadata": {
        "id": "U6Uru02e_sRa"
      },
      "source": [
        "# Comercial (2ptos)\n",
        "## Cuales son las categorías de productos más rentables\n",
        "1. Hay diferencias entre categorías? (estadística)\n",
        "2. En que estados se presentan estas diferencias\n",
        "3. En que categorías se detectaron los mayores descuentos"
      ]
    },
    {
      "cell_type": "code",
      "execution_count": null,
      "metadata": {
        "id": "fh8ZsEP6_svT"
      },
      "outputs": [],
      "source": []
    },
    {
      "cell_type": "markdown",
      "metadata": {},
      "source": [
        "# Conclusiones (3ptos)\n",
        "***ATENCIÓN***\n",
        "* Las conclusiones deben incluír las métricas investigadas en los análisis que se realizaron\n",
        "* Se probará su script para que el código sea reproducible\n",
        "\n",
        "1. Que conclusiones podemos sacar de este análisis?\n",
        "2. Que recomendaciones podemos dar a la empresa?\n",
        "3. Que análisis adicionales podemos hacer?"
      ]
    }
  ],
  "metadata": {
    "colab": {
      "provenance": []
    },
    "kernelspec": {
      "display_name": "Python 3",
      "name": "python3"
    },
    "language_info": {
      "codemirror_mode": {
        "name": "ipython",
        "version": 3
      },
      "file_extension": ".py",
      "mimetype": "text/x-python",
      "name": "python",
      "nbconvert_exporter": "python",
      "pygments_lexer": "ipython3",
      "version": "3.10.4"
    }
  },
  "nbformat": 4,
  "nbformat_minor": 0
}
