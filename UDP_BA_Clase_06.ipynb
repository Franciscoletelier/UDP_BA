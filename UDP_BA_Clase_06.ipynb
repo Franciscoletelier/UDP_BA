{
  "cells": [
    {
      "cell_type": "markdown",
      "metadata": {
        "id": "jHt4VVsFEnew"
      },
      "source": [
        "![logo_fae_web.jpeg](data:image/jpeg;base64,/9j/4AAQSkZJRgABAQAAAQABAAD/2wCEAAoHCBQUFBcUFBQXFxcXGiEaGRkaGRgcGRoaGRsZGhkdGhwcICwjGhwoIBgaJDUkKC0vMjMyGSI4PTgxPCwxMi8BCwsLDw4PGhERGjEiISgyMTIzMTExLzw8MTIxLzIyLzwyNDExMi8xMS8zMTE6LzsxLy8vLzExMTIxLzEvMTEvMf/AABEIAG0BzAMBIgACEQEDEQH/xAAbAAACAgMBAAAAAAAAAAAAAAAABgUHAQIEA//EAE8QAAIBAwEEBgQHDAcGBwAAAAECAwAEEQUGEiExBxNBUWFxFCKBkSMycnOTobEkMzQ1QlJUYoKywdEVF1N0krPCFkRVotLTJTZD4ePw8f/EABkBAQEAAwEAAAAAAAAAAAAAAAABAgMEBf/EACsRAQACAgECAwYHAAAAAAAAAAABAgMRBBIhBTFBEzJRYYGxFCI0caHB4f/aAAwDAQACEQMRAD8AuaiisZoM0Vis0BRWM0ZoM1g0E14zfFPkfsoQ2Dit6pS0vZcpmWU8Rn138O81dEXIeVYUvFtuzmcOeNMRM729BWawDRms3GzRWAaM0GaKKKAooooCiiigKKKKAooooCiiigKKKKAooooCiiigKKKKAooooCiiigKKKKAooooCiiigKKKKAooooCiiigKKKKAooooCiiigKKKKDTNQGq7UQ28hjcNvAA8FyMHlxqeAqr9uh92N8la15b9Fdw7fD+PXPlmlvhv7LD0nU0uIxImd0kjiMHhzr1v7tYo3kbO6iljjicCoHYD8EHy3+2pDakfck/zbfZWUW/LtrvirXkTjjy3r6OGz2wt5JEjUPvOd0ZXhk1PXNykal3YKo4knlVSbPfhUPzgqb2+1AvMIQfVQZI72Pf5Aj31qjLPR1S9DN4bX8RTFSdRMblMz7dQA4WN3HeMAfWa7NM2pguMoCyOwOFbHHgeRHA0obLbOelbzuzLGpxw5sefDwFdu0eyYgQzQsxC8WU4yAPylI7RUi99b12ZZONwov7KJmLfH02UbbmnmPtq1tW2hitSiyBsuu8N0Z4DAqq4PjL5j7aaekL77D8232rWGO0xS0w7Obgrmz48dvLua4NqLd4mmLFVVt31hgk4BwB286in29hzgRSEd/qfZvZpP0PS3upBGrEKMsx7FyMZHieFNl9sNHuExO/WAZG9ghj3cuFZxe9q7hx5OLw8GToyTMzP8R809o2vw3OQjYcDJRuDY7/EVMCqSt5nicOuVeNvcRwI+rBq49PuRLGkg/KUH3jNbMeTqjv5uTxDhRx7Rak7rLa4vY4yBJIiE8t5lXPlk15/0xbfpEX0ifzqu+kSyjm1XT4pF3kkBVh3gsO3sqfHRnpn9gf8AG1bHnmiC/ic4SWNzzwrqTjyBrqBpe0TY6zs5DLBGUcqVzvMeBwTwPkKldUvkt4ZJnOFjUsfHA5eZPCg9Y7pGZkV1LpjfUEZXIyMjsyK6Ko/ZXVJ7a8jvbjhFqLsrMfF8IT+qCQB+rmrvzQZrlu76OIb0kiIO92Cg+WaWdvdqjZokcK79zMSIlxnABALEeZAA7SfA1D6P0cLL90ak7zTvxYbxwo7FzzOO4YA7KB5s9Xt5TiKaNz3K6k+4Gu7NIWq9GFlIuYQ8Eg4q6sSA3YcH+BBqe2UsruG36u7lWV1JCsMn1B8XeJA3j/8AeNBMw3CPncdW3Tht1gcHuOORr3qtuiVRv6hwx8P/ABkqyaDwe4QMFLqGb4qkgE+Q5mtpplRSzMFUcyxAA8yarnagf+O6d5H9ySprpUH/AIXNnvT/ADEoG2OQMAVIIPEEcQR4HtryuLyOPHWOiZ5bzKufeajNjR9wWvzKfuitte2atb3c9Ij39zO7xIxnnyoOv+l7b9Ih+kT+dZTVIGIVZoiTyAkQk+QzVUbbbJWdtcWUcUe6s0m7IN4nI3kHby4E08WnR7p0TpIkJDIwZTvtwYcjzoG2ueO6jZmRXUsmN5QRlc8sjsrz1K+SCJ5nOFRSx9nZ5nlVN7MarPb3kV/cDEWoSMjN2cWwhPgpwB+qDQXhXPcXUcYBkdEB4AswUE+GTXuKrXpiiDLZKwyGuN0+RAB+qgfBq9t+kQ/SJ/OuuORWAKkMDyIII94pQPRpphH3k/42qC1PYqbT83OlyyDcyzwE5V1HPA5MfPj3GgtCil7Y7aNL+3EqjddTuyJ+a+M+4ggimA0HNPexx4EkiJnlvMq58smvIatbnh18WfnE/nVe9ItlHNqmnRSLvJJvKw5ZBZc1Ov0ZaYQR1JGe52oHFXBGQcg9oreqp1PZ+60f7psJXkgXjLA5yAveByx3kYI8eVWDs9rMd5bpPGfVYYIPNWBwynxBoOmXUoUJV5o1YcwzqCPYTmtDq9t+kQ/SJ/Oqxh0K3vNcvo503lChgMkcdyIcxTX/AFaaZ/YH/G386Bqt7uNwSjo4HMqwbHniuiofQNnbayDrbR7gchm4k5IGBzqYoCiiigKKKKAooooCiiigKKKKDWqs26/DG+StWmarPb+ArchzydBj9ngR9Y94rTnjdHp+ETEcjv6xJl2A/BB8tvtru2sbFnP8gj38KVNjNfjhRoZW3RvFlbs9bGQceIPvrba/aVJU6mE7ykgu3HGBx3R35NIvXoZ24mWeZ7s63vfyL2z/AOFQ/LFeu1OfTJvP6t0V4bP/AIVD8tamdvLIx3HWY9WQDj+svMe7B99aIjeP6vXvaK8ysT61/s07DY9Cjxz3nz59Y38MVM3ygxuG5FWz5YNIOx20KW6tFKcITvK2MhSeYPgeefOpDabauJomigbeZxulhnCqefmeyt9cleh43I4eaeXMRWe8738pkiWvNPMfaKbOkT77B8232rSrB8ZfMfaKaukT77B8232itNfcs9rN+rxftP2dnRyoxMe3K+7Bp5xVT7MayLWUlgSjjDY5jHEHHbTnf7YWyRlkbffHqqAefjnlW7HesU7y8bxDiZbciZrWZ3rRB10D0mbHLfP1/wDvVlbI/gcOfzPq7PqqqzvyP3vI3/M5J+3NXHpVt1UMcf5qhfcKww97TLp8Wnow48c+f+K56R71INU0+aTJSIM7boy2Aw5DtNS/9a1h+bcfRH+dcO24B1nTAeIyf3hVi+jJ+Yv+EV1PBRezm0MN9G0kIkCq+4d9CpzgHgD2YYUp9Jd09xLb6XEfXnYPKR+RGDwz7mP7PjT7K6RIznCooLNgAAADJNVJoNpqF9czanbSRxlnaNGkXf8AUXAwgPAYGBnvzSA6bZ7NLLpxgiUBoEBhA741xujzUY9tdOwWui8so5Ccug3JPlKOftGD7aif6N1/9NtvoV/lUHsms+mambW5ZSt4pYFBhOtySCBj1c+suPFaDsuIxLtGqycRFEGQHvVMj63JqzAKrLpBgks72DVY1LIMJMB2Y4DPgykjPYVXvp+0jVIrqJZoXDIw7OYPaGHYR3VB34rBFec8gRSzMFVRkkkAADvJ5Vy6XqsNyheCRZFBKkqeRHMUCP0TffNQ+f8A4yVZFVjsDOLXUL6zlO68knWR54b3Fzgd+VdSPI1Z1JFa7Ufj3TvI/uSVM9Kn4rm80/zEqAnnF5r8PUkMlohMjjiM7rDGR+s6j391T/Sp+K5vNP8AMSqJbY78AtfmU/dFTdQmx34Ba/Mp+6Km6grjpK/DNN+e/wBcdWPVcdJX4Zpvz3+uOrBmlVFZ2OFUEk9wHE1QgdJl28zwaXCfhLhw0hH5MYJwT7mP7FS22OzKy6abeJRvQIGhHjGOC/tAEeZpL0Ozv7+5n1O1liiJcxo0qb/qKAAFGMAAAce8tTMNO1/tvrb6Ff5UErsBrnpllG5OZEHVyd+8o5nzGD7aX+l7/cP7yP4VG7KrPpmp+j3LIVvVLZQYTrckqVHZ+UpHitSXS9/uH95H8KCxl5Cs4rC8hUJtNtFDYwtJIw3sHcjz6zt2ADsHjyFQJmwK9Vq+oQJ97ILYHIFXBGO776w9lWhVe9F2kyATX04xLdtkDuTLNnjyyW9yrVhUkVttt+ONM8z+8Ksmq222/HGmeZ/eFWRVHlPCrqysMhgQfIjFVz0PuQL2IfEjmG73D4ynHsQGmHbfamKyhYbwMzqRHGD62W4BiOwD/wDK5ujPQntLTelGJp26xweajkgPjjifFiOyoFJ9WltdbvXitnuWIClEbdIG5Ed4nB7u7tph/wBur3/g8/0n/wAdc2z3/mC++bH7sVWTQcGkXbzQpK8TRM65MbHJQ9xOBXfRRQFFFFAUUUUBRRRQFFFFAUUUUGtRmtaRHdJuODwOVI5g94qTrNSYiY1K1tatotWdTCvZNgZM+rMu74qc/UalrHY2ONXyxZ3QrvkD1d5SpKj2010VjGOsejrvz+ReNTYmWGxIikR+tJ3GDY3RxxTLqWnpPGY5Fyp5d4PYR3Gu6s1YrERrTVk5OXJaLWncx5SQLjYF8/BzDd/WXj9Vdml7EIhDyuXI4gAYXPZkczTnRU9nX4N1vEOTavTNiMuwYDZ65uBz8Ud+a4ekRfhYfm2+0VY1V30kffofkN+8KwyVitJ1Dp4HJvl5VPaW3rf2eOymix3UMivkFXG6w5g4+seFdDbAyZ4TLjxU5+2uzo3+JL8sfZTsBSmOs1jcHK5ufFnvFLdtlvQdlo7Y75Jd+wkcF790fx50x1tRW2IiPJ5mTLfJbqvO5LOt7L+kXtrd9Zu+jZ9TdzvZOefZTMKzRVYIbajSXvLZ7dJOq6zALgZ9XPrD2jh7TXRoelpa28dvH8WNcZ7zzYnxJJPtqRooClja/ZcXwiKyGKSJ99HAzw5lT7QD7KZ6KDme3Dx9XIA4Zd1wwyG4YOR40i3XRt1chlsLuW1Y/kgsV+ogkeBzVh0UFbN0d3U5AvdSlmQH4gyAfYTj6qd9H0iG0jEUCBEHHvJPaWPMmpKigV9qtjoL7ddi0cqDCSpwYDmAe8ZpfbYfUnXq5NWlMXIqA28R3b29k+2rHJrVHB4g5B7RyoIXZnZuCxj6uFeJ+O5xvORyz3AdgHAVvtVovptrJbb+5v7vrYzjdYNy9mKmqKCurfYS+jUJHq0yIoAVQCAAOwDPKpXQNmryCYSS6jNOgBBjfO6cjgTk9lOFFAtbS7M+lzW0vWbno77+7u53uIOPDlXbtPpT3ds9uknV9ZgFsZ9XPrDHiOHtqYooIzQdKS0t4rdOUa4zy3jzZj4kkn21J0UUCztjswL5I91+rlikDo4Gcd4I9x9leW2GyrX6Qr13VtE+/vbucndxkdxzxprooK9/2J1Dt1i4x5uP9Ve+j9HNvHIJrh5LqQHOZSSMjvB4t5HhT3RQagYrJrNFAnbXbHveTQzx3BheEEKQuTkkHIOcg8KjDsPfng2r3BB58XH171WJRQJugdH9rbSdc5eeUHIeU5w3eB3+JzTjWaKBB1XYSaS7lu4L14GlxncBBACquMg8R6ua0/2K1H/jFx9f86sGirsQGzGkXFsrrPdyXJYgqX/IAByB51P0UVAUUUUBRRRQFFFFAUUUUBRRRQFYzWaqnauw9K1qK2aSVEeIZ6t2XGFduQOOYoLWoqvx0Xwfpd19Kam9mtko7FnZJppN8AYkcsBg5yB30DJmtSwHOknbXa2SB0s7NRJdy4wOe4DnBx2nAJ48gCTUfbdG7zfCX95NLKeJCsd1fAZ/gAKCxwc1nNVjd7DXll8Npl3KSvEwu3quO7BO6T5jPiKfLW7dLZZbvcjdY9+XByiEDLce4VRIk14vGjH1gpI8iarWO4vtadupke0sVON5crJLy4cCDyPkOXE8u89FlrjhPcb/AOfv8c99TR5H2KJVzuqB5DFetVd/SF7osirdSPdWTnAlOWki885Pjg8+yrMikV1DKQysAwI5EEZBB7jQegNbVSWyO1D2V1N1u8bSS4kRmPERy77EMO7K4yO7j2GroRwwBBBB4gjiCKaHpms1X3TBKyWcZVmU9cvxSR2HuNPasAuSeQySfAcSaD1zWhcDmR76rS41a81aZ4bF2gtEOHuBkM/gpBzx7hjsJPGuxOiy2xl57hnPN9/jmgsLNZqrLj0/RWEhle7scgMHJLxA9xJ4fZnAwKsmwvUnjSWNgyOoZSO0Gg92YDnWwNVX0uau8VxZBCcxb8xAzzBRVz4YEnPvqytPu1mijlQ5WRA6nwYAj7aDqJoBpM6UtU6mxdFPrznqhjnuni+P2QR7a6uji86zToCTkoDGT4oSKDw1/Q768lZDdCC04YWJfhX4etvMeXHh3VPaHpSWkKQRs5RAcF23m4kk5Pdk8uykzpYlZWsN1mXNxx3WIz8TnjnViDlQbVqGzypb281v0OzkkU/CN8HF8t+Gcdu6Mt7KW+inU5E63T7jeWWL4RA5yxR8Fhk88Eg+TeFBZVYzQK5723WVHjbO66lTgkHDDBwRyNB0ZrNVfsxqEmmXjabduzRSHMErknnyyT2Hl4NjvqwdV1KO2ieaVt1EGT3nuA7yTwx40Hdmiq32Htp765fVJ2dY8lbePeYLuj1c7ucEDiM9pyasigM1mqo2r0/0rW4rZpJER4hnccgjdV24dnZUv/VfD+l3X0hoH/NYLClzZnZKOyZ2SaaTfABEj7wGDnI7jUL0vXZSyWMEhpZVHDnhPW+0LQP2aCagNi9W9Ksopc5bd3X+WvA/ZXRtRqgtbSaYniqHd8WPBR76CWU5rJNV30OXhe1ljYkmOUnjz+EAY/Xmu/pakZdMkKsVO/HxBIODIueIoHXNGaq7TejYSxRym9uAZEDYDcBkZ7657tbzQ5EkM8lxZM264csSnbwyTg4zjdwDyPGgtnNGaS+ky5zpbujEbxQqykjgWBHEeFQej9HUc0EUrXlyDIiuQHOBvDPDNUWhmjNVTrGzd3pam7s7uWREwZIpCSpXtJGd0gdvDNWFs5qy3dtFcKMCReK/msCVdfYwIqCUzWapbY/ZsahJeNLcTqY52UbkjYILvzyfqpp/qvg/S7r6U0D/AJrVmA51AW1qmmWT4eSRYleTMjEsTxbBPdyFJezuzD6qnpt9PIwlJMcSMQiqrFeA5Dl2efbQWqDQDSFp+wstpcxyWl7IsIbMsLksGXuAzu8eHEjPjT4KALY51kGkDpT1N+qjsYQWmujjdXnuKRnyyeHv7qkejfWvSLNFYkywfBSZPrepwUt4kAZ8QaBvooooCqn2r1RLXXI53SR1SEZWNQznKuBgEjPPvq2KrXURnaKDP9j/AKJKsDt/rRtf0a9+hX/uU0aBrKXcQmjWRFLFcSLuvlefDJ4e2pHq1/NHuFZwByFQVj0dILjUb+7fi6SGNM/kgu6nH7KAe/vq0MVVOlzjS9Xnil9WG8JdGPxVYszqc928zKe7K1awNWQYpG6WrlksCinHWyKjfJzvEeRxTpNMqKWZgqgZLMQAB3k0s7f6WbuwkEXruoEse7j1t3jgdnFSceyoJ3R7FYII4VAAjQLw8BxPtOTXdS1sPtFHe2yMGHWIoWVO0MBjODxwedM1BFbR6elxazROBh4259hAyD7CKX+im+aXTYt78gsg8hxH2107f7RJZ2rjeBllUpEg+MS3AnA44H24Fe+wejtZ2MULjD43nHczcSPYMCgT9gdKju49TglXeR7lvMEFt0juIPGu3ZDVZLC4OlXjZA420p5Mhzhc+w47jkd1bdE3xtQ/vTfa1MW2GzSX0O5ndlT1opBzVvPuOONWQv8ATKfuOP55fsNS/SPetDpc7ocEqqZ5YEjpG31MarbafaJ5rEWl0N27tpgsgP5agHDeeMZ7+fbVs7WaSbuymtx8Z0BXPLfUh1/5lFBrsVpqW9lBGgHxAzHvZhkn66nqS+jfXxPbLBId2e3HVyI3BsLwDY9mDjtFOlQc97aJLG8bqGR1KsDyIYYNI/RFM3o00DEt1E7xgntHDP15pk2s1+Oyt3lcjewRGmeLvjgPLvPYM1EdGWlNb2QaXPWTMZXzwPrcsjsJAzigh7m0W91q5jbisVqYvIuMfax91d/RTfN6PJaSH4S1kZOP5hYkewHeHkBXL0ZHrbnUbs/lzCNT4IXY/Uy+6ubVLkaZrLTtwgu4izfOIOPvKj2vVHTqf3drcUPOKyTrJO4yEAqD5EofYa9OimTcF5annDcNgfqsTj9016dFVmzRTXsn3y7lZyf1cnh5bxPurm0I9Rr93FyFxF1g81KEfUz0GOlz42n/AN4/6KsdeVVv0u/G0/8AvH/RTjtPq4s7WWc80X1R+c54KPfioEzVc6lq8dsOMFl8JL3FxjC+ed0exq26QY2sry21SMeqGEU2PzTnBPgRvDzAqK2MttWt4mlgtYZDcHrWkldg7b3EcAeAOSfbUrrS61dwvBLZWu5IMHErZGCCCOPAgiqLEglV1DKchgCD3gjIr1pD6LNVdrd7SXhLaOUwefV/k+45X2CnwVAsbcbMrfW5VcLMnrRP3MPySfzTy9uar3TTd6xJDZXGUjtONxx4uQSq7363AqP2j3VdNVr0afjDVPlp+/NVFiW8CoiogCqoAUDkAOQr3ooqCptqtUS11yOd0kdUiGVjUM53ldRgEjtPfU5/Wja/o179Cv8A3K4tQGdo4M/2J/y5Ksfq1/NHuFBGaBrSXkImjSRFLFd2Rd1vVOOQJGPbSjtmeu1XTbbmFYyuPBQW4/4PrqwgoHIVXWmnr9oZ35i2h6sfKbdz+83uqwMbBMbS/vdOb4pbr4fkk4YD2Ff8JrfpHc3NxZ6Yn/rP1svhGpwM+eH/AMNadIKm0vLLUU5B+qlPZukEjPhu749grbYoi81K8v8AnGmIYj4AA8P2SD+3QGzH3Prd9b8llVZUHhuqT9bMPZXd0v8A4sk+cj/zFrg2jPUa7YzchOhiY9nDIH1std/S9+K5PnIv8xaCd0C/iFrCDKgIjXOXX80eNJXSbriXKJp1qRNNLIudw5CbpyASORJ59wyeHDPRpXRjYSQxSN1286KxxKQMsATgY4UzbP7I2dkcwRYc8N9mLvjzbkOHZQQvSHa9Vo/VZz1axJnv3Cq5+qpHZvXrRbO3VriIMIkBBkUEEAc+Nc/Sr+LZflJ++K5tB2F02S2hkktVZ3jVmYs+SSASfjVBptzthbi3e3gkWaaYdWqxkNje4Etjl4Dmfrqc2E0h7Sxhhk4OAXcfmtIzOV9m9j2UjWVnFpWsBGjUQXC4hZhkoSQMKTxGGO6fBlq2xVkUrsTtTFYyXgkinkMk7kdUgYABnHrZYYpu/rRtf0a97vvK/wDXUf0SKC9/kA/dDfvPVk9Wv5o9wpI5by3S4gaNs7kqEHvAYfbxqs9M1O80QG3ubdprVWJSWP8AJDHPDOBjJyVbGCTjNWszhQSSABzJ4AVr6rrn1WUjwKkfxqCK0HaS1vF3reUMcZKHg6/KU8R58ql3YAEk4A4mqq6QtDjsHiv7P4GTrQrKvBDnJyF5DOCCBwOan+kLXmjsUSPImvN2NFHNQ4BcjyyF82FBHbHr6fqVzqLD4OL4GHPgOY7OA4+clafizWe63v8At5KsrE/6yPpPCjZ+DWbO3S3hsrYouTlpW3mZiWYtg88n6hXDtjaatdwfD2kCiEmQPHIxdd0HO6CTnh9lUW5RS/sXrgvLOObOXxuv8teB9/P20wVAUhbTbL3sl8l7aSRIyIFHWAnBwwPDGDwan2igQfQNoP0u0+jP8qmtmrfUld/TpoZFIG4I03SDnjmmSighNo9nYL6Pq5l4jijjg6HvU+PIjkRSdBs5rdmNy0vI5ovyVmzlR3DIOB5EDwqzKKCs5NjdSvWH9I3gEYPGGHO6fcAPaQSKsDT7COCJIYxupGoVR3AeNdlFAia5sHvTG6sZjaTHi27wRieeQOWeZHEHnjNcxtdoj6nXWoHLrMet543cZ9lWJRQI+z2wYjl9KvZWu7jmGfJRD+qGJ5dnYOwCnYDhW1FApbE7OS2ZujIyN185kXdzwUk4zkc+NNhrNFAidIGxXpoWWEKs64BzwEidzHHxh2H2U7qOAHhXpRQJe02wy3EnpNtI1rcjj1iZAb5QBBz49vbUcLTaJRuCa1ccusYev58sZ9lWLRQIGk7BM0oudSna7lByqHPVKewbp4EA8cYA8Kdr1GaN1QgMVIUnlkg4zXTRQK2wOzr2NqYpCrSNIzuy5wc4A58TwUV4dImzL31uqw7omjfeQscDB4MCR559lOFFBw6PYLbwRQIPVjRUHjgYJ9p4+2l/Utm5X1OC+jZAiLuyA53iMMOGOB4MOdN1FAobc7NS3ptTGyL1E3WNvZ4rw4DHM8K1222amvzBGJFW3V96ZTvbzjhwUcuWfaRTjRTY840CgADAAwAOQA4ACtzWaKBN/wBmJY9U9NgdFilTE8ZyCW4gkY4HOEPmD304is0UBSfslszLa3V7PIyFbhlKBc5AVpG9bx9ce6nCigKwazRQIO0uy97Jfre2kkKMiBR1gY8cMDwxjkax6BtB+l2n0Z/lT/RV2FvZq31JGc300UikDcEa7pBzxzw4jFceyGzUtrPeTzOjtcSFlK5yE3mYA5HMb1OFFQQe12jem2ksAxvMMoTyDqcqT7RXjsToZsrOOFsb/F5Mct9ueD3AAD2UxUUChtxs1LeNbSQOqSQSh8sSOAIOBgc8iurbnQ5L2ze3jZVdnRgWzu+o4Y8s9gplooOLSrcxQxxsQSiKpxyyABwrtoooF7bXRpLy0eCMqrsVILZ3fVYHsqR0a0aK3iiYgtHGqkjkSowcVIUUCrt3sv6fAEQhZY23o3OeHIMCRx4j6wD2VMaHDMlvGlwyvKqhXZc4Yjhnj3jBPiTUlRTYq/TdkdWtJJmtZ7dFlkZzvKzE5YlezhwNSPoG0H6XafRn+VP9FXYgLPTJ5bNoL91keQMrtFlBuseGMciBSpbbLarYkrYXUckOfVimBwo8O72YHhVlUU2K6i2OvbyZJdUnRkjOVgiBCZ8fDlnmTyzipO82Ylm1OO7lZDBAmIoxne3u8jkOOT7BTlRUGKwa2ooE7ZHZiWxuLkKyeiSnejQZ3kbh2cgMZHsWnGiig//Z)\n",
        "\n"
      ]
    },
    {
      "cell_type": "markdown",
      "metadata": {
        "id": "yvpM01Wjyn2x"
      },
      "source": [
        "# UDP - Bussines Analytics 1\n",
        "# Solemne 01\n",
        "\n",
        "\n",
        "### Contenido de la clase:\n",
        "\n",
        "### Exploratory Data Analysis de Prueba 01\n",
        "\n",
        "### Contenido de la clase\n",
        "* Aspectos Generales\n",
        "* Preparación de la data"
      ]
    },
    {
      "cell_type": "markdown",
      "metadata": {
        "id": "kJij5qsb1OXb"
      },
      "source": [
        "## Hacia donde vamos...\n",
        "* Analítica Descriptiva:\n",
        "  * Preprocessing\n",
        "  * Exploratory Data Analysis\n",
        "    * Análisis Univariado: distribución normal?\n",
        "    * Test de comparación de médias: t-test, Chi2, KS, etc"
      ]
    },
    {
      "cell_type": "markdown",
      "metadata": {
        "id": "kZTtDD0oJDyM"
      },
      "source": [
        "### Instalación de la librería de estadísticas"
      ]
    },
    {
      "cell_type": "code",
      "execution_count": 1,
      "metadata": {
        "colab": {
          "base_uri": "https://localhost:8080/"
        },
        "id": "n4zL7ZXF8sUV",
        "outputId": "1c687648-136c-40e8-ddd5-1ad67c6a963c"
      },
      "outputs": [],
      "source": [
        "# Para instalarla debes sacar el signo #\n",
        "# ! pip install scipy"
      ]
    },
    {
      "cell_type": "code",
      "execution_count": 2,
      "metadata": {
        "id": "PCQcMbDiEYBr"
      },
      "outputs": [],
      "source": [
        "# Librerías de tratamiento de datos (las principales)\n",
        "import pandas as pd\n",
        "import numpy as np\n",
        "import missingno as msno\n",
        "\n",
        "\n",
        "# Librerías de gráficas\n",
        "import matplotlib.pyplot as plt\n",
        "import seaborn as sns\n",
        "# complementa algunas visualizaciones\n",
        "%matplotlib inline\n",
        "# apply some cool styling\n",
        "sns.set(color_codes=True)\n",
        "\n",
        "# Instalación de librería estadística\n",
        "from scipy import stats\n",
        "from scipy.stats import norm\n",
        "\n",
        "\n",
        "# Librerías de advertencias\n",
        "import warnings\n",
        "warnings.filterwarnings(\"ignore\")\n"
      ]
    },
    {
      "cell_type": "markdown",
      "metadata": {
        "id": "zTSBcqzjhaBi"
      },
      "source": [
        "### Importamos la data desde nuestro Drive\n",
        "\n",
        "1. from google.colab import drive\n",
        "2. drive.mount(\"/content/drive\")\n",
        "3. Permitir acceso a nuestro Google Colab\n",
        "4. link archivo\n"
      ]
    },
    {
      "cell_type": "code",
      "execution_count": 3,
      "metadata": {
        "colab": {
          "base_uri": "https://localhost:8080/"
        },
        "id": "AguH4-H0hhwT",
        "outputId": "6f3ebdda-3ad4-4e9e-d08b-c5150ac45f9c"
      },
      "outputs": [],
      "source": [
        "# from google.colab import drive\n",
        "# drive.mount(\"/content/drive\")\n",
        "# df = pd.read_csv(\"/content/drive/MyDrive/UDP_BA01/data_store.csv\",sep=\",\",encoding=\"latin-1\")\n",
        "# # To display the top 5 rows\n",
        "# df.head(5)"
      ]
    },
    {
      "cell_type": "code",
      "execution_count": 4,
      "metadata": {
        "colab": {
          "base_uri": "https://localhost:8080/",
          "height": 585
        },
        "id": "X2zovbrFgQVJ",
        "outputId": "1227a94d-0b3a-4ba8-e0b3-93a75ca0ce09"
      },
      "outputs": [
        {
          "data": {
            "text/html": [
              "<div>\n",
              "<style scoped>\n",
              "    .dataframe tbody tr th:only-of-type {\n",
              "        vertical-align: middle;\n",
              "    }\n",
              "\n",
              "    .dataframe tbody tr th {\n",
              "        vertical-align: top;\n",
              "    }\n",
              "\n",
              "    .dataframe thead th {\n",
              "        text-align: right;\n",
              "    }\n",
              "</style>\n",
              "<table border=\"1\" class=\"dataframe\">\n",
              "  <thead>\n",
              "    <tr style=\"text-align: right;\">\n",
              "      <th></th>\n",
              "      <th>Row ID</th>\n",
              "      <th>Order ID</th>\n",
              "      <th>Order Date</th>\n",
              "      <th>Ship Date</th>\n",
              "      <th>Ship Mode</th>\n",
              "      <th>Customer ID</th>\n",
              "      <th>Customer Name</th>\n",
              "      <th>Segment</th>\n",
              "      <th>Country</th>\n",
              "      <th>City</th>\n",
              "      <th>...</th>\n",
              "      <th>Postal Code</th>\n",
              "      <th>Region</th>\n",
              "      <th>Product ID</th>\n",
              "      <th>Category</th>\n",
              "      <th>Sub-Category</th>\n",
              "      <th>Product Name</th>\n",
              "      <th>Sales</th>\n",
              "      <th>Quantity</th>\n",
              "      <th>Discount</th>\n",
              "      <th>Profit</th>\n",
              "    </tr>\n",
              "  </thead>\n",
              "  <tbody>\n",
              "    <tr>\n",
              "      <th>9007</th>\n",
              "      <td>9008</td>\n",
              "      <td>CA-2017-107825</td>\n",
              "      <td>11/18/2017</td>\n",
              "      <td>11/18/2017</td>\n",
              "      <td>Same Day</td>\n",
              "      <td>NB-18655</td>\n",
              "      <td>Nona Balk</td>\n",
              "      <td>Corporate</td>\n",
              "      <td>United States</td>\n",
              "      <td>Milwaukee</td>\n",
              "      <td>...</td>\n",
              "      <td>53209</td>\n",
              "      <td>Central</td>\n",
              "      <td>OFF-LA-10003720</td>\n",
              "      <td>Office Supplies</td>\n",
              "      <td>Labels</td>\n",
              "      <td>Avery 487</td>\n",
              "      <td>7.380</td>\n",
              "      <td>2</td>\n",
              "      <td>0.0</td>\n",
              "      <td>3.4686</td>\n",
              "    </tr>\n",
              "    <tr>\n",
              "      <th>2967</th>\n",
              "      <td>2968</td>\n",
              "      <td>CA-2014-162866</td>\n",
              "      <td>12/27/2014</td>\n",
              "      <td>12/31/2014</td>\n",
              "      <td>Standard Class</td>\n",
              "      <td>Co-12640</td>\n",
              "      <td>Corey-Lock</td>\n",
              "      <td>Consumer</td>\n",
              "      <td>United States</td>\n",
              "      <td>Skokie</td>\n",
              "      <td>...</td>\n",
              "      <td>60076</td>\n",
              "      <td>Central</td>\n",
              "      <td>OFF-ST-10002562</td>\n",
              "      <td>Office Supplies</td>\n",
              "      <td>Storage</td>\n",
              "      <td>Staple magnet</td>\n",
              "      <td>30.016</td>\n",
              "      <td>4</td>\n",
              "      <td>0.2</td>\n",
              "      <td>3.0016</td>\n",
              "    </tr>\n",
              "    <tr>\n",
              "      <th>4006</th>\n",
              "      <td>4007</td>\n",
              "      <td>US-2015-168732</td>\n",
              "      <td>12/10/2015</td>\n",
              "      <td>12/16/2015</td>\n",
              "      <td>Standard Class</td>\n",
              "      <td>KM-16660</td>\n",
              "      <td>Khloe Miller</td>\n",
              "      <td>Consumer</td>\n",
              "      <td>United States</td>\n",
              "      <td>Roswell</td>\n",
              "      <td>...</td>\n",
              "      <td>30076</td>\n",
              "      <td>South</td>\n",
              "      <td>OFF-PA-10000520</td>\n",
              "      <td>Office Supplies</td>\n",
              "      <td>Paper</td>\n",
              "      <td>Xerox 201</td>\n",
              "      <td>25.920</td>\n",
              "      <td>4</td>\n",
              "      <td>0.0</td>\n",
              "      <td>12.4416</td>\n",
              "    </tr>\n",
              "    <tr>\n",
              "      <th>9547</th>\n",
              "      <td>9548</td>\n",
              "      <td>CA-2016-131744</td>\n",
              "      <td>6/18/2016</td>\n",
              "      <td>6/20/2016</td>\n",
              "      <td>Second Class</td>\n",
              "      <td>SC-20770</td>\n",
              "      <td>Stewart Carmichael</td>\n",
              "      <td>Corporate</td>\n",
              "      <td>United States</td>\n",
              "      <td>Philadelphia</td>\n",
              "      <td>...</td>\n",
              "      <td>19134</td>\n",
              "      <td>East</td>\n",
              "      <td>OFF-PA-10004610</td>\n",
              "      <td>Office Supplies</td>\n",
              "      <td>Paper</td>\n",
              "      <td>Xerox 1900</td>\n",
              "      <td>6.848</td>\n",
              "      <td>2</td>\n",
              "      <td>0.2</td>\n",
              "      <td>2.1400</td>\n",
              "    </tr>\n",
              "    <tr>\n",
              "      <th>5962</th>\n",
              "      <td>5963</td>\n",
              "      <td>CA-2014-140732</td>\n",
              "      <td>11/11/2014</td>\n",
              "      <td>11/13/2014</td>\n",
              "      <td>Second Class</td>\n",
              "      <td>MA-17560</td>\n",
              "      <td>Matt Abelman</td>\n",
              "      <td>Home Office</td>\n",
              "      <td>United States</td>\n",
              "      <td>Los Angeles</td>\n",
              "      <td>...</td>\n",
              "      <td>90004</td>\n",
              "      <td>West</td>\n",
              "      <td>OFF-AP-10001626</td>\n",
              "      <td>Office Supplies</td>\n",
              "      <td>Appliances</td>\n",
              "      <td>Commercial WindTunnel Clean Air Upright Vacuum...</td>\n",
              "      <td>7.780</td>\n",
              "      <td>2</td>\n",
              "      <td>0.0</td>\n",
              "      <td>2.0228</td>\n",
              "    </tr>\n",
              "    <tr>\n",
              "      <th>9008</th>\n",
              "      <td>9009</td>\n",
              "      <td>CA-2017-107825</td>\n",
              "      <td>11/18/2017</td>\n",
              "      <td>11/18/2017</td>\n",
              "      <td>Same Day</td>\n",
              "      <td>NB-18655</td>\n",
              "      <td>Nona Balk</td>\n",
              "      <td>Corporate</td>\n",
              "      <td>United States</td>\n",
              "      <td>Milwaukee</td>\n",
              "      <td>...</td>\n",
              "      <td>53209</td>\n",
              "      <td>Central</td>\n",
              "      <td>FUR-FU-10000206</td>\n",
              "      <td>Furniture</td>\n",
              "      <td>Furnishings</td>\n",
              "      <td>GE General Purpose, Extra Long Life, Showcase ...</td>\n",
              "      <td>5.820</td>\n",
              "      <td>2</td>\n",
              "      <td>0.0</td>\n",
              "      <td>2.7354</td>\n",
              "    </tr>\n",
              "    <tr>\n",
              "      <th>9351</th>\n",
              "      <td>9352</td>\n",
              "      <td>CA-2016-159009</td>\n",
              "      <td>9/23/2016</td>\n",
              "      <td>9/27/2016</td>\n",
              "      <td>Standard Class</td>\n",
              "      <td>DP-13105</td>\n",
              "      <td>Dave Poirier</td>\n",
              "      <td>Corporate</td>\n",
              "      <td>United States</td>\n",
              "      <td>Seattle</td>\n",
              "      <td>...</td>\n",
              "      <td>98115</td>\n",
              "      <td>West</td>\n",
              "      <td>FUR-CH-10003396</td>\n",
              "      <td>Furniture</td>\n",
              "      <td>Chairs</td>\n",
              "      <td>Global Deluxe Steno Chair</td>\n",
              "      <td>184.752</td>\n",
              "      <td>3</td>\n",
              "      <td>0.2</td>\n",
              "      <td>-20.7846</td>\n",
              "    </tr>\n",
              "    <tr>\n",
              "      <th>4382</th>\n",
              "      <td>4383</td>\n",
              "      <td>US-2015-122784</td>\n",
              "      <td>7/20/2015</td>\n",
              "      <td>7/27/2015</td>\n",
              "      <td>Standard Class</td>\n",
              "      <td>RA-19915</td>\n",
              "      <td>Russell Applegate</td>\n",
              "      <td>Consumer</td>\n",
              "      <td>United States</td>\n",
              "      <td>Highland Park</td>\n",
              "      <td>...</td>\n",
              "      <td>60035</td>\n",
              "      <td>Central</td>\n",
              "      <td>OFF-BI-10000546</td>\n",
              "      <td>Office Supplies</td>\n",
              "      <td>Binders</td>\n",
              "      <td>Avery Durable Binders</td>\n",
              "      <td>2.880</td>\n",
              "      <td>5</td>\n",
              "      <td>0.8</td>\n",
              "      <td>-4.4640</td>\n",
              "    </tr>\n",
              "    <tr>\n",
              "      <th>161</th>\n",
              "      <td>162</td>\n",
              "      <td>CA-2015-119697</td>\n",
              "      <td>12/28/2015</td>\n",
              "      <td>12/31/2015</td>\n",
              "      <td>Second Class</td>\n",
              "      <td>EM-13960</td>\n",
              "      <td>Eric Murdock</td>\n",
              "      <td>Consumer</td>\n",
              "      <td>United States</td>\n",
              "      <td>Philadelphia</td>\n",
              "      <td>...</td>\n",
              "      <td>19134</td>\n",
              "      <td>East</td>\n",
              "      <td>TEC-AC-10003657</td>\n",
              "      <td>Technology</td>\n",
              "      <td>Accessories</td>\n",
              "      <td>Lenovo 17-Key USB Numeric Keypad</td>\n",
              "      <td>54.384</td>\n",
              "      <td>2</td>\n",
              "      <td>0.2</td>\n",
              "      <td>1.3596</td>\n",
              "    </tr>\n",
              "    <tr>\n",
              "      <th>332</th>\n",
              "      <td>333</td>\n",
              "      <td>US-2016-150147</td>\n",
              "      <td>4/25/2016</td>\n",
              "      <td>4/29/2016</td>\n",
              "      <td>Second Class</td>\n",
              "      <td>JL-15850</td>\n",
              "      <td>John Lucas</td>\n",
              "      <td>Consumer</td>\n",
              "      <td>United States</td>\n",
              "      <td>Philadelphia</td>\n",
              "      <td>...</td>\n",
              "      <td>19134</td>\n",
              "      <td>East</td>\n",
              "      <td>OFF-BI-10001153</td>\n",
              "      <td>Office Supplies</td>\n",
              "      <td>Binders</td>\n",
              "      <td>Ibico Recycled Grain-Textured Covers</td>\n",
              "      <td>20.724</td>\n",
              "      <td>2</td>\n",
              "      <td>0.7</td>\n",
              "      <td>-13.8160</td>\n",
              "    </tr>\n",
              "  </tbody>\n",
              "</table>\n",
              "<p>10 rows × 21 columns</p>\n",
              "</div>"
            ],
            "text/plain": [
              "      Row ID        Order ID  Order Date   Ship Date       Ship Mode  \\\n",
              "9007    9008  CA-2017-107825  11/18/2017  11/18/2017        Same Day   \n",
              "2967    2968  CA-2014-162866  12/27/2014  12/31/2014  Standard Class   \n",
              "4006    4007  US-2015-168732  12/10/2015  12/16/2015  Standard Class   \n",
              "9547    9548  CA-2016-131744   6/18/2016   6/20/2016    Second Class   \n",
              "5962    5963  CA-2014-140732  11/11/2014  11/13/2014    Second Class   \n",
              "9008    9009  CA-2017-107825  11/18/2017  11/18/2017        Same Day   \n",
              "9351    9352  CA-2016-159009   9/23/2016   9/27/2016  Standard Class   \n",
              "4382    4383  US-2015-122784   7/20/2015   7/27/2015  Standard Class   \n",
              "161      162  CA-2015-119697  12/28/2015  12/31/2015    Second Class   \n",
              "332      333  US-2016-150147   4/25/2016   4/29/2016    Second Class   \n",
              "\n",
              "     Customer ID       Customer Name      Segment        Country  \\\n",
              "9007    NB-18655           Nona Balk    Corporate  United States   \n",
              "2967    Co-12640          Corey-Lock     Consumer  United States   \n",
              "4006    KM-16660        Khloe Miller     Consumer  United States   \n",
              "9547    SC-20770  Stewart Carmichael    Corporate  United States   \n",
              "5962    MA-17560        Matt Abelman  Home Office  United States   \n",
              "9008    NB-18655           Nona Balk    Corporate  United States   \n",
              "9351    DP-13105        Dave Poirier    Corporate  United States   \n",
              "4382    RA-19915   Russell Applegate     Consumer  United States   \n",
              "161     EM-13960        Eric Murdock     Consumer  United States   \n",
              "332     JL-15850          John Lucas     Consumer  United States   \n",
              "\n",
              "               City  ... Postal Code   Region       Product ID  \\\n",
              "9007      Milwaukee  ...       53209  Central  OFF-LA-10003720   \n",
              "2967         Skokie  ...       60076  Central  OFF-ST-10002562   \n",
              "4006        Roswell  ...       30076    South  OFF-PA-10000520   \n",
              "9547   Philadelphia  ...       19134     East  OFF-PA-10004610   \n",
              "5962    Los Angeles  ...       90004     West  OFF-AP-10001626   \n",
              "9008      Milwaukee  ...       53209  Central  FUR-FU-10000206   \n",
              "9351        Seattle  ...       98115     West  FUR-CH-10003396   \n",
              "4382  Highland Park  ...       60035  Central  OFF-BI-10000546   \n",
              "161    Philadelphia  ...       19134     East  TEC-AC-10003657   \n",
              "332    Philadelphia  ...       19134     East  OFF-BI-10001153   \n",
              "\n",
              "             Category Sub-Category  \\\n",
              "9007  Office Supplies       Labels   \n",
              "2967  Office Supplies      Storage   \n",
              "4006  Office Supplies        Paper   \n",
              "9547  Office Supplies        Paper   \n",
              "5962  Office Supplies   Appliances   \n",
              "9008        Furniture  Furnishings   \n",
              "9351        Furniture       Chairs   \n",
              "4382  Office Supplies      Binders   \n",
              "161        Technology  Accessories   \n",
              "332   Office Supplies      Binders   \n",
              "\n",
              "                                           Product Name    Sales  Quantity  \\\n",
              "9007                                          Avery 487    7.380         2   \n",
              "2967                                      Staple magnet   30.016         4   \n",
              "4006                                          Xerox 201   25.920         4   \n",
              "9547                                         Xerox 1900    6.848         2   \n",
              "5962  Commercial WindTunnel Clean Air Upright Vacuum...    7.780         2   \n",
              "9008  GE General Purpose, Extra Long Life, Showcase ...    5.820         2   \n",
              "9351                          Global Deluxe Steno Chair  184.752         3   \n",
              "4382                              Avery Durable Binders    2.880         5   \n",
              "161                    Lenovo 17-Key USB Numeric Keypad   54.384         2   \n",
              "332                Ibico Recycled Grain-Textured Covers   20.724         2   \n",
              "\n",
              "      Discount   Profit  \n",
              "9007       0.0   3.4686  \n",
              "2967       0.2   3.0016  \n",
              "4006       0.0  12.4416  \n",
              "9547       0.2   2.1400  \n",
              "5962       0.0   2.0228  \n",
              "9008       0.0   2.7354  \n",
              "9351       0.2 -20.7846  \n",
              "4382       0.8  -4.4640  \n",
              "161        0.2   1.3596  \n",
              "332        0.7 -13.8160  \n",
              "\n",
              "[10 rows x 21 columns]"
            ]
          },
          "execution_count": 4,
          "metadata": {},
          "output_type": "execute_result"
        }
      ],
      "source": [
        "df = pd.read_csv(\"data_store.csv\",sep=\",\",encoding=\"latin-1\")\n",
        "df.sample(10)"
      ]
    },
    {
      "cell_type": "markdown",
      "metadata": {
        "id": "98qjC_KTsTqi"
      },
      "source": [
        "# Prepocesamiento de la data\n",
        "## Variable Objetivo: Profit"
      ]
    },
    {
      "cell_type": "markdown",
      "metadata": {},
      "source": [
        "### Eliminación de columnas innecesarías"
      ]
    },
    {
      "cell_type": "code",
      "execution_count": 5,
      "metadata": {
        "colab": {
          "base_uri": "https://localhost:8080/",
          "height": 293
        },
        "id": "IMOgGLPBgQOX",
        "outputId": "048f735b-1c13-4e37-8fb2-e5a6a6ce9e0f"
      },
      "outputs": [
        {
          "data": {
            "text/html": [
              "<div>\n",
              "<style scoped>\n",
              "    .dataframe tbody tr th:only-of-type {\n",
              "        vertical-align: middle;\n",
              "    }\n",
              "\n",
              "    .dataframe tbody tr th {\n",
              "        vertical-align: top;\n",
              "    }\n",
              "\n",
              "    .dataframe thead th {\n",
              "        text-align: right;\n",
              "    }\n",
              "</style>\n",
              "<table border=\"1\" class=\"dataframe\">\n",
              "  <thead>\n",
              "    <tr style=\"text-align: right;\">\n",
              "      <th></th>\n",
              "      <th>Row ID</th>\n",
              "      <th>Order Date</th>\n",
              "      <th>Ship Date</th>\n",
              "      <th>Ship Mode</th>\n",
              "      <th>Segment</th>\n",
              "      <th>City</th>\n",
              "      <th>State</th>\n",
              "      <th>Region</th>\n",
              "      <th>Category</th>\n",
              "      <th>Sub-Category</th>\n",
              "      <th>Product Name</th>\n",
              "      <th>Sales</th>\n",
              "      <th>Quantity</th>\n",
              "      <th>Discount</th>\n",
              "      <th>Profit</th>\n",
              "    </tr>\n",
              "  </thead>\n",
              "  <tbody>\n",
              "    <tr>\n",
              "      <th>0</th>\n",
              "      <td>1</td>\n",
              "      <td>11/8/2016</td>\n",
              "      <td>11/11/2016</td>\n",
              "      <td>Second Class</td>\n",
              "      <td>Consumer</td>\n",
              "      <td>Henderson</td>\n",
              "      <td>Kentucky</td>\n",
              "      <td>South</td>\n",
              "      <td>Furniture</td>\n",
              "      <td>Bookcases</td>\n",
              "      <td>Bush Somerset Collection Bookcase</td>\n",
              "      <td>261.9600</td>\n",
              "      <td>2</td>\n",
              "      <td>0.00</td>\n",
              "      <td>41.9136</td>\n",
              "    </tr>\n",
              "    <tr>\n",
              "      <th>1</th>\n",
              "      <td>2</td>\n",
              "      <td>11/8/2016</td>\n",
              "      <td>11/11/2016</td>\n",
              "      <td>Second Class</td>\n",
              "      <td>Consumer</td>\n",
              "      <td>Henderson</td>\n",
              "      <td>Kentucky</td>\n",
              "      <td>South</td>\n",
              "      <td>Furniture</td>\n",
              "      <td>Chairs</td>\n",
              "      <td>Hon Deluxe Fabric Upholstered Stacking Chairs,...</td>\n",
              "      <td>731.9400</td>\n",
              "      <td>3</td>\n",
              "      <td>0.00</td>\n",
              "      <td>219.5820</td>\n",
              "    </tr>\n",
              "    <tr>\n",
              "      <th>2</th>\n",
              "      <td>3</td>\n",
              "      <td>6/12/2016</td>\n",
              "      <td>6/16/2016</td>\n",
              "      <td>Second Class</td>\n",
              "      <td>Corporate</td>\n",
              "      <td>Los Angeles</td>\n",
              "      <td>California</td>\n",
              "      <td>West</td>\n",
              "      <td>Office Supplies</td>\n",
              "      <td>Labels</td>\n",
              "      <td>Self-Adhesive Address Labels for Typewriters b...</td>\n",
              "      <td>14.6200</td>\n",
              "      <td>2</td>\n",
              "      <td>0.00</td>\n",
              "      <td>6.8714</td>\n",
              "    </tr>\n",
              "    <tr>\n",
              "      <th>3</th>\n",
              "      <td>4</td>\n",
              "      <td>10/11/2015</td>\n",
              "      <td>10/18/2015</td>\n",
              "      <td>Standard Class</td>\n",
              "      <td>Consumer</td>\n",
              "      <td>Fort Lauderdale</td>\n",
              "      <td>Florida</td>\n",
              "      <td>South</td>\n",
              "      <td>Furniture</td>\n",
              "      <td>Tables</td>\n",
              "      <td>Bretford CR4500 Series Slim Rectangular Table</td>\n",
              "      <td>957.5775</td>\n",
              "      <td>5</td>\n",
              "      <td>0.45</td>\n",
              "      <td>-383.0310</td>\n",
              "    </tr>\n",
              "    <tr>\n",
              "      <th>4</th>\n",
              "      <td>5</td>\n",
              "      <td>10/11/2015</td>\n",
              "      <td>10/18/2015</td>\n",
              "      <td>Standard Class</td>\n",
              "      <td>Consumer</td>\n",
              "      <td>Fort Lauderdale</td>\n",
              "      <td>Florida</td>\n",
              "      <td>South</td>\n",
              "      <td>Office Supplies</td>\n",
              "      <td>Storage</td>\n",
              "      <td>Eldon Fold 'N Roll Cart System</td>\n",
              "      <td>22.3680</td>\n",
              "      <td>2</td>\n",
              "      <td>0.20</td>\n",
              "      <td>2.5164</td>\n",
              "    </tr>\n",
              "  </tbody>\n",
              "</table>\n",
              "</div>"
            ],
            "text/plain": [
              "   Row ID  Order Date   Ship Date       Ship Mode    Segment             City  \\\n",
              "0       1   11/8/2016  11/11/2016    Second Class   Consumer        Henderson   \n",
              "1       2   11/8/2016  11/11/2016    Second Class   Consumer        Henderson   \n",
              "2       3   6/12/2016   6/16/2016    Second Class  Corporate      Los Angeles   \n",
              "3       4  10/11/2015  10/18/2015  Standard Class   Consumer  Fort Lauderdale   \n",
              "4       5  10/11/2015  10/18/2015  Standard Class   Consumer  Fort Lauderdale   \n",
              "\n",
              "        State Region         Category Sub-Category  \\\n",
              "0    Kentucky  South        Furniture    Bookcases   \n",
              "1    Kentucky  South        Furniture       Chairs   \n",
              "2  California   West  Office Supplies       Labels   \n",
              "3     Florida  South        Furniture       Tables   \n",
              "4     Florida  South  Office Supplies      Storage   \n",
              "\n",
              "                                        Product Name     Sales  Quantity  \\\n",
              "0                  Bush Somerset Collection Bookcase  261.9600         2   \n",
              "1  Hon Deluxe Fabric Upholstered Stacking Chairs,...  731.9400         3   \n",
              "2  Self-Adhesive Address Labels for Typewriters b...   14.6200         2   \n",
              "3      Bretford CR4500 Series Slim Rectangular Table  957.5775         5   \n",
              "4                     Eldon Fold 'N Roll Cart System   22.3680         2   \n",
              "\n",
              "   Discount    Profit  \n",
              "0      0.00   41.9136  \n",
              "1      0.00  219.5820  \n",
              "2      0.00    6.8714  \n",
              "3      0.45 -383.0310  \n",
              "4      0.20    2.5164  "
            ]
          },
          "execution_count": 5,
          "metadata": {},
          "output_type": "execute_result"
        }
      ],
      "source": [
        "# Se eliminan las columnas que no se usarán (drop)\n",
        "df = df.drop(['Customer ID','Customer Name', 'Order ID', 'Country', 'Postal Code', 'Product ID'],axis=1)\n",
        "df.head(5)"
      ]
    },
    {
      "cell_type": "code",
      "execution_count": 6,
      "metadata": {
        "colab": {
          "base_uri": "https://localhost:8080/",
          "height": 768
        },
        "id": "wWqVBimagQJK",
        "outputId": "4e67c107-d073-4376-dc05-6f28ea8403d9"
      },
      "outputs": [
        {
          "data": {
            "text/plain": [
              "<Axes: >"
            ]
          },
          "execution_count": 6,
          "metadata": {},
          "output_type": "execute_result"
        },
        {
          "data": {
            "image/png": "[encoded data removed]",
            "text/plain": [
              "<Figure size 1800x720 with 2 Axes>"
            ]
          },
          "metadata": {},
          "output_type": "display_data"
        }
      ],
      "source": [
        "msno.matrix(df)"
      ]
    },
    {
      "cell_type": "code",
      "execution_count": 7,
      "metadata": {
        "colab": {
          "base_uri": "https://localhost:8080/"
        },
        "id": "aazzTU98uEI9",
        "outputId": "f2f740da-af4a-40ad-fe49-da6a8871d51a"
      },
      "outputs": [
        {
          "name": "stdout",
          "output_type": "stream",
          "text": [
            "Row ID          0\n",
            "Order Date      0\n",
            "Ship Date       0\n",
            "Ship Mode       0\n",
            "Segment         0\n",
            "City            0\n",
            "State           0\n",
            "Region          0\n",
            "Category        0\n",
            "Sub-Category    0\n",
            "Product Name    0\n",
            "Sales           0\n",
            "Quantity        0\n",
            "Discount        0\n",
            "Profit          0\n",
            "dtype: int64\n"
          ]
        }
      ],
      "source": [
        "print(df.isnull().sum())"
      ]
    },
    {
      "cell_type": "code",
      "execution_count": 8,
      "metadata": {
        "colab": {
          "base_uri": "https://localhost:8080/"
        },
        "id": "alPxw9lKuRKP",
        "outputId": "7791e267-1701-4722-e09f-e7ab05af46a2"
      },
      "outputs": [
        {
          "name": "stdout",
          "output_type": "stream",
          "text": [
            "Row ID          0\n",
            "Order Date      0\n",
            "Ship Date       0\n",
            "Ship Mode       0\n",
            "Segment         0\n",
            "City            0\n",
            "State           0\n",
            "Region          0\n",
            "Category        0\n",
            "Sub-Category    0\n",
            "Product Name    0\n",
            "Sales           0\n",
            "Quantity        0\n",
            "Discount        0\n",
            "Profit          0\n",
            "dtype: int64\n"
          ]
        }
      ],
      "source": [
        "print(df.isna().sum())"
      ]
    },
    {
      "cell_type": "code",
      "execution_count": 9,
      "metadata": {
        "colab": {
          "base_uri": "https://localhost:8080/"
        },
        "id": "eXLQDQrNuV-o",
        "outputId": "d4c5404a-c11e-4d73-95f5-bb457920f961"
      },
      "outputs": [
        {
          "data": {
            "text/plain": [
              "(9994, 15)"
            ]
          },
          "execution_count": 9,
          "metadata": {},
          "output_type": "execute_result"
        }
      ],
      "source": [
        "df.shape"
      ]
    },
    {
      "cell_type": "code",
      "execution_count": 10,
      "metadata": {
        "colab": {
          "base_uri": "https://localhost:8080/"
        },
        "id": "tnZlZ96YvoNL",
        "outputId": "07642532-07f0-4811-9287-7697302d95df"
      },
      "outputs": [
        {
          "data": {
            "text/plain": [
              "Index(['Row ID', 'Order Date', 'Ship Date', 'Ship Mode', 'Segment', 'City',\n",
              "       'State', 'Region', 'Category', 'Sub-Category', 'Product Name', 'Sales',\n",
              "       'Quantity', 'Discount', 'Profit'],\n",
              "      dtype='object')"
            ]
          },
          "execution_count": 10,
          "metadata": {},
          "output_type": "execute_result"
        }
      ],
      "source": [
        "df.columns"
      ]
    },
    {
      "cell_type": "markdown",
      "metadata": {},
      "source": [
        "### Renombrado de columnas"
      ]
    },
    {
      "cell_type": "code",
      "execution_count": 26,
      "metadata": {
        "colab": {
          "base_uri": "https://localhost:8080/",
          "height": 275
        },
        "id": "JcqqEz4cgQGU",
        "outputId": "87cc8222-0d6d-4033-a966-b0b53ab3609c"
      },
      "outputs": [
        {
          "data": {
            "text/html": [
              "<div>\n",
              "<style scoped>\n",
              "    .dataframe tbody tr th:only-of-type {\n",
              "        vertical-align: middle;\n",
              "    }\n",
              "\n",
              "    .dataframe tbody tr th {\n",
              "        vertical-align: top;\n",
              "    }\n",
              "\n",
              "    .dataframe thead th {\n",
              "        text-align: right;\n",
              "    }\n",
              "</style>\n",
              "<table border=\"1\" class=\"dataframe\">\n",
              "  <thead>\n",
              "    <tr style=\"text-align: right;\">\n",
              "      <th></th>\n",
              "      <th>row_id</th>\n",
              "      <th>order_date</th>\n",
              "      <th>ship_date</th>\n",
              "      <th>ship_mode</th>\n",
              "      <th>segment</th>\n",
              "      <th>city</th>\n",
              "      <th>state</th>\n",
              "      <th>region</th>\n",
              "      <th>category</th>\n",
              "      <th>subcategory</th>\n",
              "      <th>product_name</th>\n",
              "      <th>sales</th>\n",
              "      <th>quantity</th>\n",
              "      <th>discount</th>\n",
              "      <th>profit</th>\n",
              "    </tr>\n",
              "  </thead>\n",
              "  <tbody>\n",
              "    <tr>\n",
              "      <th>5225</th>\n",
              "      <td>5226</td>\n",
              "      <td>6/21/2016</td>\n",
              "      <td>6/26/2016</td>\n",
              "      <td>Standard Class</td>\n",
              "      <td>Consumer</td>\n",
              "      <td>New York City</td>\n",
              "      <td>New York</td>\n",
              "      <td>East</td>\n",
              "      <td>Office Supplies</td>\n",
              "      <td>Binders</td>\n",
              "      <td>SpineVue Locking Slant-D Ring Binders by Cardinal</td>\n",
              "      <td>36.560</td>\n",
              "      <td>5</td>\n",
              "      <td>0.2</td>\n",
              "      <td>12.7960</td>\n",
              "    </tr>\n",
              "    <tr>\n",
              "      <th>5751</th>\n",
              "      <td>5752</td>\n",
              "      <td>1/22/2016</td>\n",
              "      <td>1/28/2016</td>\n",
              "      <td>Standard Class</td>\n",
              "      <td>Consumer</td>\n",
              "      <td>San Diego</td>\n",
              "      <td>California</td>\n",
              "      <td>West</td>\n",
              "      <td>Office Supplies</td>\n",
              "      <td>Labels</td>\n",
              "      <td>Avery 475</td>\n",
              "      <td>44.400</td>\n",
              "      <td>3</td>\n",
              "      <td>0.0</td>\n",
              "      <td>22.2000</td>\n",
              "    </tr>\n",
              "    <tr>\n",
              "      <th>5619</th>\n",
              "      <td>5620</td>\n",
              "      <td>9/25/2016</td>\n",
              "      <td>9/30/2016</td>\n",
              "      <td>Standard Class</td>\n",
              "      <td>Corporate</td>\n",
              "      <td>La Crosse</td>\n",
              "      <td>Wisconsin</td>\n",
              "      <td>Central</td>\n",
              "      <td>Technology</td>\n",
              "      <td>Accessories</td>\n",
              "      <td>Logitech Wireless Headset h800</td>\n",
              "      <td>499.950</td>\n",
              "      <td>5</td>\n",
              "      <td>0.0</td>\n",
              "      <td>174.9825</td>\n",
              "    </tr>\n",
              "    <tr>\n",
              "      <th>9222</th>\n",
              "      <td>9223</td>\n",
              "      <td>10/13/2017</td>\n",
              "      <td>10/14/2017</td>\n",
              "      <td>First Class</td>\n",
              "      <td>Consumer</td>\n",
              "      <td>Lafayette</td>\n",
              "      <td>Louisiana</td>\n",
              "      <td>South</td>\n",
              "      <td>Office Supplies</td>\n",
              "      <td>Paper</td>\n",
              "      <td>Xerox 231</td>\n",
              "      <td>25.920</td>\n",
              "      <td>4</td>\n",
              "      <td>0.0</td>\n",
              "      <td>12.4416</td>\n",
              "    </tr>\n",
              "    <tr>\n",
              "      <th>5926</th>\n",
              "      <td>5927</td>\n",
              "      <td>4/8/2014</td>\n",
              "      <td>4/12/2014</td>\n",
              "      <td>Standard Class</td>\n",
              "      <td>Corporate</td>\n",
              "      <td>Decatur</td>\n",
              "      <td>Alabama</td>\n",
              "      <td>South</td>\n",
              "      <td>Furniture</td>\n",
              "      <td>Tables</td>\n",
              "      <td>SAFCO PlanMaster Boards, 60w x 37-1/2d, White ...</td>\n",
              "      <td>1215.920</td>\n",
              "      <td>8</td>\n",
              "      <td>0.0</td>\n",
              "      <td>316.1392</td>\n",
              "    </tr>\n",
              "    <tr>\n",
              "      <th>1590</th>\n",
              "      <td>1591</td>\n",
              "      <td>4/15/2016</td>\n",
              "      <td>4/19/2016</td>\n",
              "      <td>Standard Class</td>\n",
              "      <td>Corporate</td>\n",
              "      <td>Grapevine</td>\n",
              "      <td>Texas</td>\n",
              "      <td>Central</td>\n",
              "      <td>Office Supplies</td>\n",
              "      <td>Art</td>\n",
              "      <td>Dixon Ticonderoga Erasable Colored Pencil Set,...</td>\n",
              "      <td>33.488</td>\n",
              "      <td>7</td>\n",
              "      <td>0.2</td>\n",
              "      <td>5.8604</td>\n",
              "    </tr>\n",
              "    <tr>\n",
              "      <th>7524</th>\n",
              "      <td>7525</td>\n",
              "      <td>9/10/2014</td>\n",
              "      <td>9/16/2014</td>\n",
              "      <td>Standard Class</td>\n",
              "      <td>Consumer</td>\n",
              "      <td>Gresham</td>\n",
              "      <td>Oregon</td>\n",
              "      <td>West</td>\n",
              "      <td>Office Supplies</td>\n",
              "      <td>Envelopes</td>\n",
              "      <td>Peel &amp; Seel Envelopes</td>\n",
              "      <td>21.728</td>\n",
              "      <td>7</td>\n",
              "      <td>0.2</td>\n",
              "      <td>7.6048</td>\n",
              "    </tr>\n",
              "    <tr>\n",
              "      <th>948</th>\n",
              "      <td>949</td>\n",
              "      <td>11/28/2017</td>\n",
              "      <td>12/2/2017</td>\n",
              "      <td>Standard Class</td>\n",
              "      <td>Home Office</td>\n",
              "      <td>Philadelphia</td>\n",
              "      <td>Pennsylvania</td>\n",
              "      <td>East</td>\n",
              "      <td>Furniture</td>\n",
              "      <td>Furnishings</td>\n",
              "      <td>Luxo Professional Fluorescent Magnifier Lamp w...</td>\n",
              "      <td>1007.232</td>\n",
              "      <td>6</td>\n",
              "      <td>0.2</td>\n",
              "      <td>75.5424</td>\n",
              "    </tr>\n",
              "    <tr>\n",
              "      <th>3055</th>\n",
              "      <td>3056</td>\n",
              "      <td>8/28/2015</td>\n",
              "      <td>9/1/2015</td>\n",
              "      <td>Standard Class</td>\n",
              "      <td>Corporate</td>\n",
              "      <td>Chicago</td>\n",
              "      <td>Illinois</td>\n",
              "      <td>Central</td>\n",
              "      <td>Technology</td>\n",
              "      <td>Copiers</td>\n",
              "      <td>Canon Imageclass D680 Copier / Fax</td>\n",
              "      <td>2799.960</td>\n",
              "      <td>5</td>\n",
              "      <td>0.2</td>\n",
              "      <td>874.9875</td>\n",
              "    </tr>\n",
              "    <tr>\n",
              "      <th>2364</th>\n",
              "      <td>2365</td>\n",
              "      <td>3/13/2016</td>\n",
              "      <td>3/18/2016</td>\n",
              "      <td>Standard Class</td>\n",
              "      <td>Home Office</td>\n",
              "      <td>Waynesboro</td>\n",
              "      <td>Virginia</td>\n",
              "      <td>South</td>\n",
              "      <td>Office Supplies</td>\n",
              "      <td>Appliances</td>\n",
              "      <td>Eureka The Boss Lite 10-Amp Upright Vacuum, Blue</td>\n",
              "      <td>160.320</td>\n",
              "      <td>2</td>\n",
              "      <td>0.0</td>\n",
              "      <td>44.8896</td>\n",
              "    </tr>\n",
              "  </tbody>\n",
              "</table>\n",
              "</div>"
            ],
            "text/plain": [
              "     row_id  order_date   ship_date       ship_mode      segment  \\\n",
              "5225   5226   6/21/2016   6/26/2016  Standard Class     Consumer   \n",
              "5751   5752   1/22/2016   1/28/2016  Standard Class     Consumer   \n",
              "5619   5620   9/25/2016   9/30/2016  Standard Class    Corporate   \n",
              "9222   9223  10/13/2017  10/14/2017     First Class     Consumer   \n",
              "5926   5927    4/8/2014   4/12/2014  Standard Class    Corporate   \n",
              "1590   1591   4/15/2016   4/19/2016  Standard Class    Corporate   \n",
              "7524   7525   9/10/2014   9/16/2014  Standard Class     Consumer   \n",
              "948     949  11/28/2017   12/2/2017  Standard Class  Home Office   \n",
              "3055   3056   8/28/2015    9/1/2015  Standard Class    Corporate   \n",
              "2364   2365   3/13/2016   3/18/2016  Standard Class  Home Office   \n",
              "\n",
              "               city         state   region         category  subcategory  \\\n",
              "5225  New York City      New York     East  Office Supplies      Binders   \n",
              "5751      San Diego    California     West  Office Supplies       Labels   \n",
              "5619      La Crosse     Wisconsin  Central       Technology  Accessories   \n",
              "9222      Lafayette     Louisiana    South  Office Supplies        Paper   \n",
              "5926        Decatur       Alabama    South        Furniture       Tables   \n",
              "1590      Grapevine         Texas  Central  Office Supplies          Art   \n",
              "7524        Gresham        Oregon     West  Office Supplies    Envelopes   \n",
              "948    Philadelphia  Pennsylvania     East        Furniture  Furnishings   \n",
              "3055        Chicago      Illinois  Central       Technology      Copiers   \n",
              "2364     Waynesboro      Virginia    South  Office Supplies   Appliances   \n",
              "\n",
              "                                           product_name     sales  quantity  \\\n",
              "5225  SpineVue Locking Slant-D Ring Binders by Cardinal    36.560         5   \n",
              "5751                                          Avery 475    44.400         3   \n",
              "5619                     Logitech Wireless Headset h800   499.950         5   \n",
              "9222                                          Xerox 231    25.920         4   \n",
              "5926  SAFCO PlanMaster Boards, 60w x 37-1/2d, White ...  1215.920         8   \n",
              "1590  Dixon Ticonderoga Erasable Colored Pencil Set,...    33.488         7   \n",
              "7524                              Peel & Seel Envelopes    21.728         7   \n",
              "948   Luxo Professional Fluorescent Magnifier Lamp w...  1007.232         6   \n",
              "3055                 Canon Imageclass D680 Copier / Fax  2799.960         5   \n",
              "2364   Eureka The Boss Lite 10-Amp Upright Vacuum, Blue   160.320         2   \n",
              "\n",
              "      discount    profit  \n",
              "5225       0.2   12.7960  \n",
              "5751       0.0   22.2000  \n",
              "5619       0.0  174.9825  \n",
              "9222       0.0   12.4416  \n",
              "5926       0.0  316.1392  \n",
              "1590       0.2    5.8604  \n",
              "7524       0.2    7.6048  \n",
              "948        0.2   75.5424  \n",
              "3055       0.2  874.9875  \n",
              "2364       0.0   44.8896  "
            ]
          },
          "execution_count": 26,
          "metadata": {},
          "output_type": "execute_result"
        }
      ],
      "source": [
        "# Renombrar columnas para facilitar el tratamiento\n",
        "df.rename({'Row ID' : 'row_id',\n",
        "           'Order Date' : 'order_date',\n",
        "           'Ship Date' : 'ship_date',\n",
        "           'Ship Mode' : 'ship_mode',\n",
        "           'Segment' : 'segment',\n",
        "           'City' : 'city',\n",
        "           'State' : 'state',\n",
        "           'Postal Code' : 'postal_code',\n",
        "           'Region' : 'region',\n",
        "           'Product ID' : 'product_id',\n",
        "           'Category' : 'category',\n",
        "           'Sub-Category' : 'subcategory',\n",
        "           'Product Name' : 'product_name',\n",
        "           'Sales' : 'sales',\n",
        "           'Quantity' : 'quantity',\n",
        "           'Discount' : 'discount',\n",
        "           'Profit' : 'profit'\n",
        "           },  axis=\"columns\", inplace=True)\n",
        "df.columns\n",
        "\n",
        "df.sample(10)"
      ]
    },
    {
      "cell_type": "code",
      "execution_count": 27,
      "metadata": {},
      "outputs": [
        {
          "data": {
            "text/plain": [
              "Standard Class    5968\n",
              "Second Class      1945\n",
              "First Class       1538\n",
              "Same Day           543\n",
              "Name: ship_mode, dtype: int64"
            ]
          },
          "execution_count": 27,
          "metadata": {},
          "output_type": "execute_result"
        }
      ],
      "source": [
        "df.ship_mode.value_counts()"
      ]
    },
    {
      "cell_type": "code",
      "execution_count": 28,
      "metadata": {
        "id": "RZ-u2leZwVby"
      },
      "outputs": [
        {
          "data": {
            "text/plain": [
              "(9994, 15)"
            ]
          },
          "execution_count": 28,
          "metadata": {},
          "output_type": "execute_result"
        }
      ],
      "source": [
        "# Se eliminan los duplicados si es que existen\n",
        "df = df.drop_duplicates()\n",
        "df.shape"
      ]
    },
    {
      "cell_type": "code",
      "execution_count": 29,
      "metadata": {
        "id": "br-Eojxczczw"
      },
      "outputs": [],
      "source": [
        "# Se cambia de tipo de dato int a string para evitar incurrir en errores de análisis cuantitativos\n",
        "df['row_id'] = df['row_id'].astype(str)"
      ]
    },
    {
      "cell_type": "code",
      "execution_count": 30,
      "metadata": {
        "colab": {
          "base_uri": "https://localhost:8080/"
        },
        "id": "HjOJPaSVGta5",
        "outputId": "c8c5776c-e3c2-4ca3-c216-50ec515f5929"
      },
      "outputs": [
        {
          "name": "stdout",
          "output_type": "stream",
          "text": [
            "<class 'pandas.core.frame.DataFrame'>\n",
            "Int64Index: 9994 entries, 0 to 9993\n",
            "Data columns (total 15 columns):\n",
            " #   Column        Non-Null Count  Dtype  \n",
            "---  ------        --------------  -----  \n",
            " 0   row_id        9994 non-null   object \n",
            " 1   order_date    9994 non-null   object \n",
            " 2   ship_date     9994 non-null   object \n",
            " 3   ship_mode     9994 non-null   object \n",
            " 4   segment       9994 non-null   object \n",
            " 5   city          9994 non-null   object \n",
            " 6   state         9994 non-null   object \n",
            " 7   region        9994 non-null   object \n",
            " 8   category      9994 non-null   object \n",
            " 9   subcategory   9994 non-null   object \n",
            " 10  product_name  9994 non-null   object \n",
            " 11  sales         9994 non-null   float64\n",
            " 12  quantity      9994 non-null   int64  \n",
            " 13  discount      9994 non-null   float64\n",
            " 14  profit        9994 non-null   float64\n",
            "dtypes: float64(3), int64(1), object(11)\n",
            "memory usage: 1.2+ MB\n"
          ]
        }
      ],
      "source": [
        "# Cuantos datos hay por cada columna?\n",
        "#df.count()\n",
        "df.info()"
      ]
    },
    {
      "cell_type": "code",
      "execution_count": 31,
      "metadata": {
        "colab": {
          "base_uri": "https://localhost:8080/",
          "height": 300
        },
        "id": "NpWTJ9Cry4iB",
        "outputId": "9ab9aece-3941-44ec-a919-c38836e98238"
      },
      "outputs": [
        {
          "data": {
            "text/html": [
              "<div>\n",
              "<style scoped>\n",
              "    .dataframe tbody tr th:only-of-type {\n",
              "        vertical-align: middle;\n",
              "    }\n",
              "\n",
              "    .dataframe tbody tr th {\n",
              "        vertical-align: top;\n",
              "    }\n",
              "\n",
              "    .dataframe thead th {\n",
              "        text-align: right;\n",
              "    }\n",
              "</style>\n",
              "<table border=\"1\" class=\"dataframe\">\n",
              "  <thead>\n",
              "    <tr style=\"text-align: right;\">\n",
              "      <th></th>\n",
              "      <th>sales</th>\n",
              "      <th>quantity</th>\n",
              "      <th>discount</th>\n",
              "      <th>profit</th>\n",
              "    </tr>\n",
              "  </thead>\n",
              "  <tbody>\n",
              "    <tr>\n",
              "      <th>count</th>\n",
              "      <td>9994.000000</td>\n",
              "      <td>9994.000000</td>\n",
              "      <td>9994.000000</td>\n",
              "      <td>9994.000000</td>\n",
              "    </tr>\n",
              "    <tr>\n",
              "      <th>mean</th>\n",
              "      <td>229.858001</td>\n",
              "      <td>3.789574</td>\n",
              "      <td>0.156203</td>\n",
              "      <td>28.656896</td>\n",
              "    </tr>\n",
              "    <tr>\n",
              "      <th>std</th>\n",
              "      <td>623.245101</td>\n",
              "      <td>2.225110</td>\n",
              "      <td>0.206452</td>\n",
              "      <td>234.260108</td>\n",
              "    </tr>\n",
              "    <tr>\n",
              "      <th>min</th>\n",
              "      <td>0.444000</td>\n",
              "      <td>1.000000</td>\n",
              "      <td>0.000000</td>\n",
              "      <td>-6599.978000</td>\n",
              "    </tr>\n",
              "    <tr>\n",
              "      <th>25%</th>\n",
              "      <td>17.280000</td>\n",
              "      <td>2.000000</td>\n",
              "      <td>0.000000</td>\n",
              "      <td>1.728750</td>\n",
              "    </tr>\n",
              "    <tr>\n",
              "      <th>50%</th>\n",
              "      <td>54.490000</td>\n",
              "      <td>3.000000</td>\n",
              "      <td>0.200000</td>\n",
              "      <td>8.666500</td>\n",
              "    </tr>\n",
              "    <tr>\n",
              "      <th>75%</th>\n",
              "      <td>209.940000</td>\n",
              "      <td>5.000000</td>\n",
              "      <td>0.200000</td>\n",
              "      <td>29.364000</td>\n",
              "    </tr>\n",
              "    <tr>\n",
              "      <th>max</th>\n",
              "      <td>22638.480000</td>\n",
              "      <td>14.000000</td>\n",
              "      <td>0.800000</td>\n",
              "      <td>8399.976000</td>\n",
              "    </tr>\n",
              "  </tbody>\n",
              "</table>\n",
              "</div>"
            ],
            "text/plain": [
              "              sales     quantity     discount       profit\n",
              "count   9994.000000  9994.000000  9994.000000  9994.000000\n",
              "mean     229.858001     3.789574     0.156203    28.656896\n",
              "std      623.245101     2.225110     0.206452   234.260108\n",
              "min        0.444000     1.000000     0.000000 -6599.978000\n",
              "25%       17.280000     2.000000     0.000000     1.728750\n",
              "50%       54.490000     3.000000     0.200000     8.666500\n",
              "75%      209.940000     5.000000     0.200000    29.364000\n",
              "max    22638.480000    14.000000     0.800000  8399.976000"
            ]
          },
          "execution_count": 31,
          "metadata": {},
          "output_type": "execute_result"
        }
      ],
      "source": [
        "df.describe()"
      ]
    },
    {
      "cell_type": "markdown",
      "metadata": {
        "id": "ygjmZlYLHCPU"
      },
      "source": [
        "## Detección de outliers"
      ]
    },
    {
      "cell_type": "code",
      "execution_count": 32,
      "metadata": {
        "colab": {
          "base_uri": "https://localhost:8080/",
          "height": 475
        },
        "id": "MssflLe7GtId",
        "outputId": "d17ad783-47a5-4421-ed1e-8c20f28f3c04"
      },
      "outputs": [
        {
          "data": {
            "text/plain": [
              "<Axes: xlabel='sales'>"
            ]
          },
          "execution_count": 32,
          "metadata": {},
          "output_type": "execute_result"
        },
        {
          "data": {
            "image/png": "[encoded data removed]",
            "text/plain": [
              "<Figure size 432x288 with 1 Axes>"
            ]
          },
          "metadata": {},
          "output_type": "display_data"
        }
      ],
      "source": [
        "# boxplot Sales\n",
        "sns.boxplot(x=df['sales'])"
      ]
    },
    {
      "cell_type": "code",
      "execution_count": 33,
      "metadata": {
        "colab": {
          "base_uri": "https://localhost:8080/"
        },
        "id": "kPvEuq1eHIRZ",
        "outputId": "3983d799-9979-4e27-8a49-8fb6bcdabdda"
      },
      "outputs": [],
      "source": [
        "# # Se calculas los Cuantiles del df\n",
        "# Q1 = df.quantile(0.25)\n",
        "# Q3 = df.quantile(0.75)\n",
        "# # Que calculamos acá?\n",
        "# IQR = Q3 - Q1\n",
        "# print(IQR)"
      ]
    },
    {
      "cell_type": "code",
      "execution_count": 34,
      "metadata": {
        "colab": {
          "base_uri": "https://localhost:8080/"
        },
        "id": "PSNUgUW4HIO0",
        "outputId": "9d1a7640-62bc-4aac-d7bb-df2af804ec1b"
      },
      "outputs": [],
      "source": [
        "# # Que estamos calculando acá? Si ya calculamos los Q1 y Q3?\n",
        "# df = df[~((df < (Q1 - 1.5 * IQR)) |(df > (Q3 + 1.5 * IQR))).any(axis=1)]\n",
        "# df.shape"
      ]
    },
    {
      "cell_type": "code",
      "execution_count": 35,
      "metadata": {
        "colab": {
          "base_uri": "https://localhost:8080/",
          "height": 475
        },
        "id": "sL78Grmr5Kzn",
        "outputId": "8aba3fad-11c5-4026-f3db-1acd41063439"
      },
      "outputs": [
        {
          "data": {
            "text/plain": [
              "<Axes: xlabel='sales'>"
            ]
          },
          "execution_count": 35,
          "metadata": {},
          "output_type": "execute_result"
        },
        {
          "data": {
            "image/png": "[encoded data removed]",
            "text/plain": [
              "<Figure size 432x288 with 1 Axes>"
            ]
          },
          "metadata": {},
          "output_type": "display_data"
        }
      ],
      "source": [
        "sns.boxplot(x=df['sales'])"
      ]
    },
    {
      "cell_type": "code",
      "execution_count": 36,
      "metadata": {
        "colab": {
          "base_uri": "https://localhost:8080/",
          "height": 475
        },
        "id": "sh5i3PGR5uRE",
        "outputId": "f4cfbca3-df77-436f-a4e7-29589a86d2c2"
      },
      "outputs": [
        {
          "data": {
            "text/plain": [
              "<Axes: xlabel='quantity'>"
            ]
          },
          "execution_count": 36,
          "metadata": {},
          "output_type": "execute_result"
        },
        {
          "data": {
            "image/png": "[encoded data removed]",
            "text/plain": [
              "<Figure size 432x288 with 1 Axes>"
            ]
          },
          "metadata": {},
          "output_type": "display_data"
        }
      ],
      "source": [
        "sns.boxplot(x=df['quantity'])"
      ]
    },
    {
      "cell_type": "code",
      "execution_count": 37,
      "metadata": {
        "colab": {
          "base_uri": "https://localhost:8080/",
          "height": 475
        },
        "id": "sjbQKybw51de",
        "outputId": "cfc4e6bd-c032-4a35-f496-cecef1f14d89"
      },
      "outputs": [
        {
          "data": {
            "text/plain": [
              "<Axes: xlabel='profit'>"
            ]
          },
          "execution_count": 37,
          "metadata": {},
          "output_type": "execute_result"
        },
        {
          "data": {
            "image/png": "[encoded data removed]",
            "text/plain": [
              "<Figure size 432x288 with 1 Axes>"
            ]
          },
          "metadata": {},
          "output_type": "display_data"
        }
      ],
      "source": [
        "sns.boxplot(x=df.profit)"
      ]
    },
    {
      "cell_type": "markdown",
      "metadata": {
        "id": "-OLWb8LvHUvR"
      },
      "source": [
        "### Revisamos algunas distribuciones de variables"
      ]
    },
    {
      "cell_type": "code",
      "execution_count": 38,
      "metadata": {
        "colab": {
          "base_uri": "https://localhost:8080/",
          "height": 534
        },
        "id": "JxuqEVg5HIMb",
        "outputId": "fd7c3d51-349e-4312-c685-717e115cad7a"
      },
      "outputs": [
        {
          "data": {
            "image/png": "[encoded data removed]",
            "text/plain": [
              "<Figure size 720x360 with 1 Axes>"
            ]
          },
          "metadata": {},
          "output_type": "display_data"
        }
      ],
      "source": [
        "df.sales.value_counts().nlargest(20).plot(kind='bar', figsize=(10,5))\n",
        "plt.title(\"Ventas\")\n",
        "plt.ylabel('Fequencia de Ventas')\n",
        "plt.xlabel('Sales');"
      ]
    },
    {
      "cell_type": "code",
      "execution_count": 39,
      "metadata": {
        "colab": {
          "base_uri": "https://localhost:8080/",
          "height": 614
        },
        "id": "Ubc0QzwPHIKE",
        "outputId": "cc692e4a-ce99-414d-b7ea-218f653dcc7b"
      },
      "outputs": [
        {
          "data": {
            "text/html": [
              "<div>\n",
              "<style scoped>\n",
              "    .dataframe tbody tr th:only-of-type {\n",
              "        vertical-align: middle;\n",
              "    }\n",
              "\n",
              "    .dataframe tbody tr th {\n",
              "        vertical-align: top;\n",
              "    }\n",
              "\n",
              "    .dataframe thead th {\n",
              "        text-align: right;\n",
              "    }\n",
              "</style>\n",
              "<table border=\"1\" class=\"dataframe\">\n",
              "  <thead>\n",
              "    <tr style=\"text-align: right;\">\n",
              "      <th></th>\n",
              "      <th>sales</th>\n",
              "      <th>quantity</th>\n",
              "      <th>discount</th>\n",
              "      <th>profit</th>\n",
              "    </tr>\n",
              "  </thead>\n",
              "  <tbody>\n",
              "    <tr>\n",
              "      <th>sales</th>\n",
              "      <td>1.000000</td>\n",
              "      <td>0.200795</td>\n",
              "      <td>-0.028190</td>\n",
              "      <td>0.479064</td>\n",
              "    </tr>\n",
              "    <tr>\n",
              "      <th>quantity</th>\n",
              "      <td>0.200795</td>\n",
              "      <td>1.000000</td>\n",
              "      <td>0.008623</td>\n",
              "      <td>0.066253</td>\n",
              "    </tr>\n",
              "    <tr>\n",
              "      <th>discount</th>\n",
              "      <td>-0.028190</td>\n",
              "      <td>0.008623</td>\n",
              "      <td>1.000000</td>\n",
              "      <td>-0.219487</td>\n",
              "    </tr>\n",
              "    <tr>\n",
              "      <th>profit</th>\n",
              "      <td>0.479064</td>\n",
              "      <td>0.066253</td>\n",
              "      <td>-0.219487</td>\n",
              "      <td>1.000000</td>\n",
              "    </tr>\n",
              "  </tbody>\n",
              "</table>\n",
              "</div>"
            ],
            "text/plain": [
              "             sales  quantity  discount    profit\n",
              "sales     1.000000  0.200795 -0.028190  0.479064\n",
              "quantity  0.200795  1.000000  0.008623  0.066253\n",
              "discount -0.028190  0.008623  1.000000 -0.219487\n",
              "profit    0.479064  0.066253 -0.219487  1.000000"
            ]
          },
          "execution_count": 39,
          "metadata": {},
          "output_type": "execute_result"
        },
        {
          "data": {
            "image/png": "[encoded data removed]",
            "text/plain": [
              "<Figure size 720x360 with 2 Axes>"
            ]
          },
          "metadata": {},
          "output_type": "display_data"
        }
      ],
      "source": [
        "# Coeficiente de correlación\n",
        "plt.figure(figsize=(10,5))\n",
        "c= df.corr()\n",
        "sns.heatmap(c,cmap=\"BrBG\",annot=True)\n",
        "c"
      ]
    },
    {
      "cell_type": "markdown",
      "metadata": {
        "id": "gocxV0is9_XK"
      },
      "source": [
        "## Segmentación de las ventas"
      ]
    },
    {
      "cell_type": "code",
      "execution_count": 44,
      "metadata": {
        "colab": {
          "base_uri": "https://localhost:8080/",
          "height": 518
        },
        "id": "yTohTdY7HIHh",
        "outputId": "6a3f6319-716e-49f2-cf6d-1e57fc0bf6f1"
      },
      "outputs": [
        {
          "name": "stderr",
          "output_type": "stream",
          "text": [
            "No artists with labels found to put in legend.  Note that artists whose label start with an underscore are ignored when legend() is called with no argument.\n"
          ]
        },
        {
          "data": {
            "image/png": "[encoded data removed]",
            "text/plain": [
              "<Figure size 576x360 with 1 Axes>"
            ]
          },
          "metadata": {},
          "output_type": "display_data"
        }
      ],
      "source": [
        "# Scatter plot para visualizar datos numéricos\n",
        "fig, ax = plt.subplots(figsize=(8,5))\n",
        "ax.scatter(df['sales'], df['profit'])\n",
        "\n",
        "plt.axvline(x=prom_sales, color='red', linestyle='--', linewidth=1.5)\n",
        "plt.axhline(y=prom_profit, color='red', linestyle='--', linewidth=1.5)\n",
        "\n",
        "plt.title('Distribución de sales y profit')\n",
        "\n",
        "ax.set_xlabel('sales')\n",
        "ax.set_ylabel('profit')\n",
        "\n",
        "plt.legend()\n",
        "plt.tight_layout();\n",
        "plt.show();\n",
        "\n"
      ]
    },
    {
      "cell_type": "markdown",
      "metadata": {},
      "source": [
        "### Asignación de segmentos\n",
        "1. Vamos a asignar una categoría según el valor de las ventas/profit\n",
        "2. Vamos a crear una nueva columna llamada \"Segmento\"\n",
        "3. A través de un ciclo for y el uso de ifelse vamos a asignar la categoría"
      ]
    },
    {
      "cell_type": "code",
      "execution_count": 45,
      "metadata": {
        "id": "2hJQwzLo7Lm-"
      },
      "outputs": [
        {
          "data": {
            "text/html": [
              "<div>\n",
              "<style scoped>\n",
              "    .dataframe tbody tr th:only-of-type {\n",
              "        vertical-align: middle;\n",
              "    }\n",
              "\n",
              "    .dataframe tbody tr th {\n",
              "        vertical-align: top;\n",
              "    }\n",
              "\n",
              "    .dataframe thead th {\n",
              "        text-align: right;\n",
              "    }\n",
              "</style>\n",
              "<table border=\"1\" class=\"dataframe\">\n",
              "  <thead>\n",
              "    <tr style=\"text-align: right;\">\n",
              "      <th></th>\n",
              "      <th>row_id</th>\n",
              "      <th>order_date</th>\n",
              "      <th>ship_date</th>\n",
              "      <th>ship_mode</th>\n",
              "      <th>segment</th>\n",
              "      <th>city</th>\n",
              "      <th>state</th>\n",
              "      <th>region</th>\n",
              "      <th>category</th>\n",
              "      <th>subcategory</th>\n",
              "      <th>product_name</th>\n",
              "      <th>sales</th>\n",
              "      <th>quantity</th>\n",
              "      <th>discount</th>\n",
              "      <th>profit</th>\n",
              "      <th>segmento</th>\n",
              "    </tr>\n",
              "  </thead>\n",
              "  <tbody>\n",
              "    <tr>\n",
              "      <th>8078</th>\n",
              "      <td>8079</td>\n",
              "      <td>6/23/2015</td>\n",
              "      <td>6/29/2015</td>\n",
              "      <td>Standard Class</td>\n",
              "      <td>Corporate</td>\n",
              "      <td>East Point</td>\n",
              "      <td>Georgia</td>\n",
              "      <td>South</td>\n",
              "      <td>Technology</td>\n",
              "      <td>Accessories</td>\n",
              "      <td>Dell Slim USB Multimedia Keyboard</td>\n",
              "      <td>75.000</td>\n",
              "      <td>3</td>\n",
              "      <td>0.0</td>\n",
              "      <td>18.0000</td>\n",
              "      <td>bajo_bajo</td>\n",
              "    </tr>\n",
              "    <tr>\n",
              "      <th>9607</th>\n",
              "      <td>9608</td>\n",
              "      <td>12/5/2017</td>\n",
              "      <td>12/8/2017</td>\n",
              "      <td>Second Class</td>\n",
              "      <td>Consumer</td>\n",
              "      <td>New York City</td>\n",
              "      <td>New York</td>\n",
              "      <td>East</td>\n",
              "      <td>Office Supplies</td>\n",
              "      <td>Paper</td>\n",
              "      <td>Telephone Message Books with Fax/Mobile Sectio...</td>\n",
              "      <td>21.600</td>\n",
              "      <td>6</td>\n",
              "      <td>0.0</td>\n",
              "      <td>9.9360</td>\n",
              "      <td>bajo_bajo</td>\n",
              "    </tr>\n",
              "    <tr>\n",
              "      <th>2097</th>\n",
              "      <td>2098</td>\n",
              "      <td>5/15/2016</td>\n",
              "      <td>5/20/2016</td>\n",
              "      <td>Standard Class</td>\n",
              "      <td>Home Office</td>\n",
              "      <td>Jackson</td>\n",
              "      <td>Mississippi</td>\n",
              "      <td>South</td>\n",
              "      <td>Office Supplies</td>\n",
              "      <td>Art</td>\n",
              "      <td>Newell 344</td>\n",
              "      <td>8.340</td>\n",
              "      <td>3</td>\n",
              "      <td>0.0</td>\n",
              "      <td>2.1684</td>\n",
              "      <td>bajo_bajo</td>\n",
              "    </tr>\n",
              "    <tr>\n",
              "      <th>8877</th>\n",
              "      <td>8878</td>\n",
              "      <td>9/17/2017</td>\n",
              "      <td>9/23/2017</td>\n",
              "      <td>Standard Class</td>\n",
              "      <td>Consumer</td>\n",
              "      <td>Morristown</td>\n",
              "      <td>New Jersey</td>\n",
              "      <td>East</td>\n",
              "      <td>Technology</td>\n",
              "      <td>Machines</td>\n",
              "      <td>Lexmark 20R1285 X6650 Wireless All-in-One Printer</td>\n",
              "      <td>480.000</td>\n",
              "      <td>4</td>\n",
              "      <td>0.0</td>\n",
              "      <td>225.6000</td>\n",
              "      <td>alto_alto</td>\n",
              "    </tr>\n",
              "    <tr>\n",
              "      <th>1330</th>\n",
              "      <td>1331</td>\n",
              "      <td>6/2/2017</td>\n",
              "      <td>6/6/2017</td>\n",
              "      <td>Standard Class</td>\n",
              "      <td>Home Office</td>\n",
              "      <td>Lorain</td>\n",
              "      <td>Ohio</td>\n",
              "      <td>East</td>\n",
              "      <td>Technology</td>\n",
              "      <td>Phones</td>\n",
              "      <td>Cush Cases Heavy Duty Rugged Cover Case for Sa...</td>\n",
              "      <td>2.970</td>\n",
              "      <td>1</td>\n",
              "      <td>0.4</td>\n",
              "      <td>-0.6435</td>\n",
              "      <td>bajo_bajo</td>\n",
              "    </tr>\n",
              "    <tr>\n",
              "      <th>9203</th>\n",
              "      <td>9204</td>\n",
              "      <td>10/30/2016</td>\n",
              "      <td>11/3/2016</td>\n",
              "      <td>Standard Class</td>\n",
              "      <td>Corporate</td>\n",
              "      <td>New York City</td>\n",
              "      <td>New York</td>\n",
              "      <td>East</td>\n",
              "      <td>Office Supplies</td>\n",
              "      <td>Art</td>\n",
              "      <td>Boston KS Multi-Size Manual Pencil Sharpener</td>\n",
              "      <td>114.950</td>\n",
              "      <td>5</td>\n",
              "      <td>0.0</td>\n",
              "      <td>32.1860</td>\n",
              "      <td>bajo_alto</td>\n",
              "    </tr>\n",
              "    <tr>\n",
              "      <th>3855</th>\n",
              "      <td>3856</td>\n",
              "      <td>10/23/2017</td>\n",
              "      <td>10/28/2017</td>\n",
              "      <td>Second Class</td>\n",
              "      <td>Consumer</td>\n",
              "      <td>San Antonio</td>\n",
              "      <td>Texas</td>\n",
              "      <td>Central</td>\n",
              "      <td>Office Supplies</td>\n",
              "      <td>Binders</td>\n",
              "      <td>Storex Dura Pro Binders</td>\n",
              "      <td>3.564</td>\n",
              "      <td>3</td>\n",
              "      <td>0.8</td>\n",
              "      <td>-6.2370</td>\n",
              "      <td>bajo_bajo</td>\n",
              "    </tr>\n",
              "    <tr>\n",
              "      <th>1199</th>\n",
              "      <td>1200</td>\n",
              "      <td>4/8/2016</td>\n",
              "      <td>4/12/2016</td>\n",
              "      <td>Standard Class</td>\n",
              "      <td>Consumer</td>\n",
              "      <td>Houston</td>\n",
              "      <td>Texas</td>\n",
              "      <td>Central</td>\n",
              "      <td>Office Supplies</td>\n",
              "      <td>Binders</td>\n",
              "      <td>GBC DocuBind P400 Electric Binding System</td>\n",
              "      <td>1088.792</td>\n",
              "      <td>4</td>\n",
              "      <td>0.8</td>\n",
              "      <td>-1850.9464</td>\n",
              "      <td>alto_bajo</td>\n",
              "    </tr>\n",
              "    <tr>\n",
              "      <th>4067</th>\n",
              "      <td>4068</td>\n",
              "      <td>11/1/2014</td>\n",
              "      <td>11/5/2014</td>\n",
              "      <td>Standard Class</td>\n",
              "      <td>Corporate</td>\n",
              "      <td>Charlotte</td>\n",
              "      <td>North Carolina</td>\n",
              "      <td>South</td>\n",
              "      <td>Office Supplies</td>\n",
              "      <td>Labels</td>\n",
              "      <td>Avery 513</td>\n",
              "      <td>47.808</td>\n",
              "      <td>12</td>\n",
              "      <td>0.2</td>\n",
              "      <td>15.5376</td>\n",
              "      <td>bajo_bajo</td>\n",
              "    </tr>\n",
              "    <tr>\n",
              "      <th>3354</th>\n",
              "      <td>3355</td>\n",
              "      <td>7/19/2014</td>\n",
              "      <td>7/24/2014</td>\n",
              "      <td>Standard Class</td>\n",
              "      <td>Corporate</td>\n",
              "      <td>Bristol</td>\n",
              "      <td>Connecticut</td>\n",
              "      <td>East</td>\n",
              "      <td>Furniture</td>\n",
              "      <td>Tables</td>\n",
              "      <td>Barricks 18\" x 48\" Non-Folding Utility Table w...</td>\n",
              "      <td>70.560</td>\n",
              "      <td>1</td>\n",
              "      <td>0.3</td>\n",
              "      <td>-4.0320</td>\n",
              "      <td>bajo_bajo</td>\n",
              "    </tr>\n",
              "  </tbody>\n",
              "</table>\n",
              "</div>"
            ],
            "text/plain": [
              "     row_id  order_date   ship_date       ship_mode      segment  \\\n",
              "8078   8079   6/23/2015   6/29/2015  Standard Class    Corporate   \n",
              "9607   9608   12/5/2017   12/8/2017    Second Class     Consumer   \n",
              "2097   2098   5/15/2016   5/20/2016  Standard Class  Home Office   \n",
              "8877   8878   9/17/2017   9/23/2017  Standard Class     Consumer   \n",
              "1330   1331    6/2/2017    6/6/2017  Standard Class  Home Office   \n",
              "9203   9204  10/30/2016   11/3/2016  Standard Class    Corporate   \n",
              "3855   3856  10/23/2017  10/28/2017    Second Class     Consumer   \n",
              "1199   1200    4/8/2016   4/12/2016  Standard Class     Consumer   \n",
              "4067   4068   11/1/2014   11/5/2014  Standard Class    Corporate   \n",
              "3354   3355   7/19/2014   7/24/2014  Standard Class    Corporate   \n",
              "\n",
              "               city           state   region         category  subcategory  \\\n",
              "8078     East Point         Georgia    South       Technology  Accessories   \n",
              "9607  New York City        New York     East  Office Supplies        Paper   \n",
              "2097        Jackson     Mississippi    South  Office Supplies          Art   \n",
              "8877     Morristown      New Jersey     East       Technology     Machines   \n",
              "1330         Lorain            Ohio     East       Technology       Phones   \n",
              "9203  New York City        New York     East  Office Supplies          Art   \n",
              "3855    San Antonio           Texas  Central  Office Supplies      Binders   \n",
              "1199        Houston           Texas  Central  Office Supplies      Binders   \n",
              "4067      Charlotte  North Carolina    South  Office Supplies       Labels   \n",
              "3354        Bristol     Connecticut     East        Furniture       Tables   \n",
              "\n",
              "                                           product_name     sales  quantity  \\\n",
              "8078                  Dell Slim USB Multimedia Keyboard    75.000         3   \n",
              "9607  Telephone Message Books with Fax/Mobile Sectio...    21.600         6   \n",
              "2097                                         Newell 344     8.340         3   \n",
              "8877  Lexmark 20R1285 X6650 Wireless All-in-One Printer   480.000         4   \n",
              "1330  Cush Cases Heavy Duty Rugged Cover Case for Sa...     2.970         1   \n",
              "9203       Boston KS Multi-Size Manual Pencil Sharpener   114.950         5   \n",
              "3855                            Storex Dura Pro Binders     3.564         3   \n",
              "1199          GBC DocuBind P400 Electric Binding System  1088.792         4   \n",
              "4067                                          Avery 513    47.808        12   \n",
              "3354  Barricks 18\" x 48\" Non-Folding Utility Table w...    70.560         1   \n",
              "\n",
              "      discount     profit   segmento  \n",
              "8078       0.0    18.0000  bajo_bajo  \n",
              "9607       0.0     9.9360  bajo_bajo  \n",
              "2097       0.0     2.1684  bajo_bajo  \n",
              "8877       0.0   225.6000  alto_alto  \n",
              "1330       0.4    -0.6435  bajo_bajo  \n",
              "9203       0.0    32.1860  bajo_alto  \n",
              "3855       0.8    -6.2370  bajo_bajo  \n",
              "1199       0.8 -1850.9464  alto_bajo  \n",
              "4067       0.2    15.5376  bajo_bajo  \n",
              "3354       0.3    -4.0320  bajo_bajo  "
            ]
          },
          "execution_count": 45,
          "metadata": {},
          "output_type": "execute_result"
        }
      ],
      "source": [
        "# Calcula el promedio de sales y profit\n",
        "prom_sales = df.sales.mean()\n",
        "prom_profit = df.profit.mean()\n",
        "\n",
        "# Crea una lista para almacenar los segmentos\n",
        "segmento = []\n",
        "\n",
        "# Itera a través de las filas del DataFrame\n",
        "for index, row in df.iterrows():\n",
        "    if row['sales'] < prom_sales and row['profit'] < prom_profit:\n",
        "        segmento.append('bajo_bajo')\n",
        "    elif row['sales'] < prom_sales and row['profit'] > prom_profit:\n",
        "        segmento.append('bajo_alto')\n",
        "    elif row['sales'] > prom_sales and row['profit'] < prom_profit:\n",
        "        segmento.append('alto_bajo')\n",
        "    elif row['sales'] > prom_sales and row['profit'] > prom_profit:\n",
        "        segmento.append('alto_alto')\n",
        "    else:\n",
        "        segmento.append('otros')  # Manejo de casos que no cumplen ninguna condición\n",
        "\n",
        "# Agrega la columna 'segmento' al DataFrame\n",
        "df['segmento'] = segmento\n",
        "df.sample(10)"
      ]
    },
    {
      "cell_type": "markdown",
      "metadata": {
        "id": "Esl_0fQsIOYC"
      },
      "source": [
        "### Uso de tablas de contingencia"
      ]
    },
    {
      "cell_type": "markdown",
      "metadata": {
        "id": "ZhYtKCEnDHW4"
      },
      "source": [
        "## Uso de tablas de contingencia con Pandas"
      ]
    },
    {
      "cell_type": "code",
      "execution_count": 43,
      "metadata": {
        "colab": {
          "base_uri": "https://localhost:8080/",
          "height": 206
        },
        "id": "3lbgmvcgJFEl",
        "outputId": "30d9f623-6798-433c-e53d-72da121813f6"
      },
      "outputs": [
        {
          "data": {
            "text/html": [
              "<div>\n",
              "<style scoped>\n",
              "    .dataframe tbody tr th:only-of-type {\n",
              "        vertical-align: middle;\n",
              "    }\n",
              "\n",
              "    .dataframe tbody tr th {\n",
              "        vertical-align: top;\n",
              "    }\n",
              "\n",
              "    .dataframe thead th {\n",
              "        text-align: right;\n",
              "    }\n",
              "</style>\n",
              "<table border=\"1\" class=\"dataframe\">\n",
              "  <thead>\n",
              "    <tr style=\"text-align: right;\">\n",
              "      <th>ship_mode</th>\n",
              "      <th>First Class</th>\n",
              "      <th>Same Day</th>\n",
              "      <th>Second Class</th>\n",
              "      <th>Standard Class</th>\n",
              "    </tr>\n",
              "    <tr>\n",
              "      <th>region</th>\n",
              "      <th></th>\n",
              "      <th></th>\n",
              "      <th></th>\n",
              "      <th></th>\n",
              "    </tr>\n",
              "  </thead>\n",
              "  <tbody>\n",
              "    <tr>\n",
              "      <th>Central</th>\n",
              "      <td>299</td>\n",
              "      <td>120</td>\n",
              "      <td>465</td>\n",
              "      <td>1439</td>\n",
              "    </tr>\n",
              "    <tr>\n",
              "      <th>East</th>\n",
              "      <td>490</td>\n",
              "      <td>155</td>\n",
              "      <td>530</td>\n",
              "      <td>1673</td>\n",
              "    </tr>\n",
              "    <tr>\n",
              "      <th>South</th>\n",
              "      <td>234</td>\n",
              "      <td>83</td>\n",
              "      <td>329</td>\n",
              "      <td>974</td>\n",
              "    </tr>\n",
              "    <tr>\n",
              "      <th>West</th>\n",
              "      <td>515</td>\n",
              "      <td>185</td>\n",
              "      <td>621</td>\n",
              "      <td>1882</td>\n",
              "    </tr>\n",
              "  </tbody>\n",
              "</table>\n",
              "</div>"
            ],
            "text/plain": [
              "ship_mode  First Class  Same Day  Second Class  Standard Class\n",
              "region                                                        \n",
              "Central            299       120           465            1439\n",
              "East               490       155           530            1673\n",
              "South              234        83           329             974\n",
              "West               515       185           621            1882"
            ]
          },
          "execution_count": 43,
          "metadata": {},
          "output_type": "execute_result"
        }
      ],
      "source": [
        "# Ejemplos\n",
        "# Agrupar por variables más grandes para tener una visión más amplia\n",
        "table_region = pd.crosstab(index=df.region, columns=df.ship_mode)\n",
        "table_region"
      ]
    },
    {
      "cell_type": "code",
      "execution_count": null,
      "metadata": {},
      "outputs": [],
      "source": [
        "# Agrupar por variables más grandes para tener una visión más amplia\n",
        "table_region = pd.crosstab(index=df.region, columns=df.segmento, margins=True, margins_name=\"Total\")\n",
        "table_region"
      ]
    },
    {
      "cell_type": "markdown",
      "metadata": {
        "id": "voDKpxHPKlbQ"
      },
      "source": [
        "## Análisis Univariado\n",
        "* Analizar los tipos de distribución de las variables numéricas.\n",
        "* Use estadística descriptiva\n",
        "* Probar distribución normal. Investigar los test y scripts para desarrollar esto.\n",
        "* Recomiendo revisar la librería Scipy y los gráficos de distribución de Seaborn y Matplotlib\n",
        "  * Link: https://scipy.org/\n",
        "* Investigar sobre los test de normalidad y su implementación en Python\n",
        "  * Link: https://docs.scipy.org/doc/scipy/reference/generated/scipy.stats.normaltest.html\n",
        "* Investigar sobre pruebas para variables categoricas y su implementación en Python\n",
        "  * Link: https://docs.scipy.org/doc/scipy/reference/generated/scipy.stats.chi2_contingency.html\n",
        "* Investigar sobre pruebas para variables numéricas (t-test) y su implementación en Python\n",
        "  * Link: https://docs.scipy.org/doc/scipy/reference/generated/scipy.stats.ttest_ind.html"
      ]
    },
    {
      "cell_type": "markdown",
      "metadata": {
        "id": "uaPuG--n_fhP"
      },
      "source": [
        "# Finanzas (2ptos)\n",
        "### Que ciudades son las que tiene mejor Profit\n",
        "1. Rentabilidad entre categorías. Evidencia estadística\n",
        "2. Rentabilidad entre segmentos. Hay diferencia estadística"
      ]
    },
    {
      "cell_type": "code",
      "execution_count": null,
      "metadata": {
        "id": "MhAoL34y_fTW"
      },
      "outputs": [],
      "source": []
    },
    {
      "cell_type": "markdown",
      "metadata": {
        "id": "PkyCuX1j_lfS"
      },
      "source": [
        "# Operaciones (2ptos)\n",
        "### Cuales son los state que tiene mayor nivel de ventas\n",
        "1. A que estados estamos enviando más? Evidencia estadística\n",
        "2. Diferencia entre segmentos. Hay diferencia estadística\n"
      ]
    },
    {
      "cell_type": "code",
      "execution_count": null,
      "metadata": {
        "id": "yzFDqEgQ_rly"
      },
      "outputs": [],
      "source": []
    },
    {
      "cell_type": "markdown",
      "metadata": {
        "id": "U6Uru02e_sRa"
      },
      "source": [
        "# Comercial (2ptos)\n",
        "## Cuales son las categorías de productos más rentables\n",
        "1. Hay diferencias entre categorías? (estadística)\n",
        "2. En que estados se presentan estas diferencias\n",
        "3. En que categorías se detectaron los mayores descuentos"
      ]
    },
    {
      "cell_type": "code",
      "execution_count": null,
      "metadata": {
        "id": "fh8ZsEP6_svT"
      },
      "outputs": [],
      "source": []
    },
    {
      "cell_type": "markdown",
      "metadata": {},
      "source": [
        "# Conclusiones (3ptos)\n",
        "***ATENCIÓN***\n",
        "* Las conclusiones deben incluír las métricas investigadas en los análisis que se realizaron\n",
        "* Se probará su script para que el código sea reproducible\n",
        "\n",
        "1. Que conclusiones podemos sacar de este análisis?\n",
        "2. Que recomendaciones podemos dar a la empresa?\n",
        "3. Que análisis adicionales podemos hacer?"
      ]
    }
  ],
  "metadata": {
    "colab": {
      "provenance": []
    },
    "kernelspec": {
      "display_name": "Python 3",
      "name": "python3"
    },
    "language_info": {
      "codemirror_mode": {
        "name": "ipython",
        "version": 3
      },
      "file_extension": ".py",
      "mimetype": "text/x-python",
      "name": "python",
      "nbconvert_exporter": "python",
      "pygments_lexer": "ipython3",
      "version": "3.10.4"
    }
  },
  "nbformat": 4,
  "nbformat_minor": 0
}
