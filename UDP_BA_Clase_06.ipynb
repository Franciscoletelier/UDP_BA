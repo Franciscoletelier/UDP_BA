{
  "cells": [
    {
      "cell_type": "markdown",
      "metadata": {
        "id": "jHt4VVsFEnew"
      },
      "source": [
        "![logo_fae_web.jpeg](data:image/jpeg;base64,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)\n",
        "\n"
      ]
    },
    {
      "cell_type": "markdown",
      "metadata": {
        "id": "yvpM01Wjyn2x"
      },
      "source": [
        "# UDP - Bussines Analytics 1\n",
        "# Solemne 01\n",
        "\n",
        "\n",
        "### Contenido de la clase:\n",
        "\n",
        "### Exploratory Data Analysis de Prueba 01\n",
        "\n",
        "### Contenido de la clase\n",
        "* Aspectos Generales\n",
        "* Preparación de la data"
      ]
    },
    {
      "cell_type": "markdown",
      "metadata": {
        "id": "kJij5qsb1OXb"
      },
      "source": [
        "## Hacia donde vamos...\n",
        "* Analítica Descriptiva:\n",
        "  * Preprocessing\n",
        "  * Exploratory Data Analysis\n",
        "    * Análisis Univariado: distribución normal?\n",
        "    * Test de comparación de médias: t-test, Chi2, KS, etc"
      ]
    },
    {
      "cell_type": "markdown",
      "metadata": {
        "id": "kZTtDD0oJDyM"
      },
      "source": [
        "### Instalación de la librería de estadísticas"
      ]
    },
    {
      "cell_type": "code",
      "execution_count": 1,
      "metadata": {
        "colab": {
          "base_uri": "https://localhost:8080/"
        },
        "id": "n4zL7ZXF8sUV",
        "outputId": "1c687648-136c-40e8-ddd5-1ad67c6a963c"
      },
      "outputs": [],
      "source": [
        "# Para instalarla debes sacar el signo #\n",
        "# ! pip install scipy"
      ]
    },
    {
      "cell_type": "code",
      "execution_count": 2,
      "metadata": {
        "id": "PCQcMbDiEYBr"
      },
      "outputs": [],
      "source": [
        "# Librerías de tratamiento de datos (las principales)\n",
        "import pandas as pd\n",
        "import numpy as np\n",
        "import missingno as msno\n",
        "\n",
        "\n",
        "# Librerías de gráficas\n",
        "import matplotlib.pyplot as plt\n",
        "import seaborn as sns\n",
        "# complementa algunas visualizaciones\n",
        "%matplotlib inline\n",
        "# apply some cool styling\n",
        "sns.set(color_codes=True)\n",
        "\n",
        "# Instalación de librería estadística\n",
        "from scipy import stats\n",
        "from scipy.stats import norm\n",
        "\n",
        "\n",
        "# Librerías de advertencias\n",
        "import warnings\n",
        "warnings.filterwarnings(\"ignore\")\n"
      ]
    },
    {
      "cell_type": "markdown",
      "metadata": {
        "id": "zTSBcqzjhaBi"
      },
      "source": [
        "### Importamos la data desde nuestro Drive\n",
        "\n",
        "1. from google.colab import drive\n",
        "2. drive.mount(\"/content/drive\")\n",
        "3. Permitir acceso a nuestro Google Colab\n",
        "4. link archivo\n"
      ]
    },
    {
      "cell_type": "code",
      "execution_count": 3,
      "metadata": {
        "colab": {
          "base_uri": "https://localhost:8080/"
        },
        "id": "AguH4-H0hhwT",
        "outputId": "6f3ebdda-3ad4-4e9e-d08b-c5150ac45f9c"
      },
      "outputs": [],
      "source": [
        "# from google.colab import drive\n",
        "# drive.mount(\"/content/drive\")\n",
        "# df = pd.read_csv(\"/content/drive/MyDrive/UDP_BA01/data_store.csv\",sep=\",\",encoding=\"latin-1\")\n",
        "\n",
        "# # To display the top 5 rows\n",
        "# df.head(5)"
      ]
    },
    {
      "cell_type": "code",
      "execution_count": 4,
      "metadata": {},
      "outputs": [],
      "source": [
        "# Cargar datos desde un repositorio de github\n",
        "\n",
        "\n",
        "# Cargar datos desde un repositorio de github\n",
        "# url = \"https://raw.githubusercontent.com/Franciscoletelier/UDP_BA/master/data_store.csv\"\n",
        "# df = pd.read_csv(url,sep=\",\",encoding=\"latin-1\")\n",
        "\n",
        "# Ayuda para corregir este error\n",
        "# URLError: <urlopen error [SSL: CERTIFICATE_VERIFY_FAILED] certificate verify failed: unable to get local issuer certificate (_ssl.c:997)>\n",
        "# Output is truncated. View as a scrollable element or open in a text editor. Adjust cell output settings...\n",
        "\n",
        "\n",
        "\n",
        "\n"
      ]
    },
    {
      "cell_type": "code",
      "execution_count": 5,
      "metadata": {
        "colab": {
          "base_uri": "https://localhost:8080/",
          "height": 585
        },
        "id": "X2zovbrFgQVJ",
        "outputId": "1227a94d-0b3a-4ba8-e0b3-93a75ca0ce09"
      },
      "outputs": [
        {
          "data": {
            "text/html": [
              "<div>\n",
              "<style scoped>\n",
              "    .dataframe tbody tr th:only-of-type {\n",
              "        vertical-align: middle;\n",
              "    }\n",
              "\n",
              "    .dataframe tbody tr th {\n",
              "        vertical-align: top;\n",
              "    }\n",
              "\n",
              "    .dataframe thead th {\n",
              "        text-align: right;\n",
              "    }\n",
              "</style>\n",
              "<table border=\"1\" class=\"dataframe\">\n",
              "  <thead>\n",
              "    <tr style=\"text-align: right;\">\n",
              "      <th></th>\n",
              "      <th>Row ID</th>\n",
              "      <th>Order ID</th>\n",
              "      <th>Order Date</th>\n",
              "      <th>Ship Date</th>\n",
              "      <th>Ship Mode</th>\n",
              "      <th>Customer ID</th>\n",
              "      <th>Customer Name</th>\n",
              "      <th>Segment</th>\n",
              "      <th>Country</th>\n",
              "      <th>City</th>\n",
              "      <th>...</th>\n",
              "      <th>Postal Code</th>\n",
              "      <th>Region</th>\n",
              "      <th>Product ID</th>\n",
              "      <th>Category</th>\n",
              "      <th>Sub-Category</th>\n",
              "      <th>Product Name</th>\n",
              "      <th>Sales</th>\n",
              "      <th>Quantity</th>\n",
              "      <th>Discount</th>\n",
              "      <th>Profit</th>\n",
              "    </tr>\n",
              "  </thead>\n",
              "  <tbody>\n",
              "    <tr>\n",
              "      <th>7244</th>\n",
              "      <td>7245</td>\n",
              "      <td>US-2017-151127</td>\n",
              "      <td>5/22/2017</td>\n",
              "      <td>5/25/2017</td>\n",
              "      <td>First Class</td>\n",
              "      <td>RL-19615</td>\n",
              "      <td>Rob Lucas</td>\n",
              "      <td>Consumer</td>\n",
              "      <td>United States</td>\n",
              "      <td>Los Angeles</td>\n",
              "      <td>...</td>\n",
              "      <td>90049</td>\n",
              "      <td>West</td>\n",
              "      <td>OFF-AR-10002445</td>\n",
              "      <td>Office Supplies</td>\n",
              "      <td>Art</td>\n",
              "      <td>SANFORD Major Accent Highlighters</td>\n",
              "      <td>49.560</td>\n",
              "      <td>7</td>\n",
              "      <td>0.0</td>\n",
              "      <td>18.8328</td>\n",
              "    </tr>\n",
              "    <tr>\n",
              "      <th>829</th>\n",
              "      <td>830</td>\n",
              "      <td>CA-2017-129462</td>\n",
              "      <td>6/16/2017</td>\n",
              "      <td>6/21/2017</td>\n",
              "      <td>Second Class</td>\n",
              "      <td>JE-15745</td>\n",
              "      <td>Joel Eaton</td>\n",
              "      <td>Consumer</td>\n",
              "      <td>United States</td>\n",
              "      <td>Florence</td>\n",
              "      <td>...</td>\n",
              "      <td>41042</td>\n",
              "      <td>South</td>\n",
              "      <td>FUR-CH-10000665</td>\n",
              "      <td>Furniture</td>\n",
              "      <td>Chairs</td>\n",
              "      <td>Global Airflow Leather Mesh Back Chair, Black</td>\n",
              "      <td>301.960</td>\n",
              "      <td>2</td>\n",
              "      <td>0.0</td>\n",
              "      <td>90.5880</td>\n",
              "    </tr>\n",
              "    <tr>\n",
              "      <th>3577</th>\n",
              "      <td>3578</td>\n",
              "      <td>CA-2016-103163</td>\n",
              "      <td>6/7/2016</td>\n",
              "      <td>6/11/2016</td>\n",
              "      <td>Standard Class</td>\n",
              "      <td>FM-14290</td>\n",
              "      <td>Frank Merwin</td>\n",
              "      <td>Home Office</td>\n",
              "      <td>United States</td>\n",
              "      <td>Bakersfield</td>\n",
              "      <td>...</td>\n",
              "      <td>93309</td>\n",
              "      <td>West</td>\n",
              "      <td>OFF-PA-10004000</td>\n",
              "      <td>Office Supplies</td>\n",
              "      <td>Paper</td>\n",
              "      <td>While You Were Out Pads, 50 per Pad, 4 x 5 1/4...</td>\n",
              "      <td>4.730</td>\n",
              "      <td>1</td>\n",
              "      <td>0.0</td>\n",
              "      <td>2.3177</td>\n",
              "    </tr>\n",
              "    <tr>\n",
              "      <th>444</th>\n",
              "      <td>445</td>\n",
              "      <td>CA-2016-115756</td>\n",
              "      <td>9/5/2016</td>\n",
              "      <td>9/7/2016</td>\n",
              "      <td>Second Class</td>\n",
              "      <td>PK-19075</td>\n",
              "      <td>Pete Kriz</td>\n",
              "      <td>Consumer</td>\n",
              "      <td>United States</td>\n",
              "      <td>Detroit</td>\n",
              "      <td>...</td>\n",
              "      <td>48227</td>\n",
              "      <td>Central</td>\n",
              "      <td>FUR-CH-10002372</td>\n",
              "      <td>Furniture</td>\n",
              "      <td>Chairs</td>\n",
              "      <td>Office Star - Ergonomically Designed Knee Chair</td>\n",
              "      <td>242.940</td>\n",
              "      <td>3</td>\n",
              "      <td>0.0</td>\n",
              "      <td>29.1528</td>\n",
              "    </tr>\n",
              "    <tr>\n",
              "      <th>305</th>\n",
              "      <td>306</td>\n",
              "      <td>CA-2014-130960</td>\n",
              "      <td>12/30/2014</td>\n",
              "      <td>1/4/2015</td>\n",
              "      <td>Standard Class</td>\n",
              "      <td>KB-16600</td>\n",
              "      <td>Ken Brennan</td>\n",
              "      <td>Corporate</td>\n",
              "      <td>United States</td>\n",
              "      <td>Taylor</td>\n",
              "      <td>...</td>\n",
              "      <td>48180</td>\n",
              "      <td>Central</td>\n",
              "      <td>OFF-AR-10003651</td>\n",
              "      <td>Office Supplies</td>\n",
              "      <td>Art</td>\n",
              "      <td>Newell 350</td>\n",
              "      <td>9.840</td>\n",
              "      <td>3</td>\n",
              "      <td>0.0</td>\n",
              "      <td>2.8536</td>\n",
              "    </tr>\n",
              "    <tr>\n",
              "      <th>6883</th>\n",
              "      <td>6884</td>\n",
              "      <td>CA-2015-137113</td>\n",
              "      <td>12/1/2015</td>\n",
              "      <td>12/5/2015</td>\n",
              "      <td>Second Class</td>\n",
              "      <td>TW-21025</td>\n",
              "      <td>Tamara Willingham</td>\n",
              "      <td>Home Office</td>\n",
              "      <td>United States</td>\n",
              "      <td>Seattle</td>\n",
              "      <td>...</td>\n",
              "      <td>98105</td>\n",
              "      <td>West</td>\n",
              "      <td>OFF-PA-10002222</td>\n",
              "      <td>Office Supplies</td>\n",
              "      <td>Paper</td>\n",
              "      <td>Xerox Color Copier Paper, 11\" x 17\", Ream</td>\n",
              "      <td>114.200</td>\n",
              "      <td>5</td>\n",
              "      <td>0.0</td>\n",
              "      <td>52.5320</td>\n",
              "    </tr>\n",
              "    <tr>\n",
              "      <th>710</th>\n",
              "      <td>711</td>\n",
              "      <td>CA-2014-113887</td>\n",
              "      <td>4/5/2014</td>\n",
              "      <td>4/7/2014</td>\n",
              "      <td>First Class</td>\n",
              "      <td>TH-21550</td>\n",
              "      <td>Tracy Hopkins</td>\n",
              "      <td>Home Office</td>\n",
              "      <td>United States</td>\n",
              "      <td>New York City</td>\n",
              "      <td>...</td>\n",
              "      <td>10035</td>\n",
              "      <td>East</td>\n",
              "      <td>OFF-PA-10004071</td>\n",
              "      <td>Office Supplies</td>\n",
              "      <td>Paper</td>\n",
              "      <td>Eaton Premium Continuous-Feed Paper, 25% Cotto...</td>\n",
              "      <td>55.480</td>\n",
              "      <td>1</td>\n",
              "      <td>0.0</td>\n",
              "      <td>26.6304</td>\n",
              "    </tr>\n",
              "    <tr>\n",
              "      <th>9290</th>\n",
              "      <td>9291</td>\n",
              "      <td>CA-2014-163650</td>\n",
              "      <td>9/23/2014</td>\n",
              "      <td>9/25/2014</td>\n",
              "      <td>First Class</td>\n",
              "      <td>TT-21220</td>\n",
              "      <td>Thomas Thornton</td>\n",
              "      <td>Consumer</td>\n",
              "      <td>United States</td>\n",
              "      <td>Dover</td>\n",
              "      <td>...</td>\n",
              "      <td>19901</td>\n",
              "      <td>East</td>\n",
              "      <td>OFF-AR-10002375</td>\n",
              "      <td>Office Supplies</td>\n",
              "      <td>Art</td>\n",
              "      <td>Newell 351</td>\n",
              "      <td>9.840</td>\n",
              "      <td>3</td>\n",
              "      <td>0.0</td>\n",
              "      <td>2.8536</td>\n",
              "    </tr>\n",
              "    <tr>\n",
              "      <th>676</th>\n",
              "      <td>677</td>\n",
              "      <td>US-2017-119438</td>\n",
              "      <td>3/18/2017</td>\n",
              "      <td>3/23/2017</td>\n",
              "      <td>Standard Class</td>\n",
              "      <td>CD-11980</td>\n",
              "      <td>Carol Darley</td>\n",
              "      <td>Consumer</td>\n",
              "      <td>United States</td>\n",
              "      <td>Tyler</td>\n",
              "      <td>...</td>\n",
              "      <td>75701</td>\n",
              "      <td>Central</td>\n",
              "      <td>OFF-AP-10000804</td>\n",
              "      <td>Office Supplies</td>\n",
              "      <td>Appliances</td>\n",
              "      <td>Hoover Portapower Portable Vacuum</td>\n",
              "      <td>2.688</td>\n",
              "      <td>3</td>\n",
              "      <td>0.8</td>\n",
              "      <td>-7.3920</td>\n",
              "    </tr>\n",
              "    <tr>\n",
              "      <th>2789</th>\n",
              "      <td>2790</td>\n",
              "      <td>US-2014-117744</td>\n",
              "      <td>12/2/2014</td>\n",
              "      <td>12/6/2014</td>\n",
              "      <td>Standard Class</td>\n",
              "      <td>MD-17860</td>\n",
              "      <td>Michael Dominguez</td>\n",
              "      <td>Corporate</td>\n",
              "      <td>United States</td>\n",
              "      <td>Corpus Christi</td>\n",
              "      <td>...</td>\n",
              "      <td>78415</td>\n",
              "      <td>Central</td>\n",
              "      <td>FUR-FU-10002759</td>\n",
              "      <td>Furniture</td>\n",
              "      <td>Furnishings</td>\n",
              "      <td>12-1/2 Diameter Round Wall Clock</td>\n",
              "      <td>39.960</td>\n",
              "      <td>5</td>\n",
              "      <td>0.6</td>\n",
              "      <td>-23.9760</td>\n",
              "    </tr>\n",
              "  </tbody>\n",
              "</table>\n",
              "<p>10 rows × 21 columns</p>\n",
              "</div>"
            ],
            "text/plain": [
              "      Row ID        Order ID  Order Date  Ship Date       Ship Mode  \\\n",
              "7244    7245  US-2017-151127   5/22/2017  5/25/2017     First Class   \n",
              "829      830  CA-2017-129462   6/16/2017  6/21/2017    Second Class   \n",
              "3577    3578  CA-2016-103163    6/7/2016  6/11/2016  Standard Class   \n",
              "444      445  CA-2016-115756    9/5/2016   9/7/2016    Second Class   \n",
              "305      306  CA-2014-130960  12/30/2014   1/4/2015  Standard Class   \n",
              "6883    6884  CA-2015-137113   12/1/2015  12/5/2015    Second Class   \n",
              "710      711  CA-2014-113887    4/5/2014   4/7/2014     First Class   \n",
              "9290    9291  CA-2014-163650   9/23/2014  9/25/2014     First Class   \n",
              "676      677  US-2017-119438   3/18/2017  3/23/2017  Standard Class   \n",
              "2789    2790  US-2014-117744   12/2/2014  12/6/2014  Standard Class   \n",
              "\n",
              "     Customer ID      Customer Name      Segment        Country  \\\n",
              "7244    RL-19615          Rob Lucas     Consumer  United States   \n",
              "829     JE-15745         Joel Eaton     Consumer  United States   \n",
              "3577    FM-14290       Frank Merwin  Home Office  United States   \n",
              "444     PK-19075          Pete Kriz     Consumer  United States   \n",
              "305     KB-16600        Ken Brennan    Corporate  United States   \n",
              "6883    TW-21025  Tamara Willingham  Home Office  United States   \n",
              "710     TH-21550      Tracy Hopkins  Home Office  United States   \n",
              "9290    TT-21220    Thomas Thornton     Consumer  United States   \n",
              "676     CD-11980       Carol Darley     Consumer  United States   \n",
              "2789    MD-17860  Michael Dominguez    Corporate  United States   \n",
              "\n",
              "                City  ... Postal Code   Region       Product ID  \\\n",
              "7244     Los Angeles  ...       90049     West  OFF-AR-10002445   \n",
              "829         Florence  ...       41042    South  FUR-CH-10000665   \n",
              "3577     Bakersfield  ...       93309     West  OFF-PA-10004000   \n",
              "444          Detroit  ...       48227  Central  FUR-CH-10002372   \n",
              "305           Taylor  ...       48180  Central  OFF-AR-10003651   \n",
              "6883         Seattle  ...       98105     West  OFF-PA-10002222   \n",
              "710    New York City  ...       10035     East  OFF-PA-10004071   \n",
              "9290           Dover  ...       19901     East  OFF-AR-10002375   \n",
              "676            Tyler  ...       75701  Central  OFF-AP-10000804   \n",
              "2789  Corpus Christi  ...       78415  Central  FUR-FU-10002759   \n",
              "\n",
              "             Category Sub-Category  \\\n",
              "7244  Office Supplies          Art   \n",
              "829         Furniture       Chairs   \n",
              "3577  Office Supplies        Paper   \n",
              "444         Furniture       Chairs   \n",
              "305   Office Supplies          Art   \n",
              "6883  Office Supplies        Paper   \n",
              "710   Office Supplies        Paper   \n",
              "9290  Office Supplies          Art   \n",
              "676   Office Supplies   Appliances   \n",
              "2789        Furniture  Furnishings   \n",
              "\n",
              "                                           Product Name    Sales  Quantity  \\\n",
              "7244                  SANFORD Major Accent Highlighters   49.560         7   \n",
              "829       Global Airflow Leather Mesh Back Chair, Black  301.960         2   \n",
              "3577  While You Were Out Pads, 50 per Pad, 4 x 5 1/4...    4.730         1   \n",
              "444     Office Star - Ergonomically Designed Knee Chair  242.940         3   \n",
              "305                                          Newell 350    9.840         3   \n",
              "6883          Xerox Color Copier Paper, 11\" x 17\", Ream  114.200         5   \n",
              "710   Eaton Premium Continuous-Feed Paper, 25% Cotto...   55.480         1   \n",
              "9290                                         Newell 351    9.840         3   \n",
              "676                   Hoover Portapower Portable Vacuum    2.688         3   \n",
              "2789                   12-1/2 Diameter Round Wall Clock   39.960         5   \n",
              "\n",
              "      Discount   Profit  \n",
              "7244       0.0  18.8328  \n",
              "829        0.0  90.5880  \n",
              "3577       0.0   2.3177  \n",
              "444        0.0  29.1528  \n",
              "305        0.0   2.8536  \n",
              "6883       0.0  52.5320  \n",
              "710        0.0  26.6304  \n",
              "9290       0.0   2.8536  \n",
              "676        0.8  -7.3920  \n",
              "2789       0.6 -23.9760  \n",
              "\n",
              "[10 rows x 21 columns]"
            ]
          },
          "execution_count": 5,
          "metadata": {},
          "output_type": "execute_result"
        }
      ],
      "source": [
        "# Data Local\n",
        "df = pd.read_csv(\"/Users/franciscoletelier/Dropbox (Personal)/UDP/UDP_BA/data_store.csv\",sep=\",\",encoding=\"latin-1\")\n",
        "df.sample(10)\n",
        "\n",
        "\n",
        "\n",
        "# Data desde Github\n",
        "# df = pd.read_csv(\"data_store.csv\",sep=\",\",encoding=\"latin-1\")\n",
        "# df.sample(10)\n"
      ]
    },
    {
      "cell_type": "markdown",
      "metadata": {
        "id": "98qjC_KTsTqi"
      },
      "source": [
        "# Prepocesamiento de la data\n",
        "## Variable Objetivo: Profit"
      ]
    },
    {
      "cell_type": "markdown",
      "metadata": {},
      "source": [
        "### Eliminación de columnas innecesarías"
      ]
    },
    {
      "cell_type": "code",
      "execution_count": 6,
      "metadata": {
        "colab": {
          "base_uri": "https://localhost:8080/",
          "height": 293
        },
        "id": "IMOgGLPBgQOX",
        "outputId": "048f735b-1c13-4e37-8fb2-e5a6a6ce9e0f"
      },
      "outputs": [
        {
          "data": {
            "text/html": [
              "<div>\n",
              "<style scoped>\n",
              "    .dataframe tbody tr th:only-of-type {\n",
              "        vertical-align: middle;\n",
              "    }\n",
              "\n",
              "    .dataframe tbody tr th {\n",
              "        vertical-align: top;\n",
              "    }\n",
              "\n",
              "    .dataframe thead th {\n",
              "        text-align: right;\n",
              "    }\n",
              "</style>\n",
              "<table border=\"1\" class=\"dataframe\">\n",
              "  <thead>\n",
              "    <tr style=\"text-align: right;\">\n",
              "      <th></th>\n",
              "      <th>Row ID</th>\n",
              "      <th>Order Date</th>\n",
              "      <th>Ship Date</th>\n",
              "      <th>Ship Mode</th>\n",
              "      <th>Segment</th>\n",
              "      <th>City</th>\n",
              "      <th>State</th>\n",
              "      <th>Region</th>\n",
              "      <th>Category</th>\n",
              "      <th>Sub-Category</th>\n",
              "      <th>Product Name</th>\n",
              "      <th>Sales</th>\n",
              "      <th>Quantity</th>\n",
              "      <th>Discount</th>\n",
              "      <th>Profit</th>\n",
              "    </tr>\n",
              "  </thead>\n",
              "  <tbody>\n",
              "    <tr>\n",
              "      <th>0</th>\n",
              "      <td>1</td>\n",
              "      <td>11/8/2016</td>\n",
              "      <td>11/11/2016</td>\n",
              "      <td>Second Class</td>\n",
              "      <td>Consumer</td>\n",
              "      <td>Henderson</td>\n",
              "      <td>Kentucky</td>\n",
              "      <td>South</td>\n",
              "      <td>Furniture</td>\n",
              "      <td>Bookcases</td>\n",
              "      <td>Bush Somerset Collection Bookcase</td>\n",
              "      <td>261.9600</td>\n",
              "      <td>2</td>\n",
              "      <td>0.00</td>\n",
              "      <td>41.9136</td>\n",
              "    </tr>\n",
              "    <tr>\n",
              "      <th>1</th>\n",
              "      <td>2</td>\n",
              "      <td>11/8/2016</td>\n",
              "      <td>11/11/2016</td>\n",
              "      <td>Second Class</td>\n",
              "      <td>Consumer</td>\n",
              "      <td>Henderson</td>\n",
              "      <td>Kentucky</td>\n",
              "      <td>South</td>\n",
              "      <td>Furniture</td>\n",
              "      <td>Chairs</td>\n",
              "      <td>Hon Deluxe Fabric Upholstered Stacking Chairs,...</td>\n",
              "      <td>731.9400</td>\n",
              "      <td>3</td>\n",
              "      <td>0.00</td>\n",
              "      <td>219.5820</td>\n",
              "    </tr>\n",
              "    <tr>\n",
              "      <th>2</th>\n",
              "      <td>3</td>\n",
              "      <td>6/12/2016</td>\n",
              "      <td>6/16/2016</td>\n",
              "      <td>Second Class</td>\n",
              "      <td>Corporate</td>\n",
              "      <td>Los Angeles</td>\n",
              "      <td>California</td>\n",
              "      <td>West</td>\n",
              "      <td>Office Supplies</td>\n",
              "      <td>Labels</td>\n",
              "      <td>Self-Adhesive Address Labels for Typewriters b...</td>\n",
              "      <td>14.6200</td>\n",
              "      <td>2</td>\n",
              "      <td>0.00</td>\n",
              "      <td>6.8714</td>\n",
              "    </tr>\n",
              "    <tr>\n",
              "      <th>3</th>\n",
              "      <td>4</td>\n",
              "      <td>10/11/2015</td>\n",
              "      <td>10/18/2015</td>\n",
              "      <td>Standard Class</td>\n",
              "      <td>Consumer</td>\n",
              "      <td>Fort Lauderdale</td>\n",
              "      <td>Florida</td>\n",
              "      <td>South</td>\n",
              "      <td>Furniture</td>\n",
              "      <td>Tables</td>\n",
              "      <td>Bretford CR4500 Series Slim Rectangular Table</td>\n",
              "      <td>957.5775</td>\n",
              "      <td>5</td>\n",
              "      <td>0.45</td>\n",
              "      <td>-383.0310</td>\n",
              "    </tr>\n",
              "    <tr>\n",
              "      <th>4</th>\n",
              "      <td>5</td>\n",
              "      <td>10/11/2015</td>\n",
              "      <td>10/18/2015</td>\n",
              "      <td>Standard Class</td>\n",
              "      <td>Consumer</td>\n",
              "      <td>Fort Lauderdale</td>\n",
              "      <td>Florida</td>\n",
              "      <td>South</td>\n",
              "      <td>Office Supplies</td>\n",
              "      <td>Storage</td>\n",
              "      <td>Eldon Fold 'N Roll Cart System</td>\n",
              "      <td>22.3680</td>\n",
              "      <td>2</td>\n",
              "      <td>0.20</td>\n",
              "      <td>2.5164</td>\n",
              "    </tr>\n",
              "  </tbody>\n",
              "</table>\n",
              "</div>"
            ],
            "text/plain": [
              "   Row ID  Order Date   Ship Date       Ship Mode    Segment             City  \\\n",
              "0       1   11/8/2016  11/11/2016    Second Class   Consumer        Henderson   \n",
              "1       2   11/8/2016  11/11/2016    Second Class   Consumer        Henderson   \n",
              "2       3   6/12/2016   6/16/2016    Second Class  Corporate      Los Angeles   \n",
              "3       4  10/11/2015  10/18/2015  Standard Class   Consumer  Fort Lauderdale   \n",
              "4       5  10/11/2015  10/18/2015  Standard Class   Consumer  Fort Lauderdale   \n",
              "\n",
              "        State Region         Category Sub-Category  \\\n",
              "0    Kentucky  South        Furniture    Bookcases   \n",
              "1    Kentucky  South        Furniture       Chairs   \n",
              "2  California   West  Office Supplies       Labels   \n",
              "3     Florida  South        Furniture       Tables   \n",
              "4     Florida  South  Office Supplies      Storage   \n",
              "\n",
              "                                        Product Name     Sales  Quantity  \\\n",
              "0                  Bush Somerset Collection Bookcase  261.9600         2   \n",
              "1  Hon Deluxe Fabric Upholstered Stacking Chairs,...  731.9400         3   \n",
              "2  Self-Adhesive Address Labels for Typewriters b...   14.6200         2   \n",
              "3      Bretford CR4500 Series Slim Rectangular Table  957.5775         5   \n",
              "4                     Eldon Fold 'N Roll Cart System   22.3680         2   \n",
              "\n",
              "   Discount    Profit  \n",
              "0      0.00   41.9136  \n",
              "1      0.00  219.5820  \n",
              "2      0.00    6.8714  \n",
              "3      0.45 -383.0310  \n",
              "4      0.20    2.5164  "
            ]
          },
          "execution_count": 6,
          "metadata": {},
          "output_type": "execute_result"
        }
      ],
      "source": [
        "# Se eliminan las columnas que no se usarán (drop)\n",
        "df = df.drop(['Customer ID','Customer Name', 'Order ID', 'Country', 'Postal Code', 'Product ID'],axis=1)\n",
        "df.head(5)"
      ]
    },
    {
      "cell_type": "code",
      "execution_count": 7,
      "metadata": {
        "colab": {
          "base_uri": "https://localhost:8080/",
          "height": 768
        },
        "id": "wWqVBimagQJK",
        "outputId": "4e67c107-d073-4376-dc05-6f28ea8403d9"
      },
      "outputs": [
        {
          "data": {
            "text/plain": [
              "<AxesSubplot: >"
            ]
          },
          "execution_count": 7,
          "metadata": {},
          "output_type": "execute_result"
        },
        {
          "data": {
            "image/png": "[encoded data removed]",
            "text/plain": [
              "<Figure size 1800x720 with 2 Axes>"
            ]
          },
          "metadata": {},
          "output_type": "display_data"
        }
      ],
      "source": [
        "msno.matrix(df)"
      ]
    },
    {
      "cell_type": "code",
      "execution_count": 8,
      "metadata": {
        "colab": {
          "base_uri": "https://localhost:8080/"
        },
        "id": "aazzTU98uEI9",
        "outputId": "f2f740da-af4a-40ad-fe49-da6a8871d51a"
      },
      "outputs": [
        {
          "name": "stdout",
          "output_type": "stream",
          "text": [
            "Row ID          0\n",
            "Order Date      0\n",
            "Ship Date       0\n",
            "Ship Mode       0\n",
            "Segment         0\n",
            "City            0\n",
            "State           0\n",
            "Region          0\n",
            "Category        0\n",
            "Sub-Category    0\n",
            "Product Name    0\n",
            "Sales           0\n",
            "Quantity        0\n",
            "Discount        0\n",
            "Profit          0\n",
            "dtype: int64\n"
          ]
        }
      ],
      "source": [
        "print(df.isnull().sum())"
      ]
    },
    {
      "cell_type": "code",
      "execution_count": 9,
      "metadata": {
        "colab": {
          "base_uri": "https://localhost:8080/"
        },
        "id": "alPxw9lKuRKP",
        "outputId": "7791e267-1701-4722-e09f-e7ab05af46a2"
      },
      "outputs": [
        {
          "name": "stdout",
          "output_type": "stream",
          "text": [
            "Row ID          0\n",
            "Order Date      0\n",
            "Ship Date       0\n",
            "Ship Mode       0\n",
            "Segment         0\n",
            "City            0\n",
            "State           0\n",
            "Region          0\n",
            "Category        0\n",
            "Sub-Category    0\n",
            "Product Name    0\n",
            "Sales           0\n",
            "Quantity        0\n",
            "Discount        0\n",
            "Profit          0\n",
            "dtype: int64\n"
          ]
        }
      ],
      "source": [
        "print(df.isna().sum())"
      ]
    },
    {
      "cell_type": "code",
      "execution_count": 10,
      "metadata": {
        "colab": {
          "base_uri": "https://localhost:8080/"
        },
        "id": "eXLQDQrNuV-o",
        "outputId": "d4c5404a-c11e-4d73-95f5-bb457920f961"
      },
      "outputs": [
        {
          "data": {
            "text/plain": [
              "(9994, 15)"
            ]
          },
          "execution_count": 10,
          "metadata": {},
          "output_type": "execute_result"
        }
      ],
      "source": [
        "df.shape"
      ]
    },
    {
      "cell_type": "code",
      "execution_count": 11,
      "metadata": {
        "colab": {
          "base_uri": "https://localhost:8080/"
        },
        "id": "tnZlZ96YvoNL",
        "outputId": "07642532-07f0-4811-9287-7697302d95df"
      },
      "outputs": [
        {
          "data": {
            "text/plain": [
              "Index(['Row ID', 'Order Date', 'Ship Date', 'Ship Mode', 'Segment', 'City',\n",
              "       'State', 'Region', 'Category', 'Sub-Category', 'Product Name', 'Sales',\n",
              "       'Quantity', 'Discount', 'Profit'],\n",
              "      dtype='object')"
            ]
          },
          "execution_count": 11,
          "metadata": {},
          "output_type": "execute_result"
        }
      ],
      "source": [
        "df.columns"
      ]
    },
    {
      "cell_type": "markdown",
      "metadata": {},
      "source": [
        "### Renombrado de columnas"
      ]
    },
    {
      "cell_type": "code",
      "execution_count": 12,
      "metadata": {
        "colab": {
          "base_uri": "https://localhost:8080/",
          "height": 275
        },
        "id": "JcqqEz4cgQGU",
        "outputId": "87cc8222-0d6d-4033-a966-b0b53ab3609c"
      },
      "outputs": [
        {
          "data": {
            "text/html": [
              "<div>\n",
              "<style scoped>\n",
              "    .dataframe tbody tr th:only-of-type {\n",
              "        vertical-align: middle;\n",
              "    }\n",
              "\n",
              "    .dataframe tbody tr th {\n",
              "        vertical-align: top;\n",
              "    }\n",
              "\n",
              "    .dataframe thead th {\n",
              "        text-align: right;\n",
              "    }\n",
              "</style>\n",
              "<table border=\"1\" class=\"dataframe\">\n",
              "  <thead>\n",
              "    <tr style=\"text-align: right;\">\n",
              "      <th></th>\n",
              "      <th>row_id</th>\n",
              "      <th>order_date</th>\n",
              "      <th>ship_date</th>\n",
              "      <th>ship_mode</th>\n",
              "      <th>segment</th>\n",
              "      <th>city</th>\n",
              "      <th>state</th>\n",
              "      <th>region</th>\n",
              "      <th>category</th>\n",
              "      <th>subcategory</th>\n",
              "      <th>product_name</th>\n",
              "      <th>sales</th>\n",
              "      <th>quantity</th>\n",
              "      <th>discount</th>\n",
              "      <th>profit</th>\n",
              "    </tr>\n",
              "  </thead>\n",
              "  <tbody>\n",
              "    <tr>\n",
              "      <th>7992</th>\n",
              "      <td>7993</td>\n",
              "      <td>6/14/2016</td>\n",
              "      <td>6/17/2016</td>\n",
              "      <td>First Class</td>\n",
              "      <td>Consumer</td>\n",
              "      <td>Boca Raton</td>\n",
              "      <td>Florida</td>\n",
              "      <td>South</td>\n",
              "      <td>Technology</td>\n",
              "      <td>Accessories</td>\n",
              "      <td>Verbatim Slim CD and DVD Storage Cases, 50/Pack</td>\n",
              "      <td>18.464</td>\n",
              "      <td>2</td>\n",
              "      <td>0.20</td>\n",
              "      <td>2.3080</td>\n",
              "    </tr>\n",
              "    <tr>\n",
              "      <th>7186</th>\n",
              "      <td>7187</td>\n",
              "      <td>8/17/2017</td>\n",
              "      <td>8/24/2017</td>\n",
              "      <td>Standard Class</td>\n",
              "      <td>Home Office</td>\n",
              "      <td>Houston</td>\n",
              "      <td>Texas</td>\n",
              "      <td>Central</td>\n",
              "      <td>Furniture</td>\n",
              "      <td>Chairs</td>\n",
              "      <td>SAFCO Optional Arm Kit for Workspace Cribbage ...</td>\n",
              "      <td>74.592</td>\n",
              "      <td>4</td>\n",
              "      <td>0.30</td>\n",
              "      <td>-2.1312</td>\n",
              "    </tr>\n",
              "    <tr>\n",
              "      <th>1285</th>\n",
              "      <td>1286</td>\n",
              "      <td>6/26/2016</td>\n",
              "      <td>7/3/2016</td>\n",
              "      <td>Standard Class</td>\n",
              "      <td>Consumer</td>\n",
              "      <td>Providence</td>\n",
              "      <td>Rhode Island</td>\n",
              "      <td>East</td>\n",
              "      <td>Office Supplies</td>\n",
              "      <td>Storage</td>\n",
              "      <td>Woodgrain Magazine Files by Perma</td>\n",
              "      <td>14.900</td>\n",
              "      <td>5</td>\n",
              "      <td>0.00</td>\n",
              "      <td>1.0430</td>\n",
              "    </tr>\n",
              "    <tr>\n",
              "      <th>3351</th>\n",
              "      <td>3352</td>\n",
              "      <td>9/23/2014</td>\n",
              "      <td>9/28/2014</td>\n",
              "      <td>Standard Class</td>\n",
              "      <td>Corporate</td>\n",
              "      <td>San Diego</td>\n",
              "      <td>California</td>\n",
              "      <td>West</td>\n",
              "      <td>Furniture</td>\n",
              "      <td>Bookcases</td>\n",
              "      <td>Rush Hierlooms Collection 1\" Thick Stackable B...</td>\n",
              "      <td>435.999</td>\n",
              "      <td>3</td>\n",
              "      <td>0.15</td>\n",
              "      <td>20.5176</td>\n",
              "    </tr>\n",
              "    <tr>\n",
              "      <th>93</th>\n",
              "      <td>94</td>\n",
              "      <td>1/31/2015</td>\n",
              "      <td>2/5/2015</td>\n",
              "      <td>Second Class</td>\n",
              "      <td>Consumer</td>\n",
              "      <td>Minneapolis</td>\n",
              "      <td>Minnesota</td>\n",
              "      <td>Central</td>\n",
              "      <td>Furniture</td>\n",
              "      <td>Furnishings</td>\n",
              "      <td>Seth Thomas 13 1/2\" Wall Clock</td>\n",
              "      <td>53.340</td>\n",
              "      <td>3</td>\n",
              "      <td>0.00</td>\n",
              "      <td>16.5354</td>\n",
              "    </tr>\n",
              "    <tr>\n",
              "      <th>6183</th>\n",
              "      <td>6184</td>\n",
              "      <td>9/21/2015</td>\n",
              "      <td>9/26/2015</td>\n",
              "      <td>Standard Class</td>\n",
              "      <td>Consumer</td>\n",
              "      <td>Columbia</td>\n",
              "      <td>South Carolina</td>\n",
              "      <td>South</td>\n",
              "      <td>Office Supplies</td>\n",
              "      <td>Storage</td>\n",
              "      <td>Stur-D-Stor Shelving, Vertical 5-Shelf: 72\"H x...</td>\n",
              "      <td>887.840</td>\n",
              "      <td>8</td>\n",
              "      <td>0.00</td>\n",
              "      <td>17.7568</td>\n",
              "    </tr>\n",
              "    <tr>\n",
              "      <th>6063</th>\n",
              "      <td>6064</td>\n",
              "      <td>12/25/2015</td>\n",
              "      <td>12/30/2015</td>\n",
              "      <td>Second Class</td>\n",
              "      <td>Consumer</td>\n",
              "      <td>San Diego</td>\n",
              "      <td>California</td>\n",
              "      <td>West</td>\n",
              "      <td>Office Supplies</td>\n",
              "      <td>Paper</td>\n",
              "      <td>Important Message Pads, 50 4-1/4 x 5-1/2 Forms...</td>\n",
              "      <td>12.600</td>\n",
              "      <td>3</td>\n",
              "      <td>0.00</td>\n",
              "      <td>6.1740</td>\n",
              "    </tr>\n",
              "    <tr>\n",
              "      <th>4498</th>\n",
              "      <td>4499</td>\n",
              "      <td>11/21/2014</td>\n",
              "      <td>11/26/2014</td>\n",
              "      <td>Standard Class</td>\n",
              "      <td>Corporate</td>\n",
              "      <td>San Francisco</td>\n",
              "      <td>California</td>\n",
              "      <td>West</td>\n",
              "      <td>Office Supplies</td>\n",
              "      <td>Paper</td>\n",
              "      <td>Xerox 211</td>\n",
              "      <td>12.960</td>\n",
              "      <td>2</td>\n",
              "      <td>0.00</td>\n",
              "      <td>6.2208</td>\n",
              "    </tr>\n",
              "    <tr>\n",
              "      <th>9457</th>\n",
              "      <td>9458</td>\n",
              "      <td>5/27/2017</td>\n",
              "      <td>6/3/2017</td>\n",
              "      <td>Standard Class</td>\n",
              "      <td>Corporate</td>\n",
              "      <td>Greensboro</td>\n",
              "      <td>North Carolina</td>\n",
              "      <td>South</td>\n",
              "      <td>Office Supplies</td>\n",
              "      <td>Binders</td>\n",
              "      <td>Fellowes Twister Kit, Gray/Clear, 3/pkg</td>\n",
              "      <td>12.060</td>\n",
              "      <td>5</td>\n",
              "      <td>0.70</td>\n",
              "      <td>-10.0500</td>\n",
              "    </tr>\n",
              "    <tr>\n",
              "      <th>3330</th>\n",
              "      <td>3331</td>\n",
              "      <td>11/11/2014</td>\n",
              "      <td>11/15/2014</td>\n",
              "      <td>Standard Class</td>\n",
              "      <td>Consumer</td>\n",
              "      <td>Houston</td>\n",
              "      <td>Texas</td>\n",
              "      <td>Central</td>\n",
              "      <td>Technology</td>\n",
              "      <td>Phones</td>\n",
              "      <td>Classic Ivory Antique Telephone ZL1810</td>\n",
              "      <td>241.176</td>\n",
              "      <td>3</td>\n",
              "      <td>0.20</td>\n",
              "      <td>15.0735</td>\n",
              "    </tr>\n",
              "  </tbody>\n",
              "</table>\n",
              "</div>"
            ],
            "text/plain": [
              "      row_id  order_date   ship_date       ship_mode      segment  \\\n",
              "7992    7993   6/14/2016   6/17/2016     First Class     Consumer   \n",
              "7186    7187   8/17/2017   8/24/2017  Standard Class  Home Office   \n",
              "1285    1286   6/26/2016    7/3/2016  Standard Class     Consumer   \n",
              "3351    3352   9/23/2014   9/28/2014  Standard Class    Corporate   \n",
              "93        94   1/31/2015    2/5/2015    Second Class     Consumer   \n",
              "6183    6184   9/21/2015   9/26/2015  Standard Class     Consumer   \n",
              "6063    6064  12/25/2015  12/30/2015    Second Class     Consumer   \n",
              "4498    4499  11/21/2014  11/26/2014  Standard Class    Corporate   \n",
              "9457    9458   5/27/2017    6/3/2017  Standard Class    Corporate   \n",
              "3330    3331  11/11/2014  11/15/2014  Standard Class     Consumer   \n",
              "\n",
              "               city           state   region         category  subcategory  \\\n",
              "7992     Boca Raton         Florida    South       Technology  Accessories   \n",
              "7186        Houston           Texas  Central        Furniture       Chairs   \n",
              "1285     Providence    Rhode Island     East  Office Supplies      Storage   \n",
              "3351      San Diego      California     West        Furniture    Bookcases   \n",
              "93      Minneapolis       Minnesota  Central        Furniture  Furnishings   \n",
              "6183       Columbia  South Carolina    South  Office Supplies      Storage   \n",
              "6063      San Diego      California     West  Office Supplies        Paper   \n",
              "4498  San Francisco      California     West  Office Supplies        Paper   \n",
              "9457     Greensboro  North Carolina    South  Office Supplies      Binders   \n",
              "3330        Houston           Texas  Central       Technology       Phones   \n",
              "\n",
              "                                           product_name    sales  quantity  \\\n",
              "7992    Verbatim Slim CD and DVD Storage Cases, 50/Pack   18.464         2   \n",
              "7186  SAFCO Optional Arm Kit for Workspace Cribbage ...   74.592         4   \n",
              "1285                  Woodgrain Magazine Files by Perma   14.900         5   \n",
              "3351  Rush Hierlooms Collection 1\" Thick Stackable B...  435.999         3   \n",
              "93                       Seth Thomas 13 1/2\" Wall Clock   53.340         3   \n",
              "6183  Stur-D-Stor Shelving, Vertical 5-Shelf: 72\"H x...  887.840         8   \n",
              "6063  Important Message Pads, 50 4-1/4 x 5-1/2 Forms...   12.600         3   \n",
              "4498                                          Xerox 211   12.960         2   \n",
              "9457            Fellowes Twister Kit, Gray/Clear, 3/pkg   12.060         5   \n",
              "3330             Classic Ivory Antique Telephone ZL1810  241.176         3   \n",
              "\n",
              "      discount   profit  \n",
              "7992      0.20   2.3080  \n",
              "7186      0.30  -2.1312  \n",
              "1285      0.00   1.0430  \n",
              "3351      0.15  20.5176  \n",
              "93        0.00  16.5354  \n",
              "6183      0.00  17.7568  \n",
              "6063      0.00   6.1740  \n",
              "4498      0.00   6.2208  \n",
              "9457      0.70 -10.0500  \n",
              "3330      0.20  15.0735  "
            ]
          },
          "execution_count": 12,
          "metadata": {},
          "output_type": "execute_result"
        }
      ],
      "source": [
        "# Renombrar columnas para facilitar el tratamiento\n",
        "df.rename({'Row ID' : 'row_id',\n",
        "           'Order Date' : 'order_date',\n",
        "           'Ship Date' : 'ship_date',\n",
        "           'Ship Mode' : 'ship_mode',\n",
        "           'Segment' : 'segment',\n",
        "           'City' : 'city',\n",
        "           'State' : 'state',\n",
        "           'Postal Code' : 'postal_code',\n",
        "           'Region' : 'region',\n",
        "           'Product ID' : 'product_id',\n",
        "           'Category' : 'category',\n",
        "           'Sub-Category' : 'subcategory',\n",
        "           'Product Name' : 'product_name',\n",
        "           'Sales' : 'sales',\n",
        "           'Quantity' : 'quantity',\n",
        "           'Discount' : 'discount',\n",
        "           'Profit' : 'profit'\n",
        "           },  axis=\"columns\", inplace=True)\n",
        "df.columns\n",
        "\n",
        "df.sample(10)"
      ]
    },
    {
      "cell_type": "code",
      "execution_count": 13,
      "metadata": {},
      "outputs": [
        {
          "data": {
            "text/plain": [
              "Standard Class    5968\n",
              "Second Class      1945\n",
              "First Class       1538\n",
              "Same Day           543\n",
              "Name: ship_mode, dtype: int64"
            ]
          },
          "execution_count": 13,
          "metadata": {},
          "output_type": "execute_result"
        }
      ],
      "source": [
        "df.ship_mode.value_counts()"
      ]
    },
    {
      "cell_type": "code",
      "execution_count": 14,
      "metadata": {
        "id": "RZ-u2leZwVby"
      },
      "outputs": [
        {
          "data": {
            "text/plain": [
              "(9994, 15)"
            ]
          },
          "execution_count": 14,
          "metadata": {},
          "output_type": "execute_result"
        }
      ],
      "source": [
        "# Se eliminan los duplicados si es que existen\n",
        "df = df.drop_duplicates()\n",
        "df.shape"
      ]
    },
    {
      "cell_type": "code",
      "execution_count": 15,
      "metadata": {
        "id": "br-Eojxczczw"
      },
      "outputs": [],
      "source": [
        "# Se cambia de tipo de dato int a string para evitar incurrir en errores de análisis cuantitativos\n",
        "df['row_id'] = df['row_id'].astype(str)"
      ]
    },
    {
      "cell_type": "code",
      "execution_count": 16,
      "metadata": {
        "colab": {
          "base_uri": "https://localhost:8080/"
        },
        "id": "HjOJPaSVGta5",
        "outputId": "c8c5776c-e3c2-4ca3-c216-50ec515f5929"
      },
      "outputs": [
        {
          "name": "stdout",
          "output_type": "stream",
          "text": [
            "<class 'pandas.core.frame.DataFrame'>\n",
            "Int64Index: 9994 entries, 0 to 9993\n",
            "Data columns (total 15 columns):\n",
            " #   Column        Non-Null Count  Dtype  \n",
            "---  ------        --------------  -----  \n",
            " 0   row_id        9994 non-null   object \n",
            " 1   order_date    9994 non-null   object \n",
            " 2   ship_date     9994 non-null   object \n",
            " 3   ship_mode     9994 non-null   object \n",
            " 4   segment       9994 non-null   object \n",
            " 5   city          9994 non-null   object \n",
            " 6   state         9994 non-null   object \n",
            " 7   region        9994 non-null   object \n",
            " 8   category      9994 non-null   object \n",
            " 9   subcategory   9994 non-null   object \n",
            " 10  product_name  9994 non-null   object \n",
            " 11  sales         9994 non-null   float64\n",
            " 12  quantity      9994 non-null   int64  \n",
            " 13  discount      9994 non-null   float64\n",
            " 14  profit        9994 non-null   float64\n",
            "dtypes: float64(3), int64(1), object(11)\n",
            "memory usage: 1.2+ MB\n"
          ]
        }
      ],
      "source": [
        "# Cuantos datos hay por cada columna?\n",
        "#df.count()\n",
        "df.info()"
      ]
    },
    {
      "cell_type": "code",
      "execution_count": 17,
      "metadata": {
        "colab": {
          "base_uri": "https://localhost:8080/",
          "height": 300
        },
        "id": "NpWTJ9Cry4iB",
        "outputId": "9ab9aece-3941-44ec-a919-c38836e98238"
      },
      "outputs": [
        {
          "data": {
            "text/html": [
              "<div>\n",
              "<style scoped>\n",
              "    .dataframe tbody tr th:only-of-type {\n",
              "        vertical-align: middle;\n",
              "    }\n",
              "\n",
              "    .dataframe tbody tr th {\n",
              "        vertical-align: top;\n",
              "    }\n",
              "\n",
              "    .dataframe thead th {\n",
              "        text-align: right;\n",
              "    }\n",
              "</style>\n",
              "<table border=\"1\" class=\"dataframe\">\n",
              "  <thead>\n",
              "    <tr style=\"text-align: right;\">\n",
              "      <th></th>\n",
              "      <th>sales</th>\n",
              "      <th>quantity</th>\n",
              "      <th>discount</th>\n",
              "      <th>profit</th>\n",
              "    </tr>\n",
              "  </thead>\n",
              "  <tbody>\n",
              "    <tr>\n",
              "      <th>count</th>\n",
              "      <td>9994.000000</td>\n",
              "      <td>9994.000000</td>\n",
              "      <td>9994.000000</td>\n",
              "      <td>9994.000000</td>\n",
              "    </tr>\n",
              "    <tr>\n",
              "      <th>mean</th>\n",
              "      <td>229.858001</td>\n",
              "      <td>3.789574</td>\n",
              "      <td>0.156203</td>\n",
              "      <td>28.656896</td>\n",
              "    </tr>\n",
              "    <tr>\n",
              "      <th>std</th>\n",
              "      <td>623.245101</td>\n",
              "      <td>2.225110</td>\n",
              "      <td>0.206452</td>\n",
              "      <td>234.260108</td>\n",
              "    </tr>\n",
              "    <tr>\n",
              "      <th>min</th>\n",
              "      <td>0.444000</td>\n",
              "      <td>1.000000</td>\n",
              "      <td>0.000000</td>\n",
              "      <td>-6599.978000</td>\n",
              "    </tr>\n",
              "    <tr>\n",
              "      <th>25%</th>\n",
              "      <td>17.280000</td>\n",
              "      <td>2.000000</td>\n",
              "      <td>0.000000</td>\n",
              "      <td>1.728750</td>\n",
              "    </tr>\n",
              "    <tr>\n",
              "      <th>50%</th>\n",
              "      <td>54.490000</td>\n",
              "      <td>3.000000</td>\n",
              "      <td>0.200000</td>\n",
              "      <td>8.666500</td>\n",
              "    </tr>\n",
              "    <tr>\n",
              "      <th>75%</th>\n",
              "      <td>209.940000</td>\n",
              "      <td>5.000000</td>\n",
              "      <td>0.200000</td>\n",
              "      <td>29.364000</td>\n",
              "    </tr>\n",
              "    <tr>\n",
              "      <th>max</th>\n",
              "      <td>22638.480000</td>\n",
              "      <td>14.000000</td>\n",
              "      <td>0.800000</td>\n",
              "      <td>8399.976000</td>\n",
              "    </tr>\n",
              "  </tbody>\n",
              "</table>\n",
              "</div>"
            ],
            "text/plain": [
              "              sales     quantity     discount       profit\n",
              "count   9994.000000  9994.000000  9994.000000  9994.000000\n",
              "mean     229.858001     3.789574     0.156203    28.656896\n",
              "std      623.245101     2.225110     0.206452   234.260108\n",
              "min        0.444000     1.000000     0.000000 -6599.978000\n",
              "25%       17.280000     2.000000     0.000000     1.728750\n",
              "50%       54.490000     3.000000     0.200000     8.666500\n",
              "75%      209.940000     5.000000     0.200000    29.364000\n",
              "max    22638.480000    14.000000     0.800000  8399.976000"
            ]
          },
          "execution_count": 17,
          "metadata": {},
          "output_type": "execute_result"
        }
      ],
      "source": [
        "df.describe()"
      ]
    },
    {
      "cell_type": "markdown",
      "metadata": {
        "id": "ygjmZlYLHCPU"
      },
      "source": [
        "## Detección de outliers"
      ]
    },
    {
      "cell_type": "code",
      "execution_count": 18,
      "metadata": {
        "colab": {
          "base_uri": "https://localhost:8080/",
          "height": 475
        },
        "id": "MssflLe7GtId",
        "outputId": "d17ad783-47a5-4421-ed1e-8c20f28f3c04"
      },
      "outputs": [
        {
          "data": {
            "text/plain": [
              "<AxesSubplot: xlabel='sales'>"
            ]
          },
          "execution_count": 18,
          "metadata": {},
          "output_type": "execute_result"
        },
        {
          "data": {
            "image/png": "[encoded data removed]",
            "text/plain": [
              "<Figure size 432x288 with 1 Axes>"
            ]
          },
          "metadata": {},
          "output_type": "display_data"
        }
      ],
      "source": [
        "# boxplot Sales\n",
        "sns.boxplot(x=df['sales'])"
      ]
    },
    {
      "cell_type": "code",
      "execution_count": 19,
      "metadata": {
        "colab": {
          "base_uri": "https://localhost:8080/"
        },
        "id": "kPvEuq1eHIRZ",
        "outputId": "3983d799-9979-4e27-8a49-8fb6bcdabdda"
      },
      "outputs": [],
      "source": [
        "# # Se calculas los Cuantiles del df\n",
        "# Q1 = df.quantile(0.25)\n",
        "# Q3 = df.quantile(0.75)\n",
        "# # Que calculamos acá?\n",
        "# IQR = Q3 - Q1\n",
        "# print(IQR)"
      ]
    },
    {
      "cell_type": "code",
      "execution_count": 20,
      "metadata": {
        "colab": {
          "base_uri": "https://localhost:8080/"
        },
        "id": "PSNUgUW4HIO0",
        "outputId": "9d1a7640-62bc-4aac-d7bb-df2af804ec1b"
      },
      "outputs": [],
      "source": [
        "# # Que estamos calculando acá? Si ya calculamos los Q1 y Q3?\n",
        "# df = df[~((df < (Q1 - 1.5 * IQR)) |(df > (Q3 + 1.5 * IQR))).any(axis=1)]\n",
        "# df.shape"
      ]
    },
    {
      "cell_type": "code",
      "execution_count": 21,
      "metadata": {
        "colab": {
          "base_uri": "https://localhost:8080/",
          "height": 475
        },
        "id": "sL78Grmr5Kzn",
        "outputId": "8aba3fad-11c5-4026-f3db-1acd41063439"
      },
      "outputs": [
        {
          "data": {
            "text/plain": [
              "<AxesSubplot: xlabel='sales'>"
            ]
          },
          "execution_count": 21,
          "metadata": {},
          "output_type": "execute_result"
        },
        {
          "data": {
            "image/png": "[encoded data removed]",
            "text/plain": [
              "<Figure size 432x288 with 1 Axes>"
            ]
          },
          "metadata": {},
          "output_type": "display_data"
        }
      ],
      "source": [
        "sns.boxplot(x=df['sales'])"
      ]
    },
    {
      "cell_type": "code",
      "execution_count": 22,
      "metadata": {
        "colab": {
          "base_uri": "https://localhost:8080/",
          "height": 475
        },
        "id": "sh5i3PGR5uRE",
        "outputId": "f4cfbca3-df77-436f-a4e7-29589a86d2c2"
      },
      "outputs": [
        {
          "data": {
            "text/plain": [
              "<AxesSubplot: xlabel='quantity'>"
            ]
          },
          "execution_count": 22,
          "metadata": {},
          "output_type": "execute_result"
        },
        {
          "data": {
            "image/png": "[encoded data removed]",
            "text/plain": [
              "<Figure size 432x288 with 1 Axes>"
            ]
          },
          "metadata": {},
          "output_type": "display_data"
        }
      ],
      "source": [
        "sns.boxplot(x=df['quantity'])"
      ]
    },
    {
      "cell_type": "code",
      "execution_count": 23,
      "metadata": {
        "colab": {
          "base_uri": "https://localhost:8080/",
          "height": 475
        },
        "id": "sjbQKybw51de",
        "outputId": "cfc4e6bd-c032-4a35-f496-cecef1f14d89"
      },
      "outputs": [
        {
          "data": {
            "text/plain": [
              "<AxesSubplot: xlabel='profit'>"
            ]
          },
          "execution_count": 23,
          "metadata": {},
          "output_type": "execute_result"
        },
        {
          "data": {
            "image/png": "[encoded data removed]",
            "text/plain": [
              "<Figure size 432x288 with 1 Axes>"
            ]
          },
          "metadata": {},
          "output_type": "display_data"
        }
      ],
      "source": [
        "sns.boxplot(x=df.profit)"
      ]
    },
    {
      "cell_type": "markdown",
      "metadata": {
        "id": "-OLWb8LvHUvR"
      },
      "source": [
        "### Revisamos algunas distribuciones de variables"
      ]
    },
    {
      "cell_type": "code",
      "execution_count": 24,
      "metadata": {
        "colab": {
          "base_uri": "https://localhost:8080/",
          "height": 534
        },
        "id": "JxuqEVg5HIMb",
        "outputId": "fd7c3d51-349e-4312-c685-717e115cad7a"
      },
      "outputs": [
        {
          "data": {
            "image/png": "[encoded data removed]",
            "text/plain": [
              "<Figure size 720x360 with 1 Axes>"
            ]
          },
          "metadata": {},
          "output_type": "display_data"
        }
      ],
      "source": [
        "df.sales.value_counts().nlargest(20).plot(kind='bar', figsize=(10,5))\n",
        "plt.title(\"Ventas\")\n",
        "plt.ylabel('Fequencia de Ventas')\n",
        "plt.xlabel('Sales');"
      ]
    },
    {
      "cell_type": "code",
      "execution_count": 25,
      "metadata": {
        "colab": {
          "base_uri": "https://localhost:8080/",
          "height": 614
        },
        "id": "Ubc0QzwPHIKE",
        "outputId": "cc692e4a-ce99-414d-b7ea-218f653dcc7b"
      },
      "outputs": [
        {
          "data": {
            "text/html": [
              "<div>\n",
              "<style scoped>\n",
              "    .dataframe tbody tr th:only-of-type {\n",
              "        vertical-align: middle;\n",
              "    }\n",
              "\n",
              "    .dataframe tbody tr th {\n",
              "        vertical-align: top;\n",
              "    }\n",
              "\n",
              "    .dataframe thead th {\n",
              "        text-align: right;\n",
              "    }\n",
              "</style>\n",
              "<table border=\"1\" class=\"dataframe\">\n",
              "  <thead>\n",
              "    <tr style=\"text-align: right;\">\n",
              "      <th></th>\n",
              "      <th>sales</th>\n",
              "      <th>quantity</th>\n",
              "      <th>discount</th>\n",
              "      <th>profit</th>\n",
              "    </tr>\n",
              "  </thead>\n",
              "  <tbody>\n",
              "    <tr>\n",
              "      <th>sales</th>\n",
              "      <td>1.000000</td>\n",
              "      <td>0.200795</td>\n",
              "      <td>-0.028190</td>\n",
              "      <td>0.479064</td>\n",
              "    </tr>\n",
              "    <tr>\n",
              "      <th>quantity</th>\n",
              "      <td>0.200795</td>\n",
              "      <td>1.000000</td>\n",
              "      <td>0.008623</td>\n",
              "      <td>0.066253</td>\n",
              "    </tr>\n",
              "    <tr>\n",
              "      <th>discount</th>\n",
              "      <td>-0.028190</td>\n",
              "      <td>0.008623</td>\n",
              "      <td>1.000000</td>\n",
              "      <td>-0.219487</td>\n",
              "    </tr>\n",
              "    <tr>\n",
              "      <th>profit</th>\n",
              "      <td>0.479064</td>\n",
              "      <td>0.066253</td>\n",
              "      <td>-0.219487</td>\n",
              "      <td>1.000000</td>\n",
              "    </tr>\n",
              "  </tbody>\n",
              "</table>\n",
              "</div>"
            ],
            "text/plain": [
              "             sales  quantity  discount    profit\n",
              "sales     1.000000  0.200795 -0.028190  0.479064\n",
              "quantity  0.200795  1.000000  0.008623  0.066253\n",
              "discount -0.028190  0.008623  1.000000 -0.219487\n",
              "profit    0.479064  0.066253 -0.219487  1.000000"
            ]
          },
          "execution_count": 25,
          "metadata": {},
          "output_type": "execute_result"
        },
        {
          "data": {
            "image/png": "[encoded data removed]",
            "text/plain": [
              "<Figure size 720x360 with 2 Axes>"
            ]
          },
          "metadata": {},
          "output_type": "display_data"
        }
      ],
      "source": [
        "# Coeficiente de correlación\n",
        "plt.figure(figsize=(10,5))\n",
        "c= df.corr()\n",
        "sns.heatmap(c,cmap=\"BrBG\",annot=True)\n",
        "c"
      ]
    },
    {
      "cell_type": "markdown",
      "metadata": {
        "id": "gocxV0is9_XK"
      },
      "source": [
        "# Ingeniería de Atributos (Feature Engineering)\n",
        "## Segmentación de las ventas"
      ]
    },
    {
      "cell_type": "markdown",
      "metadata": {},
      "source": [
        "### Asignación de segmentos\n",
        "1. Vamos a asignar una categoría según el valor de las ventas/profit\n",
        "2. Vamos a crear una nueva columna llamada \"Segmento\"\n",
        "3. A través de un ciclo for y el uso de ifelse vamos a asignar la categoría"
      ]
    },
    {
      "cell_type": "code",
      "execution_count": 26,
      "metadata": {
        "id": "2hJQwzLo7Lm-"
      },
      "outputs": [
        {
          "data": {
            "text/html": [
              "<div>\n",
              "<style scoped>\n",
              "    .dataframe tbody tr th:only-of-type {\n",
              "        vertical-align: middle;\n",
              "    }\n",
              "\n",
              "    .dataframe tbody tr th {\n",
              "        vertical-align: top;\n",
              "    }\n",
              "\n",
              "    .dataframe thead th {\n",
              "        text-align: right;\n",
              "    }\n",
              "</style>\n",
              "<table border=\"1\" class=\"dataframe\">\n",
              "  <thead>\n",
              "    <tr style=\"text-align: right;\">\n",
              "      <th></th>\n",
              "      <th>row_id</th>\n",
              "      <th>order_date</th>\n",
              "      <th>ship_date</th>\n",
              "      <th>ship_mode</th>\n",
              "      <th>segment</th>\n",
              "      <th>city</th>\n",
              "      <th>state</th>\n",
              "      <th>region</th>\n",
              "      <th>category</th>\n",
              "      <th>subcategory</th>\n",
              "      <th>product_name</th>\n",
              "      <th>sales</th>\n",
              "      <th>quantity</th>\n",
              "      <th>discount</th>\n",
              "      <th>profit</th>\n",
              "      <th>segmento</th>\n",
              "    </tr>\n",
              "  </thead>\n",
              "  <tbody>\n",
              "    <tr>\n",
              "      <th>9720</th>\n",
              "      <td>9721</td>\n",
              "      <td>9/22/2016</td>\n",
              "      <td>9/26/2016</td>\n",
              "      <td>Standard Class</td>\n",
              "      <td>Corporate</td>\n",
              "      <td>Green Bay</td>\n",
              "      <td>Wisconsin</td>\n",
              "      <td>Central</td>\n",
              "      <td>Furniture</td>\n",
              "      <td>Furnishings</td>\n",
              "      <td>DAX Two-Tone Rosewood/Black Document Frame, De...</td>\n",
              "      <td>18.960</td>\n",
              "      <td>2</td>\n",
              "      <td>0.0</td>\n",
              "      <td>7.5840</td>\n",
              "      <td>bajo_bajo</td>\n",
              "    </tr>\n",
              "    <tr>\n",
              "      <th>3215</th>\n",
              "      <td>3216</td>\n",
              "      <td>7/8/2017</td>\n",
              "      <td>7/10/2017</td>\n",
              "      <td>First Class</td>\n",
              "      <td>Consumer</td>\n",
              "      <td>San Mateo</td>\n",
              "      <td>California</td>\n",
              "      <td>West</td>\n",
              "      <td>Office Supplies</td>\n",
              "      <td>Labels</td>\n",
              "      <td>Avery 485</td>\n",
              "      <td>75.180</td>\n",
              "      <td>6</td>\n",
              "      <td>0.0</td>\n",
              "      <td>35.3346</td>\n",
              "      <td>bajo_alto</td>\n",
              "    </tr>\n",
              "    <tr>\n",
              "      <th>4676</th>\n",
              "      <td>4677</td>\n",
              "      <td>3/14/2014</td>\n",
              "      <td>3/19/2014</td>\n",
              "      <td>Standard Class</td>\n",
              "      <td>Consumer</td>\n",
              "      <td>Logan</td>\n",
              "      <td>Utah</td>\n",
              "      <td>West</td>\n",
              "      <td>Office Supplies</td>\n",
              "      <td>Binders</td>\n",
              "      <td>GBC Wire Binding Combs</td>\n",
              "      <td>33.088</td>\n",
              "      <td>4</td>\n",
              "      <td>0.2</td>\n",
              "      <td>11.1672</td>\n",
              "      <td>bajo_bajo</td>\n",
              "    </tr>\n",
              "    <tr>\n",
              "      <th>8899</th>\n",
              "      <td>8900</td>\n",
              "      <td>8/7/2015</td>\n",
              "      <td>8/9/2015</td>\n",
              "      <td>Second Class</td>\n",
              "      <td>Corporate</td>\n",
              "      <td>Springfield</td>\n",
              "      <td>Virginia</td>\n",
              "      <td>South</td>\n",
              "      <td>Office Supplies</td>\n",
              "      <td>Labels</td>\n",
              "      <td>Avery 50</td>\n",
              "      <td>25.060</td>\n",
              "      <td>2</td>\n",
              "      <td>0.0</td>\n",
              "      <td>11.7782</td>\n",
              "      <td>bajo_bajo</td>\n",
              "    </tr>\n",
              "    <tr>\n",
              "      <th>9803</th>\n",
              "      <td>9804</td>\n",
              "      <td>7/18/2015</td>\n",
              "      <td>7/20/2015</td>\n",
              "      <td>Second Class</td>\n",
              "      <td>Consumer</td>\n",
              "      <td>New York City</td>\n",
              "      <td>New York</td>\n",
              "      <td>East</td>\n",
              "      <td>Technology</td>\n",
              "      <td>Phones</td>\n",
              "      <td>Plantronics CS 50-USB - headset - Convertible,...</td>\n",
              "      <td>135.990</td>\n",
              "      <td>1</td>\n",
              "      <td>0.0</td>\n",
              "      <td>36.7173</td>\n",
              "      <td>bajo_alto</td>\n",
              "    </tr>\n",
              "    <tr>\n",
              "      <th>1127</th>\n",
              "      <td>1128</td>\n",
              "      <td>3/2/2015</td>\n",
              "      <td>3/7/2015</td>\n",
              "      <td>Standard Class</td>\n",
              "      <td>Home Office</td>\n",
              "      <td>Richmond</td>\n",
              "      <td>Indiana</td>\n",
              "      <td>Central</td>\n",
              "      <td>Office Supplies</td>\n",
              "      <td>Art</td>\n",
              "      <td>50 Colored Long Pencils</td>\n",
              "      <td>10.160</td>\n",
              "      <td>1</td>\n",
              "      <td>0.0</td>\n",
              "      <td>2.6416</td>\n",
              "      <td>bajo_bajo</td>\n",
              "    </tr>\n",
              "    <tr>\n",
              "      <th>5068</th>\n",
              "      <td>5069</td>\n",
              "      <td>8/8/2014</td>\n",
              "      <td>8/12/2014</td>\n",
              "      <td>Standard Class</td>\n",
              "      <td>Home Office</td>\n",
              "      <td>Trenton</td>\n",
              "      <td>Michigan</td>\n",
              "      <td>Central</td>\n",
              "      <td>Technology</td>\n",
              "      <td>Copiers</td>\n",
              "      <td>Sharp 1540cs Digital Laser Copier</td>\n",
              "      <td>549.990</td>\n",
              "      <td>1</td>\n",
              "      <td>0.0</td>\n",
              "      <td>274.9950</td>\n",
              "      <td>alto_alto</td>\n",
              "    </tr>\n",
              "    <tr>\n",
              "      <th>7790</th>\n",
              "      <td>7791</td>\n",
              "      <td>9/19/2017</td>\n",
              "      <td>9/19/2017</td>\n",
              "      <td>Same Day</td>\n",
              "      <td>Home Office</td>\n",
              "      <td>Philadelphia</td>\n",
              "      <td>Pennsylvania</td>\n",
              "      <td>East</td>\n",
              "      <td>Office Supplies</td>\n",
              "      <td>Binders</td>\n",
              "      <td>Acco PRESSTEX Data Binder with Storage Hooks, ...</td>\n",
              "      <td>4.842</td>\n",
              "      <td>3</td>\n",
              "      <td>0.7</td>\n",
              "      <td>-3.3894</td>\n",
              "      <td>bajo_bajo</td>\n",
              "    </tr>\n",
              "    <tr>\n",
              "      <th>9863</th>\n",
              "      <td>9864</td>\n",
              "      <td>1/14/2017</td>\n",
              "      <td>1/20/2017</td>\n",
              "      <td>Standard Class</td>\n",
              "      <td>Home Office</td>\n",
              "      <td>Richmond</td>\n",
              "      <td>Indiana</td>\n",
              "      <td>Central</td>\n",
              "      <td>Office Supplies</td>\n",
              "      <td>Paper</td>\n",
              "      <td>Xerox 188</td>\n",
              "      <td>11.340</td>\n",
              "      <td>1</td>\n",
              "      <td>0.0</td>\n",
              "      <td>5.5566</td>\n",
              "      <td>bajo_bajo</td>\n",
              "    </tr>\n",
              "    <tr>\n",
              "      <th>2851</th>\n",
              "      <td>2852</td>\n",
              "      <td>12/17/2017</td>\n",
              "      <td>12/22/2017</td>\n",
              "      <td>Standard Class</td>\n",
              "      <td>Home Office</td>\n",
              "      <td>Columbus</td>\n",
              "      <td>Indiana</td>\n",
              "      <td>Central</td>\n",
              "      <td>Office Supplies</td>\n",
              "      <td>Paper</td>\n",
              "      <td>Wirebound Message Books, 2 7/8\" x 5\", 3 Forms ...</td>\n",
              "      <td>28.160</td>\n",
              "      <td>4</td>\n",
              "      <td>0.0</td>\n",
              "      <td>13.2352</td>\n",
              "      <td>bajo_bajo</td>\n",
              "    </tr>\n",
              "  </tbody>\n",
              "</table>\n",
              "</div>"
            ],
            "text/plain": [
              "     row_id  order_date   ship_date       ship_mode      segment  \\\n",
              "9720   9721   9/22/2016   9/26/2016  Standard Class    Corporate   \n",
              "3215   3216    7/8/2017   7/10/2017     First Class     Consumer   \n",
              "4676   4677   3/14/2014   3/19/2014  Standard Class     Consumer   \n",
              "8899   8900    8/7/2015    8/9/2015    Second Class    Corporate   \n",
              "9803   9804   7/18/2015   7/20/2015    Second Class     Consumer   \n",
              "1127   1128    3/2/2015    3/7/2015  Standard Class  Home Office   \n",
              "5068   5069    8/8/2014   8/12/2014  Standard Class  Home Office   \n",
              "7790   7791   9/19/2017   9/19/2017        Same Day  Home Office   \n",
              "9863   9864   1/14/2017   1/20/2017  Standard Class  Home Office   \n",
              "2851   2852  12/17/2017  12/22/2017  Standard Class  Home Office   \n",
              "\n",
              "               city         state   region         category  subcategory  \\\n",
              "9720      Green Bay     Wisconsin  Central        Furniture  Furnishings   \n",
              "3215      San Mateo    California     West  Office Supplies       Labels   \n",
              "4676          Logan          Utah     West  Office Supplies      Binders   \n",
              "8899    Springfield      Virginia    South  Office Supplies       Labels   \n",
              "9803  New York City      New York     East       Technology       Phones   \n",
              "1127       Richmond       Indiana  Central  Office Supplies          Art   \n",
              "5068        Trenton      Michigan  Central       Technology      Copiers   \n",
              "7790   Philadelphia  Pennsylvania     East  Office Supplies      Binders   \n",
              "9863       Richmond       Indiana  Central  Office Supplies        Paper   \n",
              "2851       Columbus       Indiana  Central  Office Supplies        Paper   \n",
              "\n",
              "                                           product_name    sales  quantity  \\\n",
              "9720  DAX Two-Tone Rosewood/Black Document Frame, De...   18.960         2   \n",
              "3215                                          Avery 485   75.180         6   \n",
              "4676                             GBC Wire Binding Combs   33.088         4   \n",
              "8899                                           Avery 50   25.060         2   \n",
              "9803  Plantronics CS 50-USB - headset - Convertible,...  135.990         1   \n",
              "1127                            50 Colored Long Pencils   10.160         1   \n",
              "5068                  Sharp 1540cs Digital Laser Copier  549.990         1   \n",
              "7790  Acco PRESSTEX Data Binder with Storage Hooks, ...    4.842         3   \n",
              "9863                                          Xerox 188   11.340         1   \n",
              "2851  Wirebound Message Books, 2 7/8\" x 5\", 3 Forms ...   28.160         4   \n",
              "\n",
              "      discount    profit   segmento  \n",
              "9720       0.0    7.5840  bajo_bajo  \n",
              "3215       0.0   35.3346  bajo_alto  \n",
              "4676       0.2   11.1672  bajo_bajo  \n",
              "8899       0.0   11.7782  bajo_bajo  \n",
              "9803       0.0   36.7173  bajo_alto  \n",
              "1127       0.0    2.6416  bajo_bajo  \n",
              "5068       0.0  274.9950  alto_alto  \n",
              "7790       0.7   -3.3894  bajo_bajo  \n",
              "9863       0.0    5.5566  bajo_bajo  \n",
              "2851       0.0   13.2352  bajo_bajo  "
            ]
          },
          "execution_count": 26,
          "metadata": {},
          "output_type": "execute_result"
        }
      ],
      "source": [
        "# Calcula el promedio de sales y profit\n",
        "prom_sales = df.sales.mean()\n",
        "prom_profit = df.profit.mean()\n",
        "\n",
        "# Crea una lista para almacenar los segmentos\n",
        "segmento = []\n",
        "\n",
        "# Itera a través de las filas del DataFrame\n",
        "for index, row in df.iterrows():\n",
        "    if row['sales'] < prom_sales and row['profit'] < prom_profit:\n",
        "        segmento.append('bajo_bajo')\n",
        "    elif row['sales'] < prom_sales and row['profit'] > prom_profit:\n",
        "        segmento.append('bajo_alto')\n",
        "    elif row['sales'] > prom_sales and row['profit'] < prom_profit:\n",
        "        segmento.append('alto_bajo')\n",
        "    elif row['sales'] > prom_sales and row['profit'] > prom_profit:\n",
        "        segmento.append('alto_alto')\n",
        "    else:\n",
        "        segmento.append('otros')  # Manejo de casos que no cumplen ninguna condición\n",
        "\n",
        "# Agrega la columna 'segmento' al DataFrame\n",
        "df['segmento'] = segmento\n",
        "df.sample(10)"
      ]
    },
    {
      "cell_type": "code",
      "execution_count": 27,
      "metadata": {},
      "outputs": [
        {
          "name": "stderr",
          "output_type": "stream",
          "text": [
            "No artists with labels found to put in legend.  Note that artists whose label start with an underscore are ignored when legend() is called with no argument.\n"
          ]
        },
        {
          "data": {
            "image/png": "[encoded data removed]",
            "text/plain": [
              "<Figure size 576x360 with 1 Axes>"
            ]
          },
          "metadata": {},
          "output_type": "display_data"
        }
      ],
      "source": [
        "# Scatter plot para visualizar datos numéricos\n",
        "fig, ax = plt.subplots(figsize=(8,5))\n",
        "ax.scatter(df['sales'], df['profit'])\n",
        "\n",
        "plt.axvline(x=prom_sales, color='red', linestyle='--', linewidth=1.5)\n",
        "plt.axhline(y=prom_profit, color='red', linestyle='--', linewidth=1.5)\n",
        "\n",
        "plt.title('Distribución de sales y profit')\n",
        "\n",
        "ax.set_xlabel('sales')\n",
        "ax.set_ylabel('profit')\n",
        "\n",
        "plt.legend()\n",
        "plt.tight_layout();\n",
        "plt.show();"
      ]
    },
    {
      "cell_type": "markdown",
      "metadata": {},
      "source": [
        "## Calculamos el profit en porcentaje"
      ]
    },
    {
      "cell_type": "code",
      "execution_count": 89,
      "metadata": {},
      "outputs": [
        {
          "data": {
            "text/plain": [
              "6123    0.325000\n",
              "9116    0.200000\n",
              "2179    0.362500\n",
              "5545    0.260000\n",
              "6228   -0.183333\n",
              "1863   -0.640000\n",
              "9044    0.375000\n",
              "6332    0.330000\n",
              "5193    0.470000\n",
              "3636    0.337500\n",
              "Name: porcentaje_profit, dtype: float64"
            ]
          },
          "execution_count": 89,
          "metadata": {},
          "output_type": "execute_result"
        }
      ],
      "source": [
        "df['porcentaje_profit'] = df['profit']/df['sales']\n",
        "df.porcentaje_profit.sample(10)"
      ]
    },
    {
      "cell_type": "code",
      "execution_count": 90,
      "metadata": {},
      "outputs": [
        {
          "data": {
            "text/html": [
              "<div>\n",
              "<style scoped>\n",
              "    .dataframe tbody tr th:only-of-type {\n",
              "        vertical-align: middle;\n",
              "    }\n",
              "\n",
              "    .dataframe tbody tr th {\n",
              "        vertical-align: top;\n",
              "    }\n",
              "\n",
              "    .dataframe thead th {\n",
              "        text-align: right;\n",
              "    }\n",
              "</style>\n",
              "<table border=\"1\" class=\"dataframe\">\n",
              "  <thead>\n",
              "    <tr style=\"text-align: right;\">\n",
              "      <th></th>\n",
              "      <th>row_id</th>\n",
              "      <th>order_date</th>\n",
              "      <th>ship_date</th>\n",
              "      <th>ship_mode</th>\n",
              "      <th>segment</th>\n",
              "      <th>city</th>\n",
              "      <th>state</th>\n",
              "      <th>region</th>\n",
              "      <th>category</th>\n",
              "      <th>subcategory</th>\n",
              "      <th>product_name</th>\n",
              "      <th>sales</th>\n",
              "      <th>quantity</th>\n",
              "      <th>discount</th>\n",
              "      <th>profit</th>\n",
              "      <th>segmento</th>\n",
              "      <th>porcentaje_profit</th>\n",
              "    </tr>\n",
              "  </thead>\n",
              "  <tbody>\n",
              "    <tr>\n",
              "      <th>0</th>\n",
              "      <td>1</td>\n",
              "      <td>11/8/2016</td>\n",
              "      <td>11/11/2016</td>\n",
              "      <td>Second Class</td>\n",
              "      <td>Consumer</td>\n",
              "      <td>Henderson</td>\n",
              "      <td>Kentucky</td>\n",
              "      <td>South</td>\n",
              "      <td>Furniture</td>\n",
              "      <td>Bookcases</td>\n",
              "      <td>Bush Somerset Collection Bookcase</td>\n",
              "      <td>261.9600</td>\n",
              "      <td>2</td>\n",
              "      <td>0.00</td>\n",
              "      <td>41.9136</td>\n",
              "      <td>alto_alto</td>\n",
              "      <td>0.1600</td>\n",
              "    </tr>\n",
              "    <tr>\n",
              "      <th>1</th>\n",
              "      <td>2</td>\n",
              "      <td>11/8/2016</td>\n",
              "      <td>11/11/2016</td>\n",
              "      <td>Second Class</td>\n",
              "      <td>Consumer</td>\n",
              "      <td>Henderson</td>\n",
              "      <td>Kentucky</td>\n",
              "      <td>South</td>\n",
              "      <td>Furniture</td>\n",
              "      <td>Chairs</td>\n",
              "      <td>Hon Deluxe Fabric Upholstered Stacking Chairs,...</td>\n",
              "      <td>731.9400</td>\n",
              "      <td>3</td>\n",
              "      <td>0.00</td>\n",
              "      <td>219.5820</td>\n",
              "      <td>alto_alto</td>\n",
              "      <td>0.3000</td>\n",
              "    </tr>\n",
              "    <tr>\n",
              "      <th>2</th>\n",
              "      <td>3</td>\n",
              "      <td>6/12/2016</td>\n",
              "      <td>6/16/2016</td>\n",
              "      <td>Second Class</td>\n",
              "      <td>Corporate</td>\n",
              "      <td>Los Angeles</td>\n",
              "      <td>California</td>\n",
              "      <td>West</td>\n",
              "      <td>Office Supplies</td>\n",
              "      <td>Labels</td>\n",
              "      <td>Self-Adhesive Address Labels for Typewriters b...</td>\n",
              "      <td>14.6200</td>\n",
              "      <td>2</td>\n",
              "      <td>0.00</td>\n",
              "      <td>6.8714</td>\n",
              "      <td>bajo_bajo</td>\n",
              "      <td>0.4700</td>\n",
              "    </tr>\n",
              "    <tr>\n",
              "      <th>3</th>\n",
              "      <td>4</td>\n",
              "      <td>10/11/2015</td>\n",
              "      <td>10/18/2015</td>\n",
              "      <td>Standard Class</td>\n",
              "      <td>Consumer</td>\n",
              "      <td>Fort Lauderdale</td>\n",
              "      <td>Florida</td>\n",
              "      <td>South</td>\n",
              "      <td>Furniture</td>\n",
              "      <td>Tables</td>\n",
              "      <td>Bretford CR4500 Series Slim Rectangular Table</td>\n",
              "      <td>957.5775</td>\n",
              "      <td>5</td>\n",
              "      <td>0.45</td>\n",
              "      <td>-383.0310</td>\n",
              "      <td>alto_bajo</td>\n",
              "      <td>-0.4000</td>\n",
              "    </tr>\n",
              "    <tr>\n",
              "      <th>4</th>\n",
              "      <td>5</td>\n",
              "      <td>10/11/2015</td>\n",
              "      <td>10/18/2015</td>\n",
              "      <td>Standard Class</td>\n",
              "      <td>Consumer</td>\n",
              "      <td>Fort Lauderdale</td>\n",
              "      <td>Florida</td>\n",
              "      <td>South</td>\n",
              "      <td>Office Supplies</td>\n",
              "      <td>Storage</td>\n",
              "      <td>Eldon Fold 'N Roll Cart System</td>\n",
              "      <td>22.3680</td>\n",
              "      <td>2</td>\n",
              "      <td>0.20</td>\n",
              "      <td>2.5164</td>\n",
              "      <td>bajo_bajo</td>\n",
              "      <td>0.1125</td>\n",
              "    </tr>\n",
              "  </tbody>\n",
              "</table>\n",
              "</div>"
            ],
            "text/plain": [
              "  row_id  order_date   ship_date       ship_mode    segment             city  \\\n",
              "0      1   11/8/2016  11/11/2016    Second Class   Consumer        Henderson   \n",
              "1      2   11/8/2016  11/11/2016    Second Class   Consumer        Henderson   \n",
              "2      3   6/12/2016   6/16/2016    Second Class  Corporate      Los Angeles   \n",
              "3      4  10/11/2015  10/18/2015  Standard Class   Consumer  Fort Lauderdale   \n",
              "4      5  10/11/2015  10/18/2015  Standard Class   Consumer  Fort Lauderdale   \n",
              "\n",
              "        state region         category subcategory  \\\n",
              "0    Kentucky  South        Furniture   Bookcases   \n",
              "1    Kentucky  South        Furniture      Chairs   \n",
              "2  California   West  Office Supplies      Labels   \n",
              "3     Florida  South        Furniture      Tables   \n",
              "4     Florida  South  Office Supplies     Storage   \n",
              "\n",
              "                                        product_name     sales  quantity  \\\n",
              "0                  Bush Somerset Collection Bookcase  261.9600         2   \n",
              "1  Hon Deluxe Fabric Upholstered Stacking Chairs,...  731.9400         3   \n",
              "2  Self-Adhesive Address Labels for Typewriters b...   14.6200         2   \n",
              "3      Bretford CR4500 Series Slim Rectangular Table  957.5775         5   \n",
              "4                     Eldon Fold 'N Roll Cart System   22.3680         2   \n",
              "\n",
              "   discount    profit   segmento  porcentaje_profit  \n",
              "0      0.00   41.9136  alto_alto             0.1600  \n",
              "1      0.00  219.5820  alto_alto             0.3000  \n",
              "2      0.00    6.8714  bajo_bajo             0.4700  \n",
              "3      0.45 -383.0310  alto_bajo            -0.4000  \n",
              "4      0.20    2.5164  bajo_bajo             0.1125  "
            ]
          },
          "execution_count": 90,
          "metadata": {},
          "output_type": "execute_result"
        }
      ],
      "source": [
        "df.head(5)"
      ]
    },
    {
      "cell_type": "code",
      "execution_count": null,
      "metadata": {},
      "outputs": [],
      "source": []
    },
    {
      "cell_type": "markdown",
      "metadata": {
        "id": "Esl_0fQsIOYC"
      },
      "source": [
        "### Uso de tablas de contingencia"
      ]
    },
    {
      "cell_type": "markdown",
      "metadata": {
        "id": "ZhYtKCEnDHW4"
      },
      "source": [
        "## Uso de tablas de contingencia con Pandas"
      ]
    },
    {
      "cell_type": "code",
      "execution_count": 91,
      "metadata": {
        "colab": {
          "base_uri": "https://localhost:8080/",
          "height": 206
        },
        "id": "3lbgmvcgJFEl",
        "outputId": "30d9f623-6798-433c-e53d-72da121813f6"
      },
      "outputs": [
        {
          "data": {
            "text/html": [
              "<div>\n",
              "<style scoped>\n",
              "    .dataframe tbody tr th:only-of-type {\n",
              "        vertical-align: middle;\n",
              "    }\n",
              "\n",
              "    .dataframe tbody tr th {\n",
              "        vertical-align: top;\n",
              "    }\n",
              "\n",
              "    .dataframe thead th {\n",
              "        text-align: right;\n",
              "    }\n",
              "</style>\n",
              "<table border=\"1\" class=\"dataframe\">\n",
              "  <thead>\n",
              "    <tr style=\"text-align: right;\">\n",
              "      <th>ship_mode</th>\n",
              "      <th>First Class</th>\n",
              "      <th>Same Day</th>\n",
              "      <th>Second Class</th>\n",
              "      <th>Standard Class</th>\n",
              "    </tr>\n",
              "    <tr>\n",
              "      <th>region</th>\n",
              "      <th></th>\n",
              "      <th></th>\n",
              "      <th></th>\n",
              "      <th></th>\n",
              "    </tr>\n",
              "  </thead>\n",
              "  <tbody>\n",
              "    <tr>\n",
              "      <th>Central</th>\n",
              "      <td>299</td>\n",
              "      <td>120</td>\n",
              "      <td>465</td>\n",
              "      <td>1439</td>\n",
              "    </tr>\n",
              "    <tr>\n",
              "      <th>East</th>\n",
              "      <td>490</td>\n",
              "      <td>155</td>\n",
              "      <td>530</td>\n",
              "      <td>1673</td>\n",
              "    </tr>\n",
              "    <tr>\n",
              "      <th>South</th>\n",
              "      <td>234</td>\n",
              "      <td>83</td>\n",
              "      <td>329</td>\n",
              "      <td>974</td>\n",
              "    </tr>\n",
              "    <tr>\n",
              "      <th>West</th>\n",
              "      <td>515</td>\n",
              "      <td>185</td>\n",
              "      <td>621</td>\n",
              "      <td>1882</td>\n",
              "    </tr>\n",
              "  </tbody>\n",
              "</table>\n",
              "</div>"
            ],
            "text/plain": [
              "ship_mode  First Class  Same Day  Second Class  Standard Class\n",
              "region                                                        \n",
              "Central            299       120           465            1439\n",
              "East               490       155           530            1673\n",
              "South              234        83           329             974\n",
              "West               515       185           621            1882"
            ]
          },
          "execution_count": 91,
          "metadata": {},
          "output_type": "execute_result"
        }
      ],
      "source": [
        "# Ejemplos\n",
        "# Agrupar por variables más grandes para tener una visión más amplia\n",
        "table_region = pd.crosstab(index=df.region, columns=df.ship_mode)\n",
        "table_region"
      ]
    },
    {
      "cell_type": "code",
      "execution_count": 92,
      "metadata": {},
      "outputs": [
        {
          "data": {
            "text/html": [
              "<div>\n",
              "<style scoped>\n",
              "    .dataframe tbody tr th:only-of-type {\n",
              "        vertical-align: middle;\n",
              "    }\n",
              "\n",
              "    .dataframe tbody tr th {\n",
              "        vertical-align: top;\n",
              "    }\n",
              "\n",
              "    .dataframe thead th {\n",
              "        text-align: right;\n",
              "    }\n",
              "</style>\n",
              "<table border=\"1\" class=\"dataframe\">\n",
              "  <thead>\n",
              "    <tr style=\"text-align: right;\">\n",
              "      <th>segmento</th>\n",
              "      <th>alto_alto</th>\n",
              "      <th>alto_bajo</th>\n",
              "      <th>bajo_alto</th>\n",
              "      <th>bajo_bajo</th>\n",
              "      <th>Total</th>\n",
              "    </tr>\n",
              "    <tr>\n",
              "      <th>region</th>\n",
              "      <th></th>\n",
              "      <th></th>\n",
              "      <th></th>\n",
              "      <th></th>\n",
              "      <th></th>\n",
              "    </tr>\n",
              "  </thead>\n",
              "  <tbody>\n",
              "    <tr>\n",
              "      <th>Central</th>\n",
              "      <td>318</td>\n",
              "      <td>211</td>\n",
              "      <td>181</td>\n",
              "      <td>1613</td>\n",
              "      <td>2323</td>\n",
              "    </tr>\n",
              "    <tr>\n",
              "      <th>East</th>\n",
              "      <td>421</td>\n",
              "      <td>255</td>\n",
              "      <td>294</td>\n",
              "      <td>1878</td>\n",
              "      <td>2848</td>\n",
              "    </tr>\n",
              "    <tr>\n",
              "      <th>South</th>\n",
              "      <td>279</td>\n",
              "      <td>108</td>\n",
              "      <td>175</td>\n",
              "      <td>1058</td>\n",
              "      <td>1620</td>\n",
              "    </tr>\n",
              "    <tr>\n",
              "      <th>West</th>\n",
              "      <td>517</td>\n",
              "      <td>251</td>\n",
              "      <td>366</td>\n",
              "      <td>2069</td>\n",
              "      <td>3203</td>\n",
              "    </tr>\n",
              "    <tr>\n",
              "      <th>Total</th>\n",
              "      <td>1535</td>\n",
              "      <td>825</td>\n",
              "      <td>1016</td>\n",
              "      <td>6618</td>\n",
              "      <td>9994</td>\n",
              "    </tr>\n",
              "  </tbody>\n",
              "</table>\n",
              "</div>"
            ],
            "text/plain": [
              "segmento  alto_alto  alto_bajo  bajo_alto  bajo_bajo  Total\n",
              "region                                                     \n",
              "Central         318        211        181       1613   2323\n",
              "East            421        255        294       1878   2848\n",
              "South           279        108        175       1058   1620\n",
              "West            517        251        366       2069   3203\n",
              "Total          1535        825       1016       6618   9994"
            ]
          },
          "execution_count": 92,
          "metadata": {},
          "output_type": "execute_result"
        }
      ],
      "source": [
        "# Agrupar por variables más grandes para tener una visión más amplia\n",
        "table_region = pd.crosstab(index=df.region, columns=df.segmento, margins=True, margins_name=\"Total\")\n",
        "table_region"
      ]
    },
    {
      "cell_type": "markdown",
      "metadata": {
        "id": "voDKpxHPKlbQ"
      },
      "source": [
        "## Análisis Univariado\n",
        "* Analizar los tipos de distribución de las variables numéricas.\n",
        "* Use estadística descriptiva\n",
        "* Probar distribución normal. Investigar los test y scripts para desarrollar esto.\n",
        "* Recomiendo revisar la librería Scipy y los gráficos de distribución de Seaborn y Matplotlib\n",
        "  * Link: https://scipy.org/\n",
        "* Investigar sobre los test de normalidad y su implementación en Python\n",
        "  * Link: https://docs.scipy.org/doc/scipy/reference/generated/scipy.stats.normaltest.html\n",
        "* Investigar sobre pruebas para variables categoricas y su implementación en Python\n",
        "  * Link: https://docs.scipy.org/doc/scipy/reference/generated/scipy.stats.chi2_contingency.html\n",
        "* Investigar sobre pruebas para variables numéricas (t-test) y su implementación en Python\n",
        "  * Link: https://docs.scipy.org/doc/scipy/reference/generated/scipy.stats.ttest_ind.html"
      ]
    },
    {
      "cell_type": "markdown",
      "metadata": {},
      "source": [
        "# Análisis de Componentes Principales (PCA)"
      ]
    },
    {
      "cell_type": "code",
      "execution_count": 93,
      "metadata": {},
      "outputs": [],
      "source": [
        "import numpy as np\n",
        "import matplotlib.pyplot as plt\n",
        "\n",
        "class PCA:\n",
        "    def __init__(self, n_components):\n",
        "        self.n_components = n_components\n",
        "        self.components = None\n",
        "        self.mean = None\n",
        "    \n",
        "    def fit(self, X):\n",
        "        # Center data\n",
        "        self.mean = np.mean(X, axis=0)\n",
        "        X = X - self.mean\n",
        "\n",
        "        # Cálculo de la matriz de covarianza\n",
        "        cov = np.cov(X, rowvar=False)\n",
        "\n",
        "        # Cálculo de los autovalores y autovectores\n",
        "        eigenvalues, eigenvectors = np.linalg.eigh(cov)\n",
        "        # Ordenar los autovectores de mayor a menor\n",
        "        idx = np.argsort(eigenvalues)[::-1]\n",
        "        eigenvalues = eigenvalues[idx]\n",
        "        eigenvectors = eigenvectors[:,idx]\n",
        "\n",
        "        # Seleccionar los n_components eigenvectors como componentes principales\n",
        "        self.components = eigenvectors[:,:self.n_components]\n",
        "\n",
        "        # Calcular y almacenar los autovalores en la instancia\n",
        "        self.explained_variance_ = eigenvalues[:self.n_components]\n",
        "\n",
        "    def transform(self, X):\n",
        "        # Proyectar los datos en el nuevo espacio\n",
        "        X = X - self.mean\n",
        "        X_transformed = np.dot(X, self.components)\n",
        "        return X_transformed\n",
        "    "
      ]
    },
    {
      "cell_type": "code",
      "execution_count": 94,
      "metadata": {},
      "outputs": [
        {
          "name": "stdout",
          "output_type": "stream",
          "text": [
            "(9994, 2)\n"
          ]
        }
      ],
      "source": [
        "# Creación de la instancia PCA\n",
        "pca = PCA(n_components=2)\n",
        "pca.fit(df[['sales', 'profit']].values)\n",
        "X_pca = pca.transform(df[['sales', 'profit']].values)\n",
        "print(X_pca.shape)"
      ]
    },
    {
      "cell_type": "code",
      "execution_count": 95,
      "metadata": {},
      "outputs": [
        {
          "data": {
            "image/png": "[encoded data removed]",
            "text/plain": [
              "<Figure size 432x288 with 1 Axes>"
            ]
          },
          "metadata": {},
          "output_type": "display_data"
        }
      ],
      "source": [
        "# Visualización de los datos transformados\n",
        "plot = plt.scatter(X_pca[:,0], X_pca[:,1], c=df['profit'], alpha=0.5)\n",
        "for length, vector in zip(pca.explained_variance_, pca.components.T):\n",
        "    v = vector * 2 * np.sqrt(length)\n",
        "    plot = plt.plot([0, v[0]], [0, v[1]], '-k', lw=3)\n",
        "\n",
        "plt.show()"
      ]
    },
    {
      "cell_type": "code",
      "execution_count": 96,
      "metadata": {},
      "outputs": [],
      "source": [
        "# Crear un DataFrame con las componentes principales\n",
        "# pca_df = pd.DataFrame(data=X_pca, columns=['PC1', 'PC2', 'PC3'])\n",
        "\n",
        "# Agregar otras columnas necesarias del DataFrame original si es necesario\n",
        "# pca_df['sales'] = df['sales']\n",
        "# pca_df['profit'] = df['profit']\n",
        "# pca_df['segmento'] = df['segmento']\n",
        "\n",
        "# Ahora, 'pca_df' es un nuevo DataFrame que contiene las componentes principales junto con otras columnas relevantes."
      ]
    },
    {
      "cell_type": "markdown",
      "metadata": {
        "id": "uaPuG--n_fhP"
      },
      "source": [
        "# Finanzas (2ptos)\n",
        "### Que ciudades son las que tiene mejor Profit\n",
        "1. Rentabilidad entre categorías. Evidencia estadística\n",
        "2. Rentabilidad entre segmentos. Hay diferencia estadística"
      ]
    },
    {
      "cell_type": "code",
      "execution_count": 97,
      "metadata": {
        "id": "MhAoL34y_fTW"
      },
      "outputs": [
        {
          "data": {
            "text/html": [
              "<div>\n",
              "<style scoped>\n",
              "    .dataframe tbody tr th:only-of-type {\n",
              "        vertical-align: middle;\n",
              "    }\n",
              "\n",
              "    .dataframe tbody tr th {\n",
              "        vertical-align: top;\n",
              "    }\n",
              "\n",
              "    .dataframe thead tr th {\n",
              "        text-align: left;\n",
              "    }\n",
              "\n",
              "    .dataframe thead tr:last-of-type th {\n",
              "        text-align: right;\n",
              "    }\n",
              "</style>\n",
              "<table border=\"1\" class=\"dataframe\">\n",
              "  <thead>\n",
              "    <tr>\n",
              "      <th></th>\n",
              "      <th>mean</th>\n",
              "      <th>median</th>\n",
              "      <th>std</th>\n",
              "    </tr>\n",
              "    <tr>\n",
              "      <th></th>\n",
              "      <th>porcentaje_profit</th>\n",
              "      <th>porcentaje_profit</th>\n",
              "      <th>porcentaje_profit</th>\n",
              "    </tr>\n",
              "    <tr>\n",
              "      <th>category</th>\n",
              "      <th></th>\n",
              "      <th></th>\n",
              "      <th></th>\n",
              "    </tr>\n",
              "  </thead>\n",
              "  <tbody>\n",
              "    <tr>\n",
              "      <th>Furniture</th>\n",
              "      <td>0.04</td>\n",
              "      <td>0.11</td>\n",
              "      <td>0.34</td>\n",
              "    </tr>\n",
              "    <tr>\n",
              "      <th>Office Supplies</th>\n",
              "      <td>0.14</td>\n",
              "      <td>0.32</td>\n",
              "      <td>0.55</td>\n",
              "    </tr>\n",
              "    <tr>\n",
              "      <th>Technology</th>\n",
              "      <td>0.16</td>\n",
              "      <td>0.18</td>\n",
              "      <td>0.23</td>\n",
              "    </tr>\n",
              "    <tr>\n",
              "      <th>Total</th>\n",
              "      <td>0.12</td>\n",
              "      <td>0.27</td>\n",
              "      <td>0.47</td>\n",
              "    </tr>\n",
              "  </tbody>\n",
              "</table>\n",
              "</div>"
            ],
            "text/plain": [
              "                             mean            median               std\n",
              "                porcentaje_profit porcentaje_profit porcentaje_profit\n",
              "category                                                             \n",
              "Furniture                    0.04              0.11              0.34\n",
              "Office Supplies              0.14              0.32              0.55\n",
              "Technology                   0.16              0.18              0.23\n",
              "Total                        0.12              0.27              0.47"
            ]
          },
          "execution_count": 97,
          "metadata": {},
          "output_type": "execute_result"
        }
      ],
      "source": [
        "# 1. Rentabilidad entre categorías\n",
        "# Buscamos a través de un pivot_table la rentabilidad por categoría\n",
        "tabla_profit_categoria = pd.pivot_table(df, values=['porcentaje_profit'], index=['category'], aggfunc=['mean','median','std'], margins=True, margins_name=\"Total\").round(2)\n",
        "tabla_profit_categoria"
      ]
    },
    {
      "cell_type": "code",
      "execution_count": 98,
      "metadata": {},
      "outputs": [
        {
          "data": {
            "image/png": "[encoded data removed]",
            "text/plain": [
              "<Figure size 1080x720 with 1 Axes>"
            ]
          },
          "metadata": {},
          "output_type": "display_data"
        }
      ],
      "source": [
        "# Como ya generamos una columna con el porcentaje de profit, podemos usarla para crear un subset de datos que nos permita visualizar la rentabilidad por categoría\n",
        "tmp_rent_categoria = df[['category','porcentaje_profit']]\n",
        "# Visualizamos la distribución de la rentabilidad por categoría\n",
        "plt.figure(figsize=(15,10))\n",
        "sns.boxplot(x=tmp_rent_categoria['category'], y=tmp_rent_categoria['porcentaje_profit'], data=tmp_rent_categoria)\n",
        "plt.title('Distribución de la rentabilidad por categoría', fontsize=14, fontweight='bold', y=1.05)\n",
        "plt.xlabel('Categoría', fontsize=12, labelpad=15, fontweight='bold')\n",
        "plt.ylabel('Rentabilidad', fontsize=12, labelpad=15, fontweight='bold')\n",
        "plt.xticks(rotation=0)\n",
        "plt.show()"
      ]
    },
    {
      "cell_type": "code",
      "execution_count": 99,
      "metadata": {},
      "outputs": [
        {
          "data": {
            "image/png": "[encoded data removed]",
            "text/plain": [
              "<Figure size 1440x360 with 3 Axes>"
            ]
          },
          "metadata": {},
          "output_type": "display_data"
        }
      ],
      "source": [
        "# La otra opción es visualizar las distribuciones de las rentabilidades por categoría en gráficos distintos, a través de un histograma de matplotlib a través de un subplot de matplotlib, iterando por cada categoría a través de un for\n",
        "plt.figure(figsize=(20,5))\n",
        "plt.subplot(1,3,1)\n",
        "plt.hist(tmp_rent_categoria[tmp_rent_categoria['category']=='Furniture']['porcentaje_profit'], bins=50, alpha=0.5, label='Furniture')\n",
        "plt.title('Distribución de la rentabilidad por categoría Furniture', fontsize=14, fontweight='bold')\n",
        "plt.xlabel('Rentabilidad', fontsize=12, labelpad=15, fontweight='bold')\n",
        "plt.ylabel('Frecuencia', fontsize=12, labelpad=15, fontweight='bold')\n",
        "# Incluir la media y la mediana en el gráfico a través de líneas verticales\n",
        "plt.axvline(tmp_rent_categoria[tmp_rent_categoria['category']=='Furniture']['porcentaje_profit'].mean(), color='red', linestyle='--', linewidth=1.5)\n",
        "plt.axvline(tmp_rent_categoria[tmp_rent_categoria['category']=='Furniture']['porcentaje_profit'].median(), color='green', linestyle='--', linewidth=1.5)\n",
        "\n",
        "\n",
        "\n",
        "plt.subplot(1,3,2)\n",
        "plt.hist(tmp_rent_categoria[tmp_rent_categoria['category']=='Office Supplies']['porcentaje_profit'], bins=50, alpha=0.5, label='Office Supplies')\n",
        "plt.title('Distribución de la rentabilidad por categoría Office Supplies', fontsize=14, fontweight='bold')\n",
        "plt.xlabel('Rentabilidad', fontsize=12, labelpad=15, fontweight='bold')\n",
        "plt.ylabel('Frecuencia', fontsize=12, labelpad=15, fontweight='bold')\n",
        "# Incluir la media y la mediana en el gráfico a través de líneas verticales\n",
        "plt.axvline(tmp_rent_categoria[tmp_rent_categoria['category']=='Office Supplies']['porcentaje_profit'].mean(), color='red', linestyle='--', linewidth=1.5)\n",
        "plt.axvline(tmp_rent_categoria[tmp_rent_categoria['category']=='Office Supplies']['porcentaje_profit'].median(), color='green', linestyle='--', linewidth=1.5)\n",
        "\n",
        "\n",
        "plt.subplot(1,3,3)\n",
        "plt.hist(tmp_rent_categoria[tmp_rent_categoria['category']=='Technology']['porcentaje_profit'], bins=50, alpha=0.5, label='Technology')\n",
        "plt.title('Distribución de la rentabilidad por categoría Technology', fontsize=14, fontweight='bold')\n",
        "plt.xlabel('Rentabilidad', fontsize=12, labelpad=15, fontweight='bold')\n",
        "plt.ylabel('Frecuencia', fontsize=12, labelpad=15, fontweight='bold')\n",
        "# Incluir la media y la mediana en el gráfico a través de líneas verticales\n",
        "plt.axvline(tmp_rent_categoria[tmp_rent_categoria['category']=='Technology']['porcentaje_profit'].mean(), color='red', linestyle='--', linewidth=1.5)\n",
        "plt.axvline(tmp_rent_categoria[tmp_rent_categoria['category']=='Technology']['porcentaje_profit'].median(), color='green', linestyle='--', linewidth=1.5)\n",
        "\n",
        "\n",
        "\n",
        "plt.xticks(rotation=0)\n",
        "plt.tight_layout()\n",
        "plt.show();\n"
      ]
    },
    {
      "cell_type": "markdown",
      "metadata": {},
      "source": [
        "### Probaremos si hay diferencia estadística entre las categorías de productos\n",
        "* H0: No hay diferencia estadística entre las categorías de productos\n",
        "* H1: Existe diferencia estadística entre las categorías de productos"
      ]
    },
    {
      "cell_type": "code",
      "execution_count": 100,
      "metadata": {},
      "outputs": [
        {
          "name": "stdout",
          "output_type": "stream",
          "text": [
            "Statistics=0.851, p=0.000\n",
            "La distribución de la rentabilidad de la categoría Furniture NO parece normal (se rechaza H0)\n",
            "Statistics=0.612, p=0.000\n",
            "La distribución de la rentabilidad de la categoría Office Supplies NO parece normal (se rechaza H0)\n",
            "Statistics=0.831, p=0.000\n",
            "La distribución de la rentabilidad de la categoría Technology NO parece normal (se rechaza H0)\n"
          ]
        }
      ],
      "source": [
        "# Debemos testear si hay normalidad en la distribución de las rentabilidades por categoría, para ello usamos el test de Shapiro-Wilk\n",
        "# H0: La distribución es normal\n",
        "# H1: La distribución no es normal\n",
        "\n",
        "# Test de Shapiro-Wilk\n",
        "# Furniture\n",
        "stat, p = stats.shapiro(tmp_rent_categoria[tmp_rent_categoria['category']=='Furniture']['porcentaje_profit'])\n",
        "print('Statistics=%.3f, p=%.3f' % (stat, p))\n",
        "# interpretación\n",
        "alpha = 0.05\n",
        "if p > alpha:\n",
        "    print('La distribución de la rentabilidad de la categoría Furniture parece normal (no se rechaza H0)')\n",
        "else:\n",
        "    print('La distribución de la rentabilidad de la categoría Furniture NO parece normal (se rechaza H0)')\n",
        "\n",
        "# Office Supplies\n",
        "stat, p = stats.shapiro(tmp_rent_categoria[tmp_rent_categoria['category']=='Office Supplies']['porcentaje_profit'])\n",
        "print('Statistics=%.3f, p=%.3f' % (stat, p))\n",
        "# interpretación\n",
        "alpha = 0.05\n",
        "if p > alpha:\n",
        "    print('La distribución de la rentabilidad de la categoría Office Supplies parece normal (no se rechaza H0)')\n",
        "else:\n",
        "    print('La distribución de la rentabilidad de la categoría Office Supplies NO parece normal (se rechaza H0)')\n",
        "\n",
        "# Technology\n",
        "stat, p = stats.shapiro(tmp_rent_categoria[tmp_rent_categoria['category']=='Technology']['porcentaje_profit'])\n",
        "print('Statistics=%.3f, p=%.3f' % (stat, p))\n",
        "# interpretación\n",
        "alpha = 0.05\n",
        "if p > alpha:\n",
        "    print('La distribución de la rentabilidad de la categoría Technology parece normal (no se rechaza H0)')\n",
        "else:\n",
        "    print('La distribución de la rentabilidad de la categoría Technology NO parece normal (se rechaza H0)')\n"
      ]
    },
    {
      "cell_type": "markdown",
      "metadata": {},
      "source": [
        "### Transformación de la data:\n",
        "* Sólo ejemplo y para practicar el código pondremos en práctica algunas transformaciones\n",
        "* Recuerden que deben hacerlo para todas las variables numéricas"
      ]
    },
    {
      "cell_type": "code",
      "execution_count": 101,
      "metadata": {},
      "outputs": [
        {
          "data": {
            "text/html": [
              "<div>\n",
              "<style scoped>\n",
              "    .dataframe tbody tr th:only-of-type {\n",
              "        vertical-align: middle;\n",
              "    }\n",
              "\n",
              "    .dataframe tbody tr th {\n",
              "        vertical-align: top;\n",
              "    }\n",
              "\n",
              "    .dataframe thead th {\n",
              "        text-align: right;\n",
              "    }\n",
              "</style>\n",
              "<table border=\"1\" class=\"dataframe\">\n",
              "  <thead>\n",
              "    <tr style=\"text-align: right;\">\n",
              "      <th></th>\n",
              "      <th>category</th>\n",
              "      <th>porcentaje_profit</th>\n",
              "      <th>log_rentabilidad</th>\n",
              "    </tr>\n",
              "  </thead>\n",
              "  <tbody>\n",
              "    <tr>\n",
              "      <th>0</th>\n",
              "      <td>Furniture</td>\n",
              "      <td>0.1600</td>\n",
              "      <td>-1.832581</td>\n",
              "    </tr>\n",
              "    <tr>\n",
              "      <th>1</th>\n",
              "      <td>Furniture</td>\n",
              "      <td>0.3000</td>\n",
              "      <td>-1.203973</td>\n",
              "    </tr>\n",
              "    <tr>\n",
              "      <th>2</th>\n",
              "      <td>Office Supplies</td>\n",
              "      <td>0.4700</td>\n",
              "      <td>-0.755023</td>\n",
              "    </tr>\n",
              "    <tr>\n",
              "      <th>3</th>\n",
              "      <td>Furniture</td>\n",
              "      <td>-0.4000</td>\n",
              "      <td>NaN</td>\n",
              "    </tr>\n",
              "    <tr>\n",
              "      <th>4</th>\n",
              "      <td>Office Supplies</td>\n",
              "      <td>0.1125</td>\n",
              "      <td>-2.184802</td>\n",
              "    </tr>\n",
              "  </tbody>\n",
              "</table>\n",
              "</div>"
            ],
            "text/plain": [
              "          category  porcentaje_profit  log_rentabilidad\n",
              "0        Furniture             0.1600         -1.832581\n",
              "1        Furniture             0.3000         -1.203973\n",
              "2  Office Supplies             0.4700         -0.755023\n",
              "3        Furniture            -0.4000               NaN\n",
              "4  Office Supplies             0.1125         -2.184802"
            ]
          },
          "execution_count": 101,
          "metadata": {},
          "output_type": "execute_result"
        }
      ],
      "source": [
        "# Creamos una nueva columna con la transformación logarítmica de la rentabilidad en nuestro subset de datos\n",
        "tmp_rent_categoria['log_rentabilidad'] = np.log(tmp_rent_categoria['porcentaje_profit'])\n",
        "tmp_rent_categoria.head(5)"
      ]
    },
    {
      "cell_type": "markdown",
      "metadata": {},
      "source": [
        "# y que hacemos con los valores NAN?"
      ]
    },
    {
      "cell_type": "markdown",
      "metadata": {},
      "source": [
        "### Normalización de la data: MinMaxScaler\n",
        "* La normalización es un proceso para escalar los valores numéricos en un rango específico, como [0, 1], mientras mantiene la distribución de los datos.\n",
        "* Uno de los métodos más comunes para normalizar datos es el método Min-Max, que utiliza la fórmula siguiente:\n",
        "$X = (X - X.min / (X.max - X.min)$\n",
        "* Link: https://scikit-learn.org/stable/modules/generated/sklearn.preprocessing.MinMaxScaler.html\n"
      ]
    },
    {
      "cell_type": "code",
      "execution_count": 103,
      "metadata": {},
      "outputs": [
        {
          "name": "stdout",
          "output_type": "stream",
          "text": [
            "Mínimo:  -inf\n",
            "Máximo:  -0.6931471805599453\n",
            "Rango:  inf\n"
          ]
        }
      ],
      "source": [
        "# Vamos a implementar una transformación MinMaxScaler para normalizar los datos de la rentabilidad.\n",
        "# Primero lo haremos paso a paso, para luego implementar una función que nos permita hacerlo de manera automática\n",
        "# Calculamos el mínimo y el máximo de la rentabilidad\n",
        "minimo = tmp_rent_categoria['log_rentabilidad'].min()\n",
        "maximo = tmp_rent_categoria['log_rentabilidad'].max()\n",
        "print('Mínimo: ', minimo)\n",
        "print('Máximo: ', maximo)\n",
        "\n",
        "# Calculamos el rango de la rentabilidad\n",
        "rango = maximo - minimo\n",
        "print('Rango: ', rango)"
      ]
    },
    {
      "cell_type": "code",
      "execution_count": 104,
      "metadata": {},
      "outputs": [
        {
          "data": {
            "text/html": [
              "<div>\n",
              "<style scoped>\n",
              "    .dataframe tbody tr th:only-of-type {\n",
              "        vertical-align: middle;\n",
              "    }\n",
              "\n",
              "    .dataframe tbody tr th {\n",
              "        vertical-align: top;\n",
              "    }\n",
              "\n",
              "    .dataframe thead th {\n",
              "        text-align: right;\n",
              "    }\n",
              "</style>\n",
              "<table border=\"1\" class=\"dataframe\">\n",
              "  <thead>\n",
              "    <tr style=\"text-align: right;\">\n",
              "      <th></th>\n",
              "      <th>category</th>\n",
              "      <th>porcentaje_profit</th>\n",
              "      <th>log_rentabilidad</th>\n",
              "      <th>rentabilidad_minmax_normalizada</th>\n",
              "    </tr>\n",
              "  </thead>\n",
              "  <tbody>\n",
              "    <tr>\n",
              "      <th>0</th>\n",
              "      <td>Furniture</td>\n",
              "      <td>0.1600</td>\n",
              "      <td>-1.832581</td>\n",
              "      <td>NaN</td>\n",
              "    </tr>\n",
              "    <tr>\n",
              "      <th>1</th>\n",
              "      <td>Furniture</td>\n",
              "      <td>0.3000</td>\n",
              "      <td>-1.203973</td>\n",
              "      <td>NaN</td>\n",
              "    </tr>\n",
              "    <tr>\n",
              "      <th>2</th>\n",
              "      <td>Office Supplies</td>\n",
              "      <td>0.4700</td>\n",
              "      <td>-0.755023</td>\n",
              "      <td>NaN</td>\n",
              "    </tr>\n",
              "    <tr>\n",
              "      <th>3</th>\n",
              "      <td>Furniture</td>\n",
              "      <td>-0.4000</td>\n",
              "      <td>NaN</td>\n",
              "      <td>NaN</td>\n",
              "    </tr>\n",
              "    <tr>\n",
              "      <th>4</th>\n",
              "      <td>Office Supplies</td>\n",
              "      <td>0.1125</td>\n",
              "      <td>-2.184802</td>\n",
              "      <td>NaN</td>\n",
              "    </tr>\n",
              "  </tbody>\n",
              "</table>\n",
              "</div>"
            ],
            "text/plain": [
              "          category  porcentaje_profit  log_rentabilidad  \\\n",
              "0        Furniture             0.1600         -1.832581   \n",
              "1        Furniture             0.3000         -1.203973   \n",
              "2  Office Supplies             0.4700         -0.755023   \n",
              "3        Furniture            -0.4000               NaN   \n",
              "4  Office Supplies             0.1125         -2.184802   \n",
              "\n",
              "   rentabilidad_minmax_normalizada  \n",
              "0                              NaN  \n",
              "1                              NaN  \n",
              "2                              NaN  \n",
              "3                              NaN  \n",
              "4                              NaN  "
            ]
          },
          "execution_count": 104,
          "metadata": {},
          "output_type": "execute_result"
        }
      ],
      "source": [
        "# Calculamos la rentabilidad normalizada\n",
        "tmp_rent_categoria['rentabilidad_minmax_normalizada'] = (tmp_rent_categoria['log_rentabilidad'] - minimo) / rango\n",
        "tmp_rent_categoria.head(5)\n"
      ]
    },
    {
      "cell_type": "code",
      "execution_count": 105,
      "metadata": {},
      "outputs": [
        {
          "data": {
            "text/html": [
              "<div>\n",
              "<style scoped>\n",
              "    .dataframe tbody tr th:only-of-type {\n",
              "        vertical-align: middle;\n",
              "    }\n",
              "\n",
              "    .dataframe tbody tr th {\n",
              "        vertical-align: top;\n",
              "    }\n",
              "\n",
              "    .dataframe thead th {\n",
              "        text-align: right;\n",
              "    }\n",
              "</style>\n",
              "<table border=\"1\" class=\"dataframe\">\n",
              "  <thead>\n",
              "    <tr style=\"text-align: right;\">\n",
              "      <th></th>\n",
              "      <th>category</th>\n",
              "      <th>porcentaje_profit</th>\n",
              "      <th>log_rentabilidad</th>\n",
              "      <th>rentabilidad_minmax_normalizada</th>\n",
              "      <th>log_rentabilidad_minmax_normalizada</th>\n",
              "    </tr>\n",
              "  </thead>\n",
              "  <tbody>\n",
              "    <tr>\n",
              "      <th>0</th>\n",
              "      <td>Furniture</td>\n",
              "      <td>0.1600</td>\n",
              "      <td>-1.832581</td>\n",
              "      <td>NaN</td>\n",
              "      <td>NaN</td>\n",
              "    </tr>\n",
              "    <tr>\n",
              "      <th>1</th>\n",
              "      <td>Furniture</td>\n",
              "      <td>0.3000</td>\n",
              "      <td>-1.203973</td>\n",
              "      <td>NaN</td>\n",
              "      <td>NaN</td>\n",
              "    </tr>\n",
              "    <tr>\n",
              "      <th>2</th>\n",
              "      <td>Office Supplies</td>\n",
              "      <td>0.4700</td>\n",
              "      <td>-0.755023</td>\n",
              "      <td>NaN</td>\n",
              "      <td>NaN</td>\n",
              "    </tr>\n",
              "    <tr>\n",
              "      <th>3</th>\n",
              "      <td>Furniture</td>\n",
              "      <td>-0.4000</td>\n",
              "      <td>NaN</td>\n",
              "      <td>NaN</td>\n",
              "      <td>NaN</td>\n",
              "    </tr>\n",
              "    <tr>\n",
              "      <th>4</th>\n",
              "      <td>Office Supplies</td>\n",
              "      <td>0.1125</td>\n",
              "      <td>-2.184802</td>\n",
              "      <td>NaN</td>\n",
              "      <td>NaN</td>\n",
              "    </tr>\n",
              "  </tbody>\n",
              "</table>\n",
              "</div>"
            ],
            "text/plain": [
              "          category  porcentaje_profit  log_rentabilidad  \\\n",
              "0        Furniture             0.1600         -1.832581   \n",
              "1        Furniture             0.3000         -1.203973   \n",
              "2  Office Supplies             0.4700         -0.755023   \n",
              "3        Furniture            -0.4000               NaN   \n",
              "4  Office Supplies             0.1125         -2.184802   \n",
              "\n",
              "   rentabilidad_minmax_normalizada  log_rentabilidad_minmax_normalizada  \n",
              "0                              NaN                                  NaN  \n",
              "1                              NaN                                  NaN  \n",
              "2                              NaN                                  NaN  \n",
              "3                              NaN                                  NaN  \n",
              "4                              NaN                                  NaN  "
            ]
          },
          "execution_count": 105,
          "metadata": {},
          "output_type": "execute_result"
        }
      ],
      "source": [
        "# Vamos a implementar una función que nos permita hacer la transformación MinMaxScaler de manera automática\n",
        "def minmax_scaler(dataframe, columna):\n",
        "    minimo = dataframe[columna].min()\n",
        "    maximo = dataframe[columna].max()\n",
        "    rango = maximo - minimo\n",
        "    dataframe[columna + '_minmax_normalizada'] = (dataframe[columna] - minimo) / rango\n",
        "    return dataframe\n",
        "\n",
        "# Aplicamos la función a nuestro subset de datos\n",
        "minmax_scaler(tmp_rent_categoria, 'log_rentabilidad')\n",
        "tmp_rent_categoria.head(5)\n"
      ]
    },
    {
      "cell_type": "code",
      "execution_count": 106,
      "metadata": {},
      "outputs": [
        {
          "data": {
            "image/png": "[encoded data removed]",
            "text/plain": [
              "<Figure size 1080x720 with 1 Axes>"
            ]
          },
          "metadata": {},
          "output_type": "display_data"
        }
      ],
      "source": [
        "# Visualizamos la distribución de la rentabilidad normalizada\n",
        "plt.figure(figsize=(15,10))\n",
        "sns.boxplot(x=tmp_rent_categoria['category'], y=tmp_rent_categoria['rentabilidad_minmax_normalizada'], data=tmp_rent_categoria)\n",
        "plt.title('Distribución de la rentabilidad normalizada por categoría', fontsize=14, fontweight='bold', y=1.05)\n",
        "plt.xlabel('Categoría', fontsize=12, labelpad=15, fontweight='bold')\n",
        "plt.ylabel('Rentabilidad normalizada', fontsize=12, labelpad=15, fontweight='bold')\n",
        "plt.xticks(rotation=0)\n",
        "plt.show()"
      ]
    },
    {
      "cell_type": "code",
      "execution_count": 107,
      "metadata": {},
      "outputs": [
        {
          "data": {
            "text/html": [
              "<div>\n",
              "<style scoped>\n",
              "    .dataframe tbody tr th:only-of-type {\n",
              "        vertical-align: middle;\n",
              "    }\n",
              "\n",
              "    .dataframe tbody tr th {\n",
              "        vertical-align: top;\n",
              "    }\n",
              "\n",
              "    .dataframe thead th {\n",
              "        text-align: right;\n",
              "    }\n",
              "</style>\n",
              "<table border=\"1\" class=\"dataframe\">\n",
              "  <thead>\n",
              "    <tr style=\"text-align: right;\">\n",
              "      <th></th>\n",
              "      <th>category</th>\n",
              "      <th>porcentaje_profit</th>\n",
              "      <th>log_rentabilidad</th>\n",
              "      <th>rentabilidad_minmax_normalizada</th>\n",
              "      <th>log_rentabilidad_minmax_normalizada</th>\n",
              "      <th>log_rentabilidad_standard_normalizada</th>\n",
              "    </tr>\n",
              "  </thead>\n",
              "  <tbody>\n",
              "    <tr>\n",
              "      <th>0</th>\n",
              "      <td>Furniture</td>\n",
              "      <td>0.1600</td>\n",
              "      <td>-1.832581</td>\n",
              "      <td>NaN</td>\n",
              "      <td>NaN</td>\n",
              "      <td>NaN</td>\n",
              "    </tr>\n",
              "    <tr>\n",
              "      <th>1</th>\n",
              "      <td>Furniture</td>\n",
              "      <td>0.3000</td>\n",
              "      <td>-1.203973</td>\n",
              "      <td>NaN</td>\n",
              "      <td>NaN</td>\n",
              "      <td>NaN</td>\n",
              "    </tr>\n",
              "    <tr>\n",
              "      <th>2</th>\n",
              "      <td>Office Supplies</td>\n",
              "      <td>0.4700</td>\n",
              "      <td>-0.755023</td>\n",
              "      <td>NaN</td>\n",
              "      <td>NaN</td>\n",
              "      <td>NaN</td>\n",
              "    </tr>\n",
              "    <tr>\n",
              "      <th>3</th>\n",
              "      <td>Furniture</td>\n",
              "      <td>-0.4000</td>\n",
              "      <td>NaN</td>\n",
              "      <td>NaN</td>\n",
              "      <td>NaN</td>\n",
              "      <td>NaN</td>\n",
              "    </tr>\n",
              "    <tr>\n",
              "      <th>4</th>\n",
              "      <td>Office Supplies</td>\n",
              "      <td>0.1125</td>\n",
              "      <td>-2.184802</td>\n",
              "      <td>NaN</td>\n",
              "      <td>NaN</td>\n",
              "      <td>NaN</td>\n",
              "    </tr>\n",
              "  </tbody>\n",
              "</table>\n",
              "</div>"
            ],
            "text/plain": [
              "          category  porcentaje_profit  log_rentabilidad  \\\n",
              "0        Furniture             0.1600         -1.832581   \n",
              "1        Furniture             0.3000         -1.203973   \n",
              "2  Office Supplies             0.4700         -0.755023   \n",
              "3        Furniture            -0.4000               NaN   \n",
              "4  Office Supplies             0.1125         -2.184802   \n",
              "\n",
              "   rentabilidad_minmax_normalizada  log_rentabilidad_minmax_normalizada  \\\n",
              "0                              NaN                                  NaN   \n",
              "1                              NaN                                  NaN   \n",
              "2                              NaN                                  NaN   \n",
              "3                              NaN                                  NaN   \n",
              "4                              NaN                                  NaN   \n",
              "\n",
              "   log_rentabilidad_standard_normalizada  \n",
              "0                                    NaN  \n",
              "1                                    NaN  \n",
              "2                                    NaN  \n",
              "3                                    NaN  \n",
              "4                                    NaN  "
            ]
          },
          "execution_count": 107,
          "metadata": {},
          "output_type": "execute_result"
        }
      ],
      "source": [
        "# Vamos a implementar una función que nos permita hacer la transformación StandardScaler de manera automática\n",
        "def standard_scaler(dataframe, columna):\n",
        "    media = dataframe[columna].mean()\n",
        "    desviacion = dataframe[columna].std()\n",
        "    dataframe[columna + '_standard_normalizada'] = (dataframe[columna] - media) / desviacion\n",
        "    return dataframe\n",
        "\n",
        "# Aplicamos la función a nuestro subset de datos\n",
        "standard_scaler(tmp_rent_categoria, 'log_rentabilidad')\n",
        "tmp_rent_categoria.head(5)"
      ]
    },
    {
      "cell_type": "code",
      "execution_count": null,
      "metadata": {},
      "outputs": [],
      "source": []
    },
    {
      "cell_type": "code",
      "execution_count": null,
      "metadata": {},
      "outputs": [],
      "source": []
    },
    {
      "cell_type": "code",
      "execution_count": null,
      "metadata": {},
      "outputs": [],
      "source": []
    },
    {
      "cell_type": "code",
      "execution_count": null,
      "metadata": {},
      "outputs": [],
      "source": []
    },
    {
      "cell_type": "code",
      "execution_count": 108,
      "metadata": {},
      "outputs": [
        {
          "name": "stdout",
          "output_type": "stream",
          "text": [
            "Statistics=nan, p=nan\n",
            "Las varianzas NO parecen iguales (se rechaza H0)\n",
            "Statistics=nan, p=nan\n",
            "Las medias NO parecen iguales (se rechaza H0)\n"
          ]
        }
      ],
      "source": [
        "# Como los datos no son normales, usamos el test de Levene para testear la igualdad de varianzas\n",
        "# H0: Las varianzas son iguales\n",
        "# H1: Las varianzas no son iguales\n",
        "\n",
        "# Test de Levene\n",
        "stat, p = stats.levene(tmp_rent_categoria[tmp_rent_categoria['category']=='Furniture']['log_rentabilidad'], \n",
        "                       tmp_rent_categoria[tmp_rent_categoria['category']=='Office Supplies']['log_rentabilidad'],\n",
        "                       tmp_rent_categoria[tmp_rent_categoria['category']=='Technology']['log_rentabilidad'])\n",
        "print('Statistics=%.3f, p=%.3f' % (stat, p))\n",
        "# interpretación\n",
        "alpha = 0.05\n",
        "if p > alpha:\n",
        "    print('Las varianzas parecen iguales (no se rechaza H0)')\n",
        "else:\n",
        "    print('Las varianzas NO parecen iguales (se rechaza H0)')\n",
        "\n",
        "# Como las varianzas no son iguales, usamos el test de Welch para testear la igualdad de medias\n",
        "# H0: Las medias son iguales\n",
        "# H1: Las medias no son iguales\n",
        "\n",
        "# Test de Welch\n",
        "stat, p = stats.ttest_ind(tmp_rent_categoria[tmp_rent_categoria['category']=='Furniture']['log_rentabilidad'], \n",
        "                       tmp_rent_categoria[tmp_rent_categoria['category']=='Office Supplies']['log_rentabilidad'],\n",
        "                       equal_var=False)\n",
        "print('Statistics=%.3f, p=%.3f' % (stat, p))\n",
        "# interpretación\n",
        "alpha = 0.05\n",
        "if p > alpha:\n",
        "    print('Las medias parecen iguales (no se rechaza H0)')\n",
        "else:\n",
        "    print('Las medias NO parecen iguales (se rechaza H0)')\n"
      ]
    },
    {
      "cell_type": "code",
      "execution_count": null,
      "metadata": {},
      "outputs": [],
      "source": []
    },
    {
      "cell_type": "markdown",
      "metadata": {
        "id": "PkyCuX1j_lfS"
      },
      "source": [
        "# Operaciones (2ptos)\n",
        "### Cuales son los state que tiene mayor nivel de ventas\n",
        "1. A que estados estamos enviando más? Evidencia estadística\n",
        "2. Diferencia entre segmentos. Hay diferencia estadística\n"
      ]
    },
    {
      "cell_type": "code",
      "execution_count": null,
      "metadata": {
        "id": "yzFDqEgQ_rly"
      },
      "outputs": [],
      "source": []
    },
    {
      "cell_type": "markdown",
      "metadata": {
        "id": "U6Uru02e_sRa"
      },
      "source": [
        "# Comercial (2ptos)\n",
        "## Cuales son las categorías de productos más rentables\n",
        "1. Hay diferencias entre categorías? (estadística)\n",
        "2. En que estados se presentan estas diferencias\n",
        "3. En que categorías se detectaron los mayores descuentos"
      ]
    },
    {
      "cell_type": "code",
      "execution_count": null,
      "metadata": {
        "id": "fh8ZsEP6_svT"
      },
      "outputs": [],
      "source": []
    },
    {
      "cell_type": "markdown",
      "metadata": {},
      "source": [
        "# Conclusiones (3ptos)\n",
        "***ATENCIÓN***\n",
        "* Las conclusiones deben incluír las métricas investigadas en los análisis que se realizaron\n",
        "* Se probará su script para que el código sea reproducible\n",
        "\n",
        "1. Que conclusiones podemos sacar de este análisis?\n",
        "2. Que recomendaciones podemos dar a la empresa?\n",
        "3. Que análisis adicionales podemos hacer?"
      ]
    }
  ],
  "metadata": {
    "colab": {
      "provenance": []
    },
    "kernelspec": {
      "display_name": "Python 3",
      "name": "python3"
    },
    "language_info": {
      "codemirror_mode": {
        "name": "ipython",
        "version": 3
      },
      "file_extension": ".py",
      "mimetype": "text/x-python",
      "name": "python",
      "nbconvert_exporter": "python",
      "pygments_lexer": "ipython3",
      "version": "3.10.4"
    }
  },
  "nbformat": 4,
  "nbformat_minor": 0
}
